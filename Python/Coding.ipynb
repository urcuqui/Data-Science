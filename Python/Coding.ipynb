{
 "cells": [
  {
   "cell_type": "code",
   "execution_count": 5,
   "id": "339aeca4",
   "metadata": {},
   "outputs": [],
   "source": [
    "def binary_search(a, k):\n",
    "    \"\"\"\n",
    "    Parameters:\n",
    "        a, the list \n",
    "        k, input to search\n",
    "    Return:\n",
    "        value\n",
    "    \"\"\"\n",
    "    lo, hi = 0, len(a) - 1\n",
    "    best = lo\n",
    "    while lo <= hi:\n",
    "        mid = lo + (hi - lo) // 2\n",
    "        if a[mid] < k:\n",
    "            lo = mid +1\n",
    "        elif a[mid] > k:\n",
    "            hi = mid - 1\n",
    "        else:\n",
    "            best = mid\n",
    "            break\n",
    "        if abs(a[mid]-k) < abs(a[best] - k):\n",
    "            best = mid\n",
    "        return best"
   ]
  },
  {
   "cell_type": "code",
   "execution_count": 9,
   "id": "7e25ea2a",
   "metadata": {},
   "outputs": [
    {
     "data": {
      "text/plain": [
       "1"
      ]
     },
     "execution_count": 9,
     "metadata": {},
     "output_type": "execute_result"
    }
   ],
   "source": [
    "binary_search([1,6,5,10], 9)"
   ]
  },
  {
   "cell_type": "code",
   "execution_count": 14,
   "id": "ab9cf3f7",
   "metadata": {},
   "outputs": [],
   "source": [
    "class Node:\n",
    "    def __init__(self, val):\n",
    "        self.val = val\n",
    "        self.next = None\n",
    "    \n",
    "class LinkedList:\n",
    "    def __init__(self):\n",
    "        self.head = None\n",
    "    def reverse(self):\n",
    "        prev = None\n",
    "        curr = self.head\n",
    "        while curr:\n",
    "            next = curr.next\n",
    "            curr.next = prev\n",
    "            prev = curr\n",
    "            curr = next\n",
    "        self.head = prev\n"
   ]
  },
  {
   "cell_type": "code",
   "execution_count": 17,
   "id": "463467c9",
   "metadata": {},
   "outputs": [],
   "source": [
    "a = Node(3)\n",
    "b = Node(5)\n",
    "a.next = b\n",
    "c = Node(16)\n",
    "c.next = b"
   ]
  },
  {
   "cell_type": "code",
   "execution_count": 20,
   "id": "c415b8e9",
   "metadata": {},
   "outputs": [],
   "source": [
    "lista = LinkedList()\n",
    "lista.head = a"
   ]
  },
  {
   "cell_type": "code",
   "execution_count": 22,
   "id": "c001ff34",
   "metadata": {},
   "outputs": [],
   "source": [
    "lista.reverse()"
   ]
  },
  {
   "cell_type": "code",
   "execution_count": 24,
   "id": "b022ff44",
   "metadata": {},
   "outputs": [
    {
     "data": {
      "text/plain": [
       "5"
      ]
     },
     "execution_count": 24,
     "metadata": {},
     "output_type": "execute_result"
    }
   ],
   "source": [
    "lista.head.val"
   ]
  },
  {
   "cell_type": "markdown",
   "id": "d8167144",
   "metadata": {},
   "source": [
    "using stacks as method to check a str is balanced"
   ]
  },
  {
   "cell_type": "code",
   "execution_count": 6,
   "id": "33c79e49",
   "metadata": {},
   "outputs": [],
   "source": [
    "def check_balance(s):\n",
    "    left_side = [\"(\", \"{\", \"[\"]\n",
    "    right_side = [\")\", \"}\",\"]\"]\n",
    "    stack = []\n",
    "    for i in s:\n",
    "        if i in left_side:\n",
    "            stack.append(i) # push onto stack\n",
    "        elif i in right_side:\n",
    "            pos = right_side.index(i)\n",
    "            # check match\n",
    "            if (len(stack) == 0) or (left_side[pos] != stack[len(stack)-1]):\n",
    "                return False\n",
    "            else:\n",
    "                stack.pop()\n",
    "    if len(stack) == 0: #balanced\n",
    "        return True\n",
    "    else:\n",
    "        return False"
   ]
  },
  {
   "cell_type": "code",
   "execution_count": 7,
   "id": "4c6e42e0",
   "metadata": {},
   "outputs": [
    {
     "data": {
      "text/plain": [
       "True"
      ]
     },
     "execution_count": 7,
     "metadata": {},
     "output_type": "execute_result"
    }
   ],
   "source": [
    "check_balance(\"({}((){}))\")"
   ]
  },
  {
   "cell_type": "code",
   "execution_count": 14,
   "id": "998f7d1d",
   "metadata": {},
   "outputs": [
    {
     "name": "stdout",
     "output_type": "stream",
     "text": [
      "['({}(', '{}))']\n",
      "{}))\n"
     ]
    }
   ],
   "source": [
    "print(\"({}((){}))\".split(\"()\"))\n",
    "print(\"({}((){}))\".split(\"()\").pop())"
   ]
  },
  {
   "cell_type": "code",
   "execution_count": null,
   "id": "95343bc2",
   "metadata": {},
   "outputs": [],
   "source": [
    "def check_sum(a, target):\n",
    "    d = {}\n",
    "    for i in a:\n",
    "        "
   ]
  }
 ],
 "metadata": {
  "kernelspec": {
   "display_name": "Python 3 (ipykernel)",
   "language": "python",
   "name": "python3"
  },
  "language_info": {
   "codemirror_mode": {
    "name": "ipython",
    "version": 3
   },
   "file_extension": ".py",
   "mimetype": "text/x-python",
   "name": "python",
   "nbconvert_exporter": "python",
   "pygments_lexer": "ipython3",
   "version": "3.8.16"
  }
 },
 "nbformat": 4,
 "nbformat_minor": 5
}
