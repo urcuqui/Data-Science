{
 "cells": [
  {
   "cell_type": "markdown",
   "id": "c578fc6a",
   "metadata": {},
   "source": [
    "$\\begin{bmatrix}| Access | Search\\\\ Array|O(1) \\\\ Stack \\\\ Queue \\\\ Linked List \\\\ Hash Map \\\\ Binary Search Tree\\end{bmatrix}$"
   ]
  },
  {
   "cell_type": "code",
   "execution_count": 5,
   "id": "339aeca4",
   "metadata": {},
   "outputs": [],
   "source": [
    "def binary_search(a, k):\n",
    "    \"\"\"\n",
    "    Parameters:\n",
    "        a, the list \n",
    "        k, input to search\n",
    "    Return:\n",
    "        value\n",
    "    \"\"\"\n",
    "    lo, hi = 0, len(a) - 1\n",
    "    best = lo\n",
    "    while lo <= hi:\n",
    "        mid = lo + (hi - lo) // 2\n",
    "        if a[mid] < k:\n",
    "            lo = mid +1\n",
    "        elif a[mid] > k:\n",
    "            hi = mid - 1\n",
    "        else:\n",
    "            best = mid\n",
    "            break\n",
    "        if abs(a[mid]-k) < abs(a[best] - k):\n",
    "            best = mid\n",
    "        return best"
   ]
  },
  {
   "cell_type": "code",
   "execution_count": 9,
   "id": "7e25ea2a",
   "metadata": {},
   "outputs": [
    {
     "data": {
      "text/plain": [
       "1"
      ]
     },
     "execution_count": 9,
     "metadata": {},
     "output_type": "execute_result"
    }
   ],
   "source": [
    "binary_search([1,6,5,10], 9)"
   ]
  },
  {
   "cell_type": "code",
   "execution_count": 14,
   "id": "ab9cf3f7",
   "metadata": {},
   "outputs": [],
   "source": [
    "class Node:\n",
    "    def __init__(self, val):\n",
    "        self.val = val\n",
    "        self.next = None\n",
    "    \n",
    "class LinkedList:\n",
    "    def __init__(self):\n",
    "        self.head = None\n",
    "    def reverse(self):\n",
    "        prev = None\n",
    "        curr = self.head\n",
    "        while curr:\n",
    "            next = curr.next\n",
    "            curr.next = prev\n",
    "            prev = curr\n",
    "            curr = next\n",
    "        self.head = prev\n"
   ]
  },
  {
   "cell_type": "code",
   "execution_count": 17,
   "id": "463467c9",
   "metadata": {},
   "outputs": [],
   "source": [
    "a = Node(3)\n",
    "b = Node(5)\n",
    "a.next = b\n",
    "c = Node(16)\n",
    "c.next = b"
   ]
  },
  {
   "cell_type": "code",
   "execution_count": 20,
   "id": "c415b8e9",
   "metadata": {},
   "outputs": [],
   "source": [
    "lista = LinkedList()\n",
    "lista.head = a"
   ]
  },
  {
   "cell_type": "code",
   "execution_count": 22,
   "id": "c001ff34",
   "metadata": {},
   "outputs": [],
   "source": [
    "lista.reverse()"
   ]
  },
  {
   "cell_type": "code",
   "execution_count": 24,
   "id": "b022ff44",
   "metadata": {},
   "outputs": [
    {
     "data": {
      "text/plain": [
       "5"
      ]
     },
     "execution_count": 24,
     "metadata": {},
     "output_type": "execute_result"
    }
   ],
   "source": [
    "lista.head.val"
   ]
  },
  {
   "cell_type": "markdown",
   "id": "d8167144",
   "metadata": {},
   "source": [
    "using stacks as method to check a str is balanced"
   ]
  },
  {
   "cell_type": "code",
   "execution_count": 6,
   "id": "33c79e49",
   "metadata": {},
   "outputs": [],
   "source": [
    "def check_balance(s):\n",
    "    left_side = [\"(\", \"{\", \"[\"]\n",
    "    right_side = [\")\", \"}\",\"]\"]\n",
    "    stack = []\n",
    "    for i in s:\n",
    "        if i in left_side:\n",
    "            stack.append(i) # push onto stack\n",
    "        elif i in right_side:\n",
    "            pos = right_side.index(i)\n",
    "            # check match\n",
    "            if (len(stack) == 0) or (left_side[pos] != stack[len(stack)-1]):\n",
    "                return False\n",
    "            else:\n",
    "                stack.pop()\n",
    "    if len(stack) == 0: #balanced\n",
    "        return True\n",
    "    else:\n",
    "        return False"
   ]
  },
  {
   "cell_type": "code",
   "execution_count": 7,
   "id": "4c6e42e0",
   "metadata": {},
   "outputs": [
    {
     "data": {
      "text/plain": [
       "True"
      ]
     },
     "execution_count": 7,
     "metadata": {},
     "output_type": "execute_result"
    }
   ],
   "source": [
    "check_balance(\"({}((){}))\")"
   ]
  },
  {
   "cell_type": "code",
   "execution_count": 14,
   "id": "998f7d1d",
   "metadata": {},
   "outputs": [
    {
     "name": "stdout",
     "output_type": "stream",
     "text": [
      "['({}(', '{}))']\n",
      "{}))\n"
     ]
    }
   ],
   "source": [
    "print(\"({}((){}))\".split(\"()\"))\n",
    "print(\"({}((){}))\".split(\"()\").pop())"
   ]
  },
  {
   "cell_type": "code",
   "execution_count": null,
   "id": "95343bc2",
   "metadata": {},
   "outputs": [],
   "source": [
    "def check_sum(a, target):\n",
    "    d = {}\n",
    "    for i in a:\n",
    "        "
   ]
  },
  {
   "cell_type": "markdown",
   "id": "589bb64a",
   "metadata": {},
   "source": [
    "Given two arrays, write a function to get the instersection of the two. For example, if A=[0,1,3,7]and B=[0,1,3,4,5] then you should return [1,3]"
   ]
  },
  {
   "cell_type": "code",
   "execution_count": 16,
   "id": "93bb454c",
   "metadata": {},
   "outputs": [
    {
     "data": {
      "text/plain": [
       "{1, 3}"
      ]
     },
     "execution_count": 16,
     "metadata": {},
     "output_type": "execute_result"
    }
   ],
   "source": [
    "def get_intersection(a:list, b:list)->list:\n",
    "    \"\"\"\n",
    "    this function returns the intersection of two arrays\n",
    "    parameters: a, list\n",
    "    return: a list\n",
    "    \"\"\"\n",
    "    a_set = set(a)\n",
    "    b_set = set(b)\n",
    "    \n",
    "    \n",
    "    return set.intersection(a_set,b_set)\n",
    "get_intersection([1,2,3,4,5], [0,1,3,7])"
   ]
  },
  {
   "cell_type": "code",
   "execution_count": 18,
   "id": "d344907d",
   "metadata": {},
   "outputs": [
    {
     "data": {
      "text/plain": [
       "[1, 3]"
      ]
     },
     "execution_count": 18,
     "metadata": {},
     "output_type": "execute_result"
    }
   ],
   "source": [
    "def get_intersection(a:list, b:list)->list:\n",
    "    \"\"\"\n",
    "    this function returns the intersection of two arrays\n",
    "    parameters: a, list\n",
    "    return: a list\n",
    "    \"\"\"\n",
    "    a_set = set(a)\n",
    "    b_set = set(b)\n",
    "    \n",
    "    if len(a_set) <= len(b_set):\n",
    "        return [x for x in b_set if x in a_set]\n",
    "    else:\n",
    "        return [x for x in a_set if x in b_set]\n",
    "    \n",
    "get_intersection([1,2,3,4,5], [0,1,3,7])"
   ]
  },
  {
   "cell_type": "markdown",
   "id": "8873a791",
   "metadata": {},
   "source": [
    "Given an integer array, return the maximum product of any three numbers in the array. For example, for A=[1,3,4,5], you should return 60,. while for B=[-2,-4,5,3] you should return 40."
   ]
  },
  {
   "cell_type": "code",
   "execution_count": 23,
   "id": "5899f14e",
   "metadata": {},
   "outputs": [
    {
     "data": {
      "text/plain": [
       "40"
      ]
     },
     "execution_count": 23,
     "metadata": {},
     "output_type": "execute_result"
    }
   ],
   "source": [
    "import heapq\n",
    "\n",
    "def max_three(arr):\n",
    "    a = heapq.nlargest(3, arr) # largest 3 numbers\n",
    "    b = heapq.nsmallest(2, arr) # smallest 2 numbers\n",
    "    return max(a[0] * a[1]* a[2], b[0]*b[1] * a[0])\n",
    "\n",
    "max_three([-2,-4,5,3])"
   ]
  },
  {
   "cell_type": "markdown",
   "id": "424b3e7e",
   "metadata": {},
   "source": [
    "Given a list of coordinates, write a function to find the k closets points (measured by Euclidean distance) to the origin. For example, if k=3, and the points are: [[2,-1],[3,2],[4,1],[-1,-1],[-2,2]]."
   ]
  },
  {
   "cell_type": "code",
   "execution_count": 16,
   "id": "348178c5",
   "metadata": {},
   "outputs": [],
   "source": [
    "import math\n",
    "from itertools import combinations\n",
    "def calculate_dist(a:list)->list:\n",
    "    combination_result = list(combinations(a,2))\n",
    "    result = {}\n",
    "    for i in combination_result:\n",
    "        print(i[0])\n",
    "        print(i[1])\n",
    "        result[i] = math.dist(i[0],[1])\n",
    "    return result"
   ]
  },
  {
   "cell_type": "code",
   "execution_count": null,
   "id": "21c87eb9",
   "metadata": {},
   "outputs": [],
   "source": [
    "math.dist(i[0],[1])"
   ]
  },
  {
   "cell_type": "code",
   "execution_count": 17,
   "id": "afd931bf",
   "metadata": {
    "scrolled": false
   },
   "outputs": [
    {
     "name": "stdout",
     "output_type": "stream",
     "text": [
      "[2, -1]\n",
      "[3, 2]\n"
     ]
    },
    {
     "ename": "ValueError",
     "evalue": "both points must have the same number of dimensions",
     "output_type": "error",
     "traceback": [
      "\u001b[1;31m---------------------------------------------------------------------------\u001b[0m",
      "\u001b[1;31mValueError\u001b[0m                                Traceback (most recent call last)",
      "Cell \u001b[1;32mIn[17], line 1\u001b[0m\n\u001b[1;32m----> 1\u001b[0m \u001b[43mcalculate_dist\u001b[49m\u001b[43m(\u001b[49m\u001b[43m[\u001b[49m\u001b[43m[\u001b[49m\u001b[38;5;241;43m2\u001b[39;49m\u001b[43m,\u001b[49m\u001b[38;5;241;43m-\u001b[39;49m\u001b[38;5;241;43m1\u001b[39;49m\u001b[43m]\u001b[49m\u001b[43m,\u001b[49m\u001b[43m[\u001b[49m\u001b[38;5;241;43m3\u001b[39;49m\u001b[43m,\u001b[49m\u001b[38;5;241;43m2\u001b[39;49m\u001b[43m]\u001b[49m\u001b[43m,\u001b[49m\u001b[43m[\u001b[49m\u001b[38;5;241;43m4\u001b[39;49m\u001b[43m,\u001b[49m\u001b[38;5;241;43m1\u001b[39;49m\u001b[43m]\u001b[49m\u001b[43m,\u001b[49m\u001b[43m[\u001b[49m\u001b[38;5;241;43m-\u001b[39;49m\u001b[38;5;241;43m1\u001b[39;49m\u001b[43m,\u001b[49m\u001b[38;5;241;43m-\u001b[39;49m\u001b[38;5;241;43m1\u001b[39;49m\u001b[43m]\u001b[49m\u001b[43m,\u001b[49m\u001b[43m[\u001b[49m\u001b[38;5;241;43m-\u001b[39;49m\u001b[38;5;241;43m2\u001b[39;49m\u001b[43m,\u001b[49m\u001b[38;5;241;43m2\u001b[39;49m\u001b[43m]\u001b[49m\u001b[43m]\u001b[49m\u001b[43m)\u001b[49m\n",
      "Cell \u001b[1;32mIn[16], line 9\u001b[0m, in \u001b[0;36mcalculate_dist\u001b[1;34m(a)\u001b[0m\n\u001b[0;32m      7\u001b[0m     \u001b[38;5;28mprint\u001b[39m(i[\u001b[38;5;241m0\u001b[39m])\n\u001b[0;32m      8\u001b[0m     \u001b[38;5;28mprint\u001b[39m(i[\u001b[38;5;241m1\u001b[39m])\n\u001b[1;32m----> 9\u001b[0m     result[i] \u001b[38;5;241m=\u001b[39m \u001b[43mmath\u001b[49m\u001b[38;5;241;43m.\u001b[39;49m\u001b[43mdist\u001b[49m\u001b[43m(\u001b[49m\u001b[43mi\u001b[49m\u001b[43m[\u001b[49m\u001b[38;5;241;43m0\u001b[39;49m\u001b[43m]\u001b[49m\u001b[43m,\u001b[49m\u001b[43m[\u001b[49m\u001b[38;5;241;43m1\u001b[39;49m\u001b[43m]\u001b[49m\u001b[43m)\u001b[49m\n\u001b[0;32m     10\u001b[0m \u001b[38;5;28;01mreturn\u001b[39;00m result\n",
      "\u001b[1;31mValueError\u001b[0m: both points must have the same number of dimensions"
     ]
    }
   ],
   "source": [
    "calculate_dist([[2,-1],[3,2],[4,1],[-1,-1],[-2,2]])"
   ]
  },
  {
   "cell_type": "code",
   "execution_count": null,
   "id": "4148dc6e",
   "metadata": {},
   "outputs": [],
   "source": []
  }
 ],
 "metadata": {
  "kernelspec": {
   "display_name": "Python 3 (ipykernel)",
   "language": "python",
   "name": "python3"
  },
  "language_info": {
   "codemirror_mode": {
    "name": "ipython",
    "version": 3
   },
   "file_extension": ".py",
   "mimetype": "text/x-python",
   "name": "python",
   "nbconvert_exporter": "python",
   "pygments_lexer": "ipython3",
   "version": "3.8.16"
  }
 },
 "nbformat": 4,
 "nbformat_minor": 5
}
