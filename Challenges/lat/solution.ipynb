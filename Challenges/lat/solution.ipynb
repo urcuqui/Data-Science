{
 "cells": [
  {
   "cell_type": "markdown",
   "id": "operating-broadcasting",
   "metadata": {},
   "source": [
    "# Introducción\n",
    "\n",
    "**Nombre: Christian Camilo Urcuqui López**\n",
    "\n",
    "En el presente notebook se desarrolla el reto propuesto por LATAM Airlines, el recurso se componente de las siguientes unidades:\n",
    "\n",
    "+ Descripción del reto y datos\n",
    "+ Análisis exploratorio\n",
    "    - Respuesta a preguntas\n",
    "+ Modelamiento\n",
    "+ Resultados\n",
    "+ Conclusiones\n",
    "+ Trabajo futuro"
   ]
  }
 ],
 "metadata": {
  "kernelspec": {
   "display_name": "Python 3",
   "language": "python",
   "name": "python3"
  },
  "language_info": {
   "codemirror_mode": {
    "name": "ipython",
    "version": 3
   },
   "file_extension": ".py",
   "mimetype": "text/x-python",
   "name": "python",
   "nbconvert_exporter": "python",
   "pygments_lexer": "ipython3",
   "version": "3.7.4"
  }
 },
 "nbformat": 4,
 "nbformat_minor": 5
}
