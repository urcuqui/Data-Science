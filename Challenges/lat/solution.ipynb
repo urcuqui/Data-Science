{
 "cells": [
  {
   "cell_type": "markdown",
   "id": "operating-broadcasting",
   "metadata": {},
   "source": [
    "# Introducción\n",
    "\n",
    "**Nombre: Christian Camilo Urcuqui López**\n",
    "\n",
    "En el presente notebook se desarrolla el reto propuesto por LATAM Airlines, el recurso se componente de las siguientes unidades:\n",
    "\n",
    "+ [Descripcion del reto y datos](#Descripcion-del-reto-y-datos)\n",
    "+ Análisis exploratorio\n",
    "    - Respuesta a preguntas\n",
    "+ Modelamiento\n",
    "+ Resultados\n",
    "+ Conclusiones\n",
    "+ Trabajo futuro"
   ]
  },
  {
   "cell_type": "markdown",
   "id": "compact-schema",
   "metadata": {},
   "source": [
    "# Descripcion del reto y datos"
   ]
  },
  {
   "cell_type": "markdown",
   "id": "electric-consultation",
   "metadata": {},
   "source": []
  },
  {
   "cell_type": "markdown",
   "id": "dated-thing",
   "metadata": {},
   "source": [
    "# Análisis exploratorio"
   ]
  },
  {
   "cell_type": "markdown",
   "id": "raised-coalition",
   "metadata": {},
   "source": [
    "## librerias"
   ]
  },
  {
   "cell_type": "code",
   "execution_count": 1,
   "id": "instant-sunset",
   "metadata": {},
   "outputs": [],
   "source": [
    "import pandas as pd"
   ]
  },
  {
   "cell_type": "markdown",
   "id": "thermal-stevens",
   "metadata": {},
   "source": [
    "## Carga de información"
   ]
  },
  {
   "cell_type": "code",
   "execution_count": 4,
   "id": "significant-optics",
   "metadata": {},
   "outputs": [
    {
     "name": "stderr",
     "output_type": "stream",
     "text": [
      "C:\\Users\\Usuario\\Anaconda3\\lib\\site-packages\\IPython\\core\\interactiveshell.py:3166: DtypeWarning: Columns (1,6) have mixed types.Specify dtype option on import or set low_memory=False.\n",
      "  interactivity=interactivity, compiler=compiler, result=result)\n"
     ]
    }
   ],
   "source": [
    "df = pd.read_csv(\"datasets/dataset_SCL.csv\")"
   ]
  },
  {
   "cell_type": "markdown",
   "id": "final-overall",
   "metadata": {},
   "source": [
    "## Exploración"
   ]
  },
  {
   "cell_type": "code",
   "execution_count": 6,
   "id": "suited-tomato",
   "metadata": {},
   "outputs": [
    {
     "name": "stdout",
     "output_type": "stream",
     "text": [
      "<class 'pandas.core.frame.DataFrame'>\n",
      "RangeIndex: 68206 entries, 0 to 68205\n",
      "Data columns (total 18 columns):\n",
      " #   Column     Non-Null Count  Dtype \n",
      "---  ------     --------------  ----- \n",
      " 0   Fecha-I    68206 non-null  object\n",
      " 1   Vlo-I      68206 non-null  object\n",
      " 2   Ori-I      68206 non-null  object\n",
      " 3   Des-I      68206 non-null  object\n",
      " 4   Emp-I      68206 non-null  object\n",
      " 5   Fecha-O    68206 non-null  object\n",
      " 6   Vlo-O      68205 non-null  object\n",
      " 7   Ori-O      68206 non-null  object\n",
      " 8   Des-O      68206 non-null  object\n",
      " 9   Emp-O      68206 non-null  object\n",
      " 10  DIA        68206 non-null  int64 \n",
      " 11  MES        68206 non-null  int64 \n",
      " 12  AÑO        68206 non-null  int64 \n",
      " 13  DIANOM     68206 non-null  object\n",
      " 14  TIPOVUELO  68206 non-null  object\n",
      " 15  OPERA      68206 non-null  object\n",
      " 16  SIGLAORI   68206 non-null  object\n",
      " 17  SIGLADES   68206 non-null  object\n",
      "dtypes: int64(3), object(15)\n",
      "memory usage: 9.4+ MB\n"
     ]
    }
   ],
   "source": [
    "df.info()"
   ]
  }
 ],
 "metadata": {
  "kernelspec": {
   "display_name": "Python 3",
   "language": "python",
   "name": "python3"
  },
  "language_info": {
   "codemirror_mode": {
    "name": "ipython",
    "version": 3
   },
   "file_extension": ".py",
   "mimetype": "text/x-python",
   "name": "python",
   "nbconvert_exporter": "python",
   "pygments_lexer": "ipython3",
   "version": "3.7.4"
  }
 },
 "nbformat": 4,
 "nbformat_minor": 5
}
