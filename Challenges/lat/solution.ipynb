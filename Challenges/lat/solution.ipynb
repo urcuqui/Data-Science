{
 "cells": [
  {
   "cell_type": "markdown",
   "id": "operating-broadcasting",
   "metadata": {},
   "source": [
    "# Introducción\n",
    "\n",
    "**Nombre: Christian Camilo Urcuqui López**\n",
    "\n",
    "En el presente notebook se desarrolla el reto propuesto por LATAM Airlines, el recurso se componente de las siguientes unidades:\n",
    "\n",
    "+ [Descripcion del reto y datos](#Descripcion-del-reto-y-datos)\n",
    "+ [Exploracion](#Exploracion)\n",
    "    - Respuesta a preguntas\n",
    "        - [Pregunta 1 y análisis](#Pregunta-1)\n",
    "        - [Respuesta 1](#Respuesta-1)\n",
    "        - [Respuesta 2](#Pregunta-2)\n",
    "        - [Respuesta 3 y análisis](#Pregunta-3)\n",
    "+ [Preprocesamiento](#Preprocesamiento)\n",
    "+ [Modelamiento y respuesta 4](#Modelamiento)\n",
    "+ [Resultados y respuesta 5](#Resultados)\n"
   ]
  },
  {
   "cell_type": "markdown",
   "id": "compact-schema",
   "metadata": {},
   "source": [
    "# Descripcion del reto y datos"
   ]
  },
  {
   "cell_type": "markdown",
   "id": "electric-consultation",
   "metadata": {},
   "source": [
    "El problema consiste en predecir la probabilidad de **atraso de los vuelos que aterrizan o despegan del aeropuerto de Santiago de Chile (SCL)**. Para eso les entregamos un dataset usando datos públicos y reales donde **cada fila corresponde a un vuelo que aterrizó o despegó de SCL**. Para cada vuelo se cuenta con la siguiente información:"
   ]
  },
  {
   "cell_type": "markdown",
   "id": "cordless-meter",
   "metadata": {},
   "source": [
    "1. Fecha-I : Fecha y hora programada del vuelo.\n",
    "2. Vlo-I : Número de vuelo programado.\n",
    "3. Ori-I : Código de ciudad de origen programado.\n",
    "4. Des-I : Código de ciudad de destino programado.\n",
    "5. Emp-I : Código aerolínea de vuelo programado.\n",
    "6. Fecha-O : Fecha y hora de operación del vuelo.\n",
    "7. Vlo-O : Número de vuelo de operación del vuelo.\n",
    "8. Ori-O : Código de ciudad de origen de operación\n",
    "9. Des-O : Código de ciudad de destino de operación.\n",
    "10. Emp-O : Código aerolínea de vuelo operado.\n",
    "11. DIA : Día del mes de operación del vuelo.\n",
    "12. MES : Número de mes de operación del vuelo.\n",
    "13. AÑO : Año de operación del vuelo.\n",
    "14. DIANOM : Día de la semana de operación del vuelo.\n",
    "15. TIPOVUELO : Tipo de vuelo, I =Internacional, N =Nacional.\n",
    "16. OPERA : Nombre de aerolínea que opera.\n",
    "17. SIGLAORI : Nombre ciudad origen.\n",
    "18. SIGLADES : Nombre ciudad destino."
   ]
  },
  {
   "cell_type": "markdown",
   "id": "departmental-closing",
   "metadata": {},
   "source": [
    "***\n",
    "**Notas**\n",
    "\n",
    "El diccionario presenta una cantidad de 18 variables, el cual no explica en detalle rangos, formato, tipos y definición de valores que puedan servir para encontrar errores para corrección."
   ]
  },
  {
   "cell_type": "markdown",
   "id": "dated-thing",
   "metadata": {},
   "source": [
    "# Análisis exploratorio"
   ]
  },
  {
   "cell_type": "markdown",
   "id": "raised-coalition",
   "metadata": {},
   "source": [
    "## librerias"
   ]
  },
  {
   "cell_type": "code",
   "execution_count": 1,
   "id": "instant-sunset",
   "metadata": {},
   "outputs": [],
   "source": [
    "import pandas as pd\n",
    "import seaborn as sns\n",
    "import matplotlib.pyplot as plt\n",
    "import numpy as np"
   ]
  },
  {
   "cell_type": "markdown",
   "id": "thermal-stevens",
   "metadata": {},
   "source": [
    "## Carga de información"
   ]
  },
  {
   "cell_type": "code",
   "execution_count": 2,
   "id": "significant-optics",
   "metadata": {},
   "outputs": [],
   "source": [
    "df = pd.read_csv(\"datasets/dataset_SCL.csv\", low_memory=False)"
   ]
  },
  {
   "cell_type": "markdown",
   "id": "final-overall",
   "metadata": {},
   "source": [
    "## Exploracion"
   ]
  },
  {
   "cell_type": "code",
   "execution_count": 6,
   "id": "suited-tomato",
   "metadata": {},
   "outputs": [
    {
     "name": "stdout",
     "output_type": "stream",
     "text": [
      "<class 'pandas.core.frame.DataFrame'>\n",
      "RangeIndex: 68206 entries, 0 to 68205\n",
      "Data columns (total 18 columns):\n",
      " #   Column     Non-Null Count  Dtype \n",
      "---  ------     --------------  ----- \n",
      " 0   Fecha-I    68206 non-null  object\n",
      " 1   Vlo-I      68206 non-null  object\n",
      " 2   Ori-I      68206 non-null  object\n",
      " 3   Des-I      68206 non-null  object\n",
      " 4   Emp-I      68206 non-null  object\n",
      " 5   Fecha-O    68206 non-null  object\n",
      " 6   Vlo-O      68205 non-null  object\n",
      " 7   Ori-O      68206 non-null  object\n",
      " 8   Des-O      68206 non-null  object\n",
      " 9   Emp-O      68206 non-null  object\n",
      " 10  DIA        68206 non-null  int64 \n",
      " 11  MES        68206 non-null  int64 \n",
      " 12  AÑO        68206 non-null  int64 \n",
      " 13  DIANOM     68206 non-null  object\n",
      " 14  TIPOVUELO  68206 non-null  object\n",
      " 15  OPERA      68206 non-null  object\n",
      " 16  SIGLAORI   68206 non-null  object\n",
      " 17  SIGLADES   68206 non-null  object\n",
      "dtypes: int64(3), object(15)\n",
      "memory usage: 9.4+ MB\n"
     ]
    }
   ],
   "source": [
    "df.info()"
   ]
  },
  {
   "cell_type": "markdown",
   "id": "british-mandate",
   "metadata": {},
   "source": [
    "En principio cargado dice que no presenta NaN, sin embargo sería bueno luego indagar ya que hay datos cargados como tipo object"
   ]
  },
  {
   "cell_type": "code",
   "execution_count": 6,
   "id": "respective-weekend",
   "metadata": {},
   "outputs": [
    {
     "data": {
      "text/html": [
       "<div>\n",
       "<style scoped>\n",
       "    .dataframe tbody tr th:only-of-type {\n",
       "        vertical-align: middle;\n",
       "    }\n",
       "\n",
       "    .dataframe tbody tr th {\n",
       "        vertical-align: top;\n",
       "    }\n",
       "\n",
       "    .dataframe thead th {\n",
       "        text-align: right;\n",
       "    }\n",
       "</style>\n",
       "<table border=\"1\" class=\"dataframe\">\n",
       "  <thead>\n",
       "    <tr style=\"text-align: right;\">\n",
       "      <th></th>\n",
       "      <th>Fecha-I</th>\n",
       "      <th>Vlo-I</th>\n",
       "      <th>Ori-I</th>\n",
       "      <th>Des-I</th>\n",
       "      <th>Emp-I</th>\n",
       "      <th>Fecha-O</th>\n",
       "      <th>Vlo-O</th>\n",
       "      <th>Ori-O</th>\n",
       "      <th>Des-O</th>\n",
       "      <th>Emp-O</th>\n",
       "      <th>DIA</th>\n",
       "      <th>MES</th>\n",
       "      <th>AÑO</th>\n",
       "      <th>DIANOM</th>\n",
       "      <th>TIPOVUELO</th>\n",
       "      <th>OPERA</th>\n",
       "      <th>SIGLAORI</th>\n",
       "      <th>SIGLADES</th>\n",
       "    </tr>\n",
       "  </thead>\n",
       "  <tbody>\n",
       "    <tr>\n",
       "      <th>0</th>\n",
       "      <td>2017-01-01 23:30:00</td>\n",
       "      <td>226</td>\n",
       "      <td>SCEL</td>\n",
       "      <td>KMIA</td>\n",
       "      <td>AAL</td>\n",
       "      <td>2017-01-01 23:33:00</td>\n",
       "      <td>226</td>\n",
       "      <td>SCEL</td>\n",
       "      <td>KMIA</td>\n",
       "      <td>AAL</td>\n",
       "      <td>1</td>\n",
       "      <td>1</td>\n",
       "      <td>2017</td>\n",
       "      <td>Domingo</td>\n",
       "      <td>I</td>\n",
       "      <td>American Airlines</td>\n",
       "      <td>Santiago</td>\n",
       "      <td>Miami</td>\n",
       "    </tr>\n",
       "    <tr>\n",
       "      <th>1</th>\n",
       "      <td>2017-01-02 23:30:00</td>\n",
       "      <td>226</td>\n",
       "      <td>SCEL</td>\n",
       "      <td>KMIA</td>\n",
       "      <td>AAL</td>\n",
       "      <td>2017-01-02 23:39:00</td>\n",
       "      <td>226</td>\n",
       "      <td>SCEL</td>\n",
       "      <td>KMIA</td>\n",
       "      <td>AAL</td>\n",
       "      <td>2</td>\n",
       "      <td>1</td>\n",
       "      <td>2017</td>\n",
       "      <td>Lunes</td>\n",
       "      <td>I</td>\n",
       "      <td>American Airlines</td>\n",
       "      <td>Santiago</td>\n",
       "      <td>Miami</td>\n",
       "    </tr>\n",
       "    <tr>\n",
       "      <th>2</th>\n",
       "      <td>2017-01-03 23:30:00</td>\n",
       "      <td>226</td>\n",
       "      <td>SCEL</td>\n",
       "      <td>KMIA</td>\n",
       "      <td>AAL</td>\n",
       "      <td>2017-01-03 23:39:00</td>\n",
       "      <td>226</td>\n",
       "      <td>SCEL</td>\n",
       "      <td>KMIA</td>\n",
       "      <td>AAL</td>\n",
       "      <td>3</td>\n",
       "      <td>1</td>\n",
       "      <td>2017</td>\n",
       "      <td>Martes</td>\n",
       "      <td>I</td>\n",
       "      <td>American Airlines</td>\n",
       "      <td>Santiago</td>\n",
       "      <td>Miami</td>\n",
       "    </tr>\n",
       "  </tbody>\n",
       "</table>\n",
       "</div>"
      ],
      "text/plain": [
       "               Fecha-I Vlo-I Ori-I Des-I Emp-I              Fecha-O Vlo-O  \\\n",
       "0  2017-01-01 23:30:00   226  SCEL  KMIA   AAL  2017-01-01 23:33:00   226   \n",
       "1  2017-01-02 23:30:00   226  SCEL  KMIA   AAL  2017-01-02 23:39:00   226   \n",
       "2  2017-01-03 23:30:00   226  SCEL  KMIA   AAL  2017-01-03 23:39:00   226   \n",
       "\n",
       "  Ori-O Des-O Emp-O  DIA  MES   AÑO   DIANOM TIPOVUELO              OPERA  \\\n",
       "0  SCEL  KMIA   AAL    1    1  2017  Domingo         I  American Airlines   \n",
       "1  SCEL  KMIA   AAL    2    1  2017    Lunes         I  American Airlines   \n",
       "2  SCEL  KMIA   AAL    3    1  2017   Martes         I  American Airlines   \n",
       "\n",
       "   SIGLAORI SIGLADES  \n",
       "0  Santiago    Miami  \n",
       "1  Santiago    Miami  \n",
       "2  Santiago    Miami  "
      ]
     },
     "execution_count": 6,
     "metadata": {},
     "output_type": "execute_result"
    }
   ],
   "source": [
    "df.head(3)"
   ]
  },
  {
   "cell_type": "markdown",
   "id": "satisfactory-archives",
   "metadata": {},
   "source": [
    "Contamos con una cantidad de 68206 registros por 18 variables (mencionadas en el diccionario de variables)"
   ]
  },
  {
   "cell_type": "markdown",
   "id": "timely-black",
   "metadata": {},
   "source": [
    "### transformación"
   ]
  },
  {
   "cell_type": "markdown",
   "id": "waiting-sperm",
   "metadata": {},
   "source": [
    "1. Se procederá a cambiar las variables a su debido tipo, por ejemplo la de fecha a datetime en pandas"
   ]
  },
  {
   "cell_type": "code",
   "execution_count": 3,
   "id": "velvet-reality",
   "metadata": {},
   "outputs": [],
   "source": [
    "df[\"Fecha-I\"] = pd.to_datetime(df[\"Fecha-I\"])\n",
    "df[\"Fecha-O\"] = pd.to_datetime(df[\"Fecha-O\"])"
   ]
  },
  {
   "cell_type": "markdown",
   "id": "undefined-elite",
   "metadata": {},
   "source": [
    "2. Voy a cambiar el nombre de las columnas para mayor comodidad durante el desarrollo del trabajo"
   ]
  },
  {
   "cell_type": "code",
   "execution_count": 4,
   "id": "cosmetic-testimony",
   "metadata": {},
   "outputs": [],
   "source": [
    "df.columns = df.columns.str.replace(\"-\",\"_\")"
   ]
  },
  {
   "cell_type": "code",
   "execution_count": 46,
   "id": "favorite-chocolate",
   "metadata": {
    "scrolled": true
   },
   "outputs": [
    {
     "data": {
      "text/plain": [
       "array(['226', '912', '940', '92', '93', '401', '11', '1011', '1281',\n",
       "       '1283', '1285', '1287', '1289', '1291', '2291', '98', '116', '176',\n",
       "       '240', '295', '689', '250', '112', '118', '174', '249', '276',\n",
       "       '495', '4495', '146', '7661', '7663', '9245', '9268', '9362',\n",
       "       '6830', '702', '624', '28', '846', '709', '741', '8021', '8023',\n",
       "       '8027', '8029', '8069', '8073', '8075', '8099', '8125', '8137',\n",
       "       '8160', '8161', '9601', '9615', '9651', '9653', '9661', '9689',\n",
       "       '9782', '9623', '1', '3', '7', '9', '13', '15', '17', '21', '23',\n",
       "       '25', '41', '43', '51', '53', '55', '61', '71', '73', '75', '81',\n",
       "       '83', '102', '104', '106', '108', '110', '120', '122', '128',\n",
       "       '130', '132', '134', '140', '142', '150', '156', '160', '162',\n",
       "       '164', '166', '170', '172', '180', '182', '184', '186', '188',\n",
       "       '190', '192', '194', '196', '501', '503', '507', '521', '531',\n",
       "       '551', '800', '802', '804', '1083', '14', '31', '35', '37', '57',\n",
       "       '65', '67', '69', '89', '91', '97', '114', '124', '126', '136',\n",
       "       '138', '144', '148', '152', '154', '168', '178', '201', '203',\n",
       "       '207', '209', '211', '213', '215', '217', '219', '221', '231',\n",
       "       '233', '235', '237', '239', '241', '247', '251', '257', '259',\n",
       "       '261', '263', '265', '267', '269', '271', '273', '275', '277',\n",
       "       '279', '281', '283', '285', '287', '289', '291', '293', '297',\n",
       "       '300', '302', '304', '306', '308', '312', '314', '318', '320',\n",
       "       '322', '324', '326', '328', '330', '332', '334', '336', '338',\n",
       "       '340', '342', '344', '346', '348', '350', '366', '374', '380',\n",
       "       '382', '384', '386', '388', '396', '403', '405', '439', '443',\n",
       "       '445', '449', '451', '455', '461', '481', '500', '502', '504',\n",
       "       '510', '530', '532', '534', '546', '572', '574', '576', '582',\n",
       "       '592', '600', '602', '622', '632', '642', '646', '648', '650',\n",
       "       '704', '708', '750', '752', '760', '772', '776', '778', '798',\n",
       "       '801', '833', '841', '843', '845', '849', '900', '902', '906',\n",
       "       '910', '930', '932', '934', '942', '952', '954', '968', '970',\n",
       "       '972', '986', '988', '991', '993', '1320', '1322', '1326', '1334',\n",
       "       '1357', '1359', '1446', '1498', '2632', '2636', '2638', '2640',\n",
       "       '2650', '2702', '4501', '4503', '1003', '1004', '1005', '1302',\n",
       "       '1340', '200', '700', '1704', '33', '59', '95', '243', '634',\n",
       "       '1200', '1202', '1300', '1071', '99', '158', '198', '205', '376',\n",
       "       '378', '404', '406', '410', '414', '430', '432', '434', '438',\n",
       "       '486', '492', '536', '638', '640', '644', '864', '890', '892',\n",
       "       '1122', '1126', '1151', '1363', '1946', '2370', '2372', '2374',\n",
       "       '7811', '7813', '1165', '1301', '1351', '1906', '204', '9625',\n",
       "       '8665', '4950', '45', '100', '523', '1025', '4000', '63', '352',\n",
       "       '354', '452', '460', '636', '674', '888', '895', '897', '1108',\n",
       "       '1124', '1128', '1236', '1248', '2364', '2366', '2378', '2474',\n",
       "       '2478', '1050', '1051', '1052', '1061', '1101', '1102', '1104',\n",
       "       '1130', '1159', '1230', '202', '989P', '3000', '9000', '459',\n",
       "       '483', '1114', '1168', '1238', '1239', '1261', '1107', '1140',\n",
       "       '1167', '1271', '1031', '1700', '940P', '9659', '1551', '1800',\n",
       "       '358', '1103', '1111', '2518', '7959', '400', '402', '2297',\n",
       "       '9244', '9246', '9247', '9261', '9272', '9673', '9956', '9600',\n",
       "       '9629', '9662', '9701', '9955', '5', '77', '553', '316', '368',\n",
       "       '372', '470', '506', '604', '1136', '1158', '1242', '1244', '2368',\n",
       "       '2486', '1105', '1106', '1113', '1115', '1132', '1155', '1166',\n",
       "       '2488', '1400', '1033', '4', '8', '26', '22', '1927', '7721',\n",
       "       '591P', '846A', '8519', '8525', '8541', '8542', '9622', '356',\n",
       "       '1138', '1148', '1041', '6', '32', '50', '52', '86', '88', '9301',\n",
       "       '9303', '47', '60', '1234', '1250', '1241', '1034', '1035', '1043',\n",
       "       '7704', '10', '253', '1502', '8083', '8131', '9851', '27', '543',\n",
       "       '1198', '39', '87', '390', '448', '664', '805', '1054', '1065',\n",
       "       '1116', '1121', '1146', '1154', '1188', '1193', '1218', '1222',\n",
       "       '1224', '1226', '1228', '1235', '1237', '1249', '1260', '1262',\n",
       "       '1264', '1428', '7896', '7899', '1142', '1240', '2600', '30',\n",
       "       '2092', '2093', '3624', '9643', '9461', '9510', '9540', '1104A',\n",
       "       '706', '1088', '1091', '1099', '1134', '1169', '1170', '1195',\n",
       "       '1199', '1243', '1251', '1257', '1277', '1279', '1233', '54',\n",
       "       '1600', '2287', '4118', '9289', '85', '555', '620', '630', '1149',\n",
       "       '1503', '1531', '232', 265, 267, 269, 271, 273, 275, 277, 279, 281,\n",
       "       283, 285, 287, 289, 291, 293, 295, 297, 300, 302, 304, 306, 308,\n",
       "       312, 314, 316, 318, 320, 322, 324, 326, 328, 330, 334, 336, 340,\n",
       "       342, 344, 346, 348, 350, 352, 366, 380, 382, 384, 386, 388, 390,\n",
       "       404, 406, 410, 414, 430, 432, 434, 439, 443, 445, 448, 449, 455,\n",
       "       461, 481, 486, 492, 500, 502, 510, 530, 532, 536, 546, 572, 574,\n",
       "       576, 582, 592, 600, 602, 622, 632, 638, 642, 702, 704, 706, 708,\n",
       "       750, 752, 755, 757, 763, 801, 805, 833, 841, 843, 864, 888, 890,\n",
       "       892, 895, 897, 1088, 1091, 1117, 1126, 1128, 1134, 1136, 1141,\n",
       "       1146, 1166, 1170, 1176, 1178, 1186, 1188, 1191, 1193, 1197, 1199,\n",
       "       1222, 1224, 1226, 1241, 1243, 1246, 1247, 1259, 1267, 1269, 1277,\n",
       "       1279, 1281, 1446, 2370, 2372, 2374, 2474, 7811, 7813, 7896, 7899,\n",
       "       7911, 1101, 1102, 1106, 1230, 1235, 1236, 1237, 1238, 1239, 1261,\n",
       "       33, 43, 50, 54, 200, 202, 402, 700, 1031, 1033, 4, 6, 8, 10, 26,\n",
       "       32, 52, 86, 88, 110, 112, 201, 203, 207, 251, 253, 255, 301, 305,\n",
       "       307, 400], dtype=object)"
      ]
     },
     "execution_count": 46,
     "metadata": {},
     "output_type": "execute_result"
    }
   ],
   "source": [
    "df.Vlo_I.unique()"
   ]
  },
  {
   "cell_type": "markdown",
   "id": "undefined-forth",
   "metadata": {},
   "source": [
    "La variable de número de vuelo ha sido cargado como object y debería ser númerico, revisando el archivo no parece presentar problemas en los datos, sin embargo, al momento del cargue se presentan algunos valores con ''. "
   ]
  },
  {
   "cell_type": "code",
   "execution_count": 49,
   "id": "civilian-exercise",
   "metadata": {},
   "outputs": [
    {
     "ename": "ValueError",
     "evalue": "Unable to parse string \"989P\" at position 22232",
     "output_type": "error",
     "traceback": [
      "\u001b[1;31m----------------------------------------------------------------------\u001b[0m",
      "\u001b[1;31mValueError\u001b[0m                           Traceback (most recent call last)",
      "\u001b[1;32mpandas\\_libs\\lib.pyx\u001b[0m in \u001b[0;36mpandas._libs.lib.maybe_convert_numeric\u001b[1;34m()\u001b[0m\n",
      "\u001b[1;31mValueError\u001b[0m: Unable to parse string \"989P\"",
      "\nDuring handling of the above exception, another exception occurred:\n",
      "\u001b[1;31mValueError\u001b[0m                           Traceback (most recent call last)",
      "\u001b[1;32m<ipython-input-49-0137809caae8>\u001b[0m in \u001b[0;36m<module>\u001b[1;34m\u001b[0m\n\u001b[1;32m----> 1\u001b[1;33m \u001b[0mpd\u001b[0m\u001b[1;33m.\u001b[0m\u001b[0mto_numeric\u001b[0m\u001b[1;33m(\u001b[0m\u001b[0mdf\u001b[0m\u001b[1;33m.\u001b[0m\u001b[0mVlo_I\u001b[0m\u001b[1;33m)\u001b[0m\u001b[1;33m\u001b[0m\u001b[1;33m\u001b[0m\u001b[0m\n\u001b[0m\u001b[0;32m      2\u001b[0m \u001b[1;31m#\u001b[0m\u001b[1;33m\u001b[0m\u001b[1;33m\u001b[0m\u001b[1;33m\u001b[0m\u001b[0m\n",
      "\u001b[1;32m~\\Anaconda3\\lib\\site-packages\\pandas\\core\\tools\\numeric.py\u001b[0m in \u001b[0;36mto_numeric\u001b[1;34m(arg, errors, downcast)\u001b[0m\n\u001b[0;32m    153\u001b[0m         \u001b[1;32mtry\u001b[0m\u001b[1;33m:\u001b[0m\u001b[1;33m\u001b[0m\u001b[1;33m\u001b[0m\u001b[0m\n\u001b[0;32m    154\u001b[0m             values = lib.maybe_convert_numeric(\n\u001b[1;32m--> 155\u001b[1;33m                 \u001b[0mvalues\u001b[0m\u001b[1;33m,\u001b[0m \u001b[0mset\u001b[0m\u001b[1;33m(\u001b[0m\u001b[1;33m)\u001b[0m\u001b[1;33m,\u001b[0m \u001b[0mcoerce_numeric\u001b[0m\u001b[1;33m=\u001b[0m\u001b[0mcoerce_numeric\u001b[0m\u001b[1;33m\u001b[0m\u001b[1;33m\u001b[0m\u001b[0m\n\u001b[0m\u001b[0;32m    156\u001b[0m             )\n\u001b[0;32m    157\u001b[0m         \u001b[1;32mexcept\u001b[0m \u001b[1;33m(\u001b[0m\u001b[0mValueError\u001b[0m\u001b[1;33m,\u001b[0m \u001b[0mTypeError\u001b[0m\u001b[1;33m)\u001b[0m\u001b[1;33m:\u001b[0m\u001b[1;33m\u001b[0m\u001b[1;33m\u001b[0m\u001b[0m\n",
      "\u001b[1;32mpandas\\_libs\\lib.pyx\u001b[0m in \u001b[0;36mpandas._libs.lib.maybe_convert_numeric\u001b[1;34m()\u001b[0m\n",
      "\u001b[1;31mValueError\u001b[0m: Unable to parse string \"989P\" at position 22232"
     ]
    }
   ],
   "source": [
    "pd.to_numeric(df.Vlo_I)"
   ]
  },
  {
   "cell_type": "code",
   "execution_count": 52,
   "id": "senior-savannah",
   "metadata": {},
   "outputs": [
    {
     "ename": "ValueError",
     "evalue": "Unable to parse string \"846A\" at position 39266",
     "output_type": "error",
     "traceback": [
      "\u001b[1;31m----------------------------------------------------------------------\u001b[0m",
      "\u001b[1;31mValueError\u001b[0m                           Traceback (most recent call last)",
      "\u001b[1;32mpandas\\_libs\\lib.pyx\u001b[0m in \u001b[0;36mpandas._libs.lib.maybe_convert_numeric\u001b[1;34m()\u001b[0m\n",
      "\u001b[1;31mValueError\u001b[0m: Unable to parse string \"846A\"",
      "\nDuring handling of the above exception, another exception occurred:\n",
      "\u001b[1;31mValueError\u001b[0m                           Traceback (most recent call last)",
      "\u001b[1;32m<ipython-input-52-8a0dd5e2c227>\u001b[0m in \u001b[0;36m<module>\u001b[1;34m\u001b[0m\n\u001b[1;32m----> 1\u001b[1;33m \u001b[0mpd\u001b[0m\u001b[1;33m.\u001b[0m\u001b[0mto_numeric\u001b[0m\u001b[1;33m(\u001b[0m\u001b[0mdf\u001b[0m\u001b[1;33m.\u001b[0m\u001b[0mVlo_I\u001b[0m\u001b[1;33m.\u001b[0m\u001b[0mstr\u001b[0m\u001b[1;33m.\u001b[0m\u001b[0mreplace\u001b[0m\u001b[1;33m(\u001b[0m\u001b[1;34m\"P\"\u001b[0m\u001b[1;33m,\u001b[0m\u001b[1;34m\"\"\u001b[0m\u001b[1;33m)\u001b[0m\u001b[1;33m)\u001b[0m\u001b[1;33m\u001b[0m\u001b[1;33m\u001b[0m\u001b[0m\n\u001b[0m",
      "\u001b[1;32m~\\Anaconda3\\lib\\site-packages\\pandas\\core\\tools\\numeric.py\u001b[0m in \u001b[0;36mto_numeric\u001b[1;34m(arg, errors, downcast)\u001b[0m\n\u001b[0;32m    153\u001b[0m         \u001b[1;32mtry\u001b[0m\u001b[1;33m:\u001b[0m\u001b[1;33m\u001b[0m\u001b[1;33m\u001b[0m\u001b[0m\n\u001b[0;32m    154\u001b[0m             values = lib.maybe_convert_numeric(\n\u001b[1;32m--> 155\u001b[1;33m                 \u001b[0mvalues\u001b[0m\u001b[1;33m,\u001b[0m \u001b[0mset\u001b[0m\u001b[1;33m(\u001b[0m\u001b[1;33m)\u001b[0m\u001b[1;33m,\u001b[0m \u001b[0mcoerce_numeric\u001b[0m\u001b[1;33m=\u001b[0m\u001b[0mcoerce_numeric\u001b[0m\u001b[1;33m\u001b[0m\u001b[1;33m\u001b[0m\u001b[0m\n\u001b[0m\u001b[0;32m    156\u001b[0m             )\n\u001b[0;32m    157\u001b[0m         \u001b[1;32mexcept\u001b[0m \u001b[1;33m(\u001b[0m\u001b[0mValueError\u001b[0m\u001b[1;33m,\u001b[0m \u001b[0mTypeError\u001b[0m\u001b[1;33m)\u001b[0m\u001b[1;33m:\u001b[0m\u001b[1;33m\u001b[0m\u001b[1;33m\u001b[0m\u001b[0m\n",
      "\u001b[1;32mpandas\\_libs\\lib.pyx\u001b[0m in \u001b[0;36mpandas._libs.lib.maybe_convert_numeric\u001b[1;34m()\u001b[0m\n",
      "\u001b[1;31mValueError\u001b[0m: Unable to parse string \"846A\" at position 39266"
     ]
    }
   ],
   "source": [
    "pd.to_numeric(df.Vlo_I.str.replace(\"P\",\"\"))"
   ]
  },
  {
   "cell_type": "markdown",
   "id": "bronze-germany",
   "metadata": {},
   "source": [
    "El anterior error nos permite determinar que si hay problemas de digitación en la variable"
   ]
  },
  {
   "cell_type": "code",
   "execution_count": 70,
   "id": "velvet-course",
   "metadata": {},
   "outputs": [
    {
     "data": {
      "text/html": [
       "<div>\n",
       "<style scoped>\n",
       "    .dataframe tbody tr th:only-of-type {\n",
       "        vertical-align: middle;\n",
       "    }\n",
       "\n",
       "    .dataframe tbody tr th {\n",
       "        vertical-align: top;\n",
       "    }\n",
       "\n",
       "    .dataframe thead th {\n",
       "        text-align: right;\n",
       "    }\n",
       "</style>\n",
       "<table border=\"1\" class=\"dataframe\">\n",
       "  <thead>\n",
       "    <tr style=\"text-align: right;\">\n",
       "      <th></th>\n",
       "      <th>Fecha_I</th>\n",
       "      <th>Vlo_I</th>\n",
       "      <th>Ori_I</th>\n",
       "      <th>Des_I</th>\n",
       "      <th>Emp_I</th>\n",
       "      <th>Fecha_O</th>\n",
       "      <th>Vlo_O</th>\n",
       "      <th>Ori_O</th>\n",
       "      <th>Des_O</th>\n",
       "      <th>Emp_O</th>\n",
       "      <th>DIA</th>\n",
       "      <th>MES</th>\n",
       "      <th>AÑO</th>\n",
       "      <th>DIANOM</th>\n",
       "      <th>TIPOVUELO</th>\n",
       "      <th>OPERA</th>\n",
       "      <th>SIGLAORI</th>\n",
       "      <th>SIGLADES</th>\n",
       "    </tr>\n",
       "  </thead>\n",
       "  <tbody>\n",
       "    <tr>\n",
       "      <th>22232</th>\n",
       "      <td>2017-05-13 21:50:00</td>\n",
       "      <td>989P</td>\n",
       "      <td>SCEL</td>\n",
       "      <td>SUMU</td>\n",
       "      <td>AAL</td>\n",
       "      <td>2017-05-13 21:52:00</td>\n",
       "      <td>989</td>\n",
       "      <td>SCEL</td>\n",
       "      <td>SUMU</td>\n",
       "      <td>AAL</td>\n",
       "      <td>13</td>\n",
       "      <td>5</td>\n",
       "      <td>2017</td>\n",
       "      <td>Sabado</td>\n",
       "      <td>I</td>\n",
       "      <td>American Airlines</td>\n",
       "      <td>Santiago</td>\n",
       "      <td>Montevideo</td>\n",
       "    </tr>\n",
       "    <tr>\n",
       "      <th>27464</th>\n",
       "      <td>2017-06-16 20:30:00</td>\n",
       "      <td>940P</td>\n",
       "      <td>SCEL</td>\n",
       "      <td>KDFW</td>\n",
       "      <td>AAL</td>\n",
       "      <td>2017-06-16 20:50:00</td>\n",
       "      <td>940</td>\n",
       "      <td>SCEL</td>\n",
       "      <td>KDFW</td>\n",
       "      <td>AAL</td>\n",
       "      <td>16</td>\n",
       "      <td>6</td>\n",
       "      <td>2017</td>\n",
       "      <td>Viernes</td>\n",
       "      <td>I</td>\n",
       "      <td>American Airlines</td>\n",
       "      <td>Santiago</td>\n",
       "      <td>Dallas</td>\n",
       "    </tr>\n",
       "    <tr>\n",
       "      <th>39225</th>\n",
       "      <td>2017-08-07 19:00:00</td>\n",
       "      <td>591P</td>\n",
       "      <td>SCEL</td>\n",
       "      <td>LFPG</td>\n",
       "      <td>PUE</td>\n",
       "      <td>2017-08-07 20:35:00</td>\n",
       "      <td>591P</td>\n",
       "      <td>SCEL</td>\n",
       "      <td>LFPG</td>\n",
       "      <td>PUE</td>\n",
       "      <td>7</td>\n",
       "      <td>8</td>\n",
       "      <td>2017</td>\n",
       "      <td>Lunes</td>\n",
       "      <td>I</td>\n",
       "      <td>Plus Ultra Lineas Aereas</td>\n",
       "      <td>Santiago</td>\n",
       "      <td>Paris</td>\n",
       "    </tr>\n",
       "    <tr>\n",
       "      <th>39266</th>\n",
       "      <td>2017-08-24 23:00:00</td>\n",
       "      <td>846A</td>\n",
       "      <td>SCEL</td>\n",
       "      <td>KIAH</td>\n",
       "      <td>UAL</td>\n",
       "      <td>2017-08-24 23:00:00</td>\n",
       "      <td>2804</td>\n",
       "      <td>SCEL</td>\n",
       "      <td>KIAH</td>\n",
       "      <td>UAL</td>\n",
       "      <td>24</td>\n",
       "      <td>8</td>\n",
       "      <td>2017</td>\n",
       "      <td>Jueves</td>\n",
       "      <td>I</td>\n",
       "      <td>United Airlines</td>\n",
       "      <td>Santiago</td>\n",
       "      <td>Houston</td>\n",
       "    </tr>\n",
       "    <tr>\n",
       "      <th>58126</th>\n",
       "      <td>2017-11-05 17:00:00</td>\n",
       "      <td>1104A</td>\n",
       "      <td>SCEL</td>\n",
       "      <td>SCSE</td>\n",
       "      <td>SKU</td>\n",
       "      <td>2017-11-05 17:42:00</td>\n",
       "      <td>1104</td>\n",
       "      <td>SCEL</td>\n",
       "      <td>SCSE</td>\n",
       "      <td>SKU</td>\n",
       "      <td>5</td>\n",
       "      <td>11</td>\n",
       "      <td>2017</td>\n",
       "      <td>Domingo</td>\n",
       "      <td>N</td>\n",
       "      <td>Sky Airline</td>\n",
       "      <td>Santiago</td>\n",
       "      <td>La Serena</td>\n",
       "    </tr>\n",
       "  </tbody>\n",
       "</table>\n",
       "</div>"
      ],
      "text/plain": [
       "                  Fecha_I  Vlo_I Ori_I Des_I Emp_I             Fecha_O Vlo_O  \\\n",
       "22232 2017-05-13 21:50:00   989P  SCEL  SUMU   AAL 2017-05-13 21:52:00   989   \n",
       "27464 2017-06-16 20:30:00   940P  SCEL  KDFW   AAL 2017-06-16 20:50:00   940   \n",
       "39225 2017-08-07 19:00:00   591P  SCEL  LFPG   PUE 2017-08-07 20:35:00  591P   \n",
       "39266 2017-08-24 23:00:00   846A  SCEL  KIAH   UAL 2017-08-24 23:00:00  2804   \n",
       "58126 2017-11-05 17:00:00  1104A  SCEL  SCSE   SKU 2017-11-05 17:42:00  1104   \n",
       "\n",
       "      Ori_O Des_O Emp_O  DIA  MES   AÑO   DIANOM TIPOVUELO  \\\n",
       "22232  SCEL  SUMU   AAL   13    5  2017   Sabado         I   \n",
       "27464  SCEL  KDFW   AAL   16    6  2017  Viernes         I   \n",
       "39225  SCEL  LFPG   PUE    7    8  2017    Lunes         I   \n",
       "39266  SCEL  KIAH   UAL   24    8  2017   Jueves         I   \n",
       "58126  SCEL  SCSE   SKU    5   11  2017  Domingo         N   \n",
       "\n",
       "                          OPERA  SIGLAORI    SIGLADES  \n",
       "22232         American Airlines  Santiago  Montevideo  \n",
       "27464         American Airlines  Santiago      Dallas  \n",
       "39225  Plus Ultra Lineas Aereas  Santiago       Paris  \n",
       "39266           United Airlines  Santiago     Houston  \n",
       "58126               Sky Airline  Santiago   La Serena  "
      ]
     },
     "execution_count": 70,
     "metadata": {},
     "output_type": "execute_result"
    }
   ],
   "source": [
    "df[df.Vlo_I.isin([\"989P\",\"846A\", \"940P\", \"591P\", \"1104A\"])]"
   ]
  },
  {
   "cell_type": "markdown",
   "id": "concrete-carpet",
   "metadata": {},
   "source": [
    "Hay 5 registros con errores de digitación "
   ]
  },
  {
   "cell_type": "markdown",
   "id": "educated-communication",
   "metadata": {},
   "source": [
    "## Conclusiones "
   ]
  },
  {
   "cell_type": "markdown",
   "id": "prompt-naples",
   "metadata": {},
   "source": [
    "+ EL dataset cuenta errores de digitación en `Vlo-I` "
   ]
  },
  {
   "cell_type": "markdown",
   "id": "realistic-group",
   "metadata": {},
   "source": [
    "## Respuesta a preguntas "
   ]
  },
  {
   "cell_type": "markdown",
   "id": "noted-adams",
   "metadata": {},
   "source": [
    "### Pregunta 1"
   ]
  },
  {
   "cell_type": "markdown",
   "id": "complete-longitude",
   "metadata": {},
   "source": [
    "1. ¿Cómo se distribuyen los datos? ¿Qué te llama la atención o cuál es tu conclusión sobre esto?"
   ]
  },
  {
   "cell_type": "code",
   "execution_count": 17,
   "id": "infinite-punch",
   "metadata": {},
   "outputs": [
    {
     "name": "stdout",
     "output_type": "stream",
     "text": [
      "fecha minima 2017-01-01 00:15:00 y fecha maxima 2017-12-31 23:55:00\n"
     ]
    }
   ],
   "source": [
    "print(\"fecha minima {} y fecha maxima {}\".format(df[\"Fecha_I\"].min(),df[\"Fecha_I\"].max()))"
   ]
  },
  {
   "cell_type": "code",
   "execution_count": 16,
   "id": "controlling-shareware",
   "metadata": {},
   "outputs": [
    {
     "name": "stdout",
     "output_type": "stream",
     "text": [
      "fecha minima 2017-01-01 00:04:00 y fecha maxima 2018-01-01 00:12:00\n"
     ]
    }
   ],
   "source": [
    "print(\"fecha minima {} y fecha maxima {}\".format(df[\"Fecha_O\"].min(),df[\"Fecha_O\"].max()))"
   ]
  },
  {
   "cell_type": "markdown",
   "id": "comparable-prophet",
   "metadata": {},
   "source": [
    "Hubieron vuelos programados durante 2017 y la última operación se realizo el primero de enero de 2018."
   ]
  },
  {
   "cell_type": "code",
   "execution_count": 18,
   "id": "ideal-utility",
   "metadata": {},
   "outputs": [
    {
     "data": {
      "text/plain": [
       "SCEL    68206\n",
       "Name: Ori_I, dtype: int64"
      ]
     },
     "execution_count": 18,
     "metadata": {},
     "output_type": "execute_result"
    }
   ],
   "source": [
    "df.Ori_I.value_counts()"
   ]
  },
  {
   "cell_type": "code",
   "execution_count": 21,
   "id": "vulnerable-concord",
   "metadata": {},
   "outputs": [
    {
     "data": {
      "text/plain": [
       "64"
      ]
     },
     "execution_count": 21,
     "metadata": {},
     "output_type": "execute_result"
    }
   ],
   "source": [
    "len(df.Des_I.unique())"
   ]
  },
  {
   "cell_type": "code",
   "execution_count": 31,
   "id": "western-march",
   "metadata": {},
   "outputs": [
    {
     "data": {
      "text/plain": [
       "<AxesSubplot:xlabel='Des_I', ylabel='count'>"
      ]
     },
     "execution_count": 31,
     "metadata": {},
     "output_type": "execute_result"
    },
    {
     "data": {
      "image/png": "[encoded data removed]",
      "text/plain": [
       "<Figure size 3600x1800 with 1 Axes>"
      ]
     },
     "metadata": {
      "needs_background": "light"
     },
     "output_type": "display_data"
    }
   ],
   "source": [
    "plt.figure(figsize=(50,25))\n",
    "sns.countplot(x=df.Des_I)"
   ]
  },
  {
   "cell_type": "markdown",
   "id": "developed-roads",
   "metadata": {},
   "source": [
    "Solo hubo un origen programado de ciudad, de acuerdo con Internet el código SCEL pertenece al aeropuerto [Arturo Merino Benítez International Airport](https://airportcodes.aero/scel). En total hubieron 64 ciudad destino programadas, algunos con bastantes registros y otros no tanto. \n",
    "\n",
    "Entre los más visitados se encuentran los siguientes destinos nacionales y uno internacional:\n",
    "+ SCFA: Cerro Moreno International Airport (Chile)\n",
    "+ SPJC: Jorge Chávez International Airport (Perú)\n",
    "+ SCCF: El Loa Airport (Chile)\n",
    "+ SCTE: El Tepual Airport (Chile)\n",
    "\n"
   ]
  },
  {
   "cell_type": "code",
   "execution_count": 35,
   "id": "relative-confusion",
   "metadata": {},
   "outputs": [
    {
     "data": {
      "text/plain": [
       "SCFA    5787\n",
       "SPJC    5270\n",
       "SCCF    5145\n",
       "SCTE    4357\n",
       "SCIE    3995\n",
       "SCDA    3747\n",
       "SBGR    3570\n",
       "SAEZ    3240\n",
       "SABE    3094\n",
       "SCQP    2583\n",
       "SCAR    2436\n",
       "SCSE    2410\n",
       "SCCI    2105\n",
       "MPTO    1850\n",
       "SCAT    1780\n",
       "SAME    1625\n",
       "SKBO    1604\n",
       "SBGL    1434\n",
       "SUMU    1066\n",
       "SACO    1023\n",
       "KMIA    1015\n",
       "LEMD     894\n",
       "SCBA     843\n",
       "SCVD     753\n",
       "MMMX     700\n",
       "SCIP     452\n",
       "SEGU     423\n",
       "KJFK     383\n",
       "NZAA     361\n",
       "LFPG     359\n",
       "Name: Des_I, dtype: int64"
      ]
     },
     "execution_count": 35,
     "metadata": {},
     "output_type": "execute_result"
    }
   ],
   "source": [
    "df.Des_I.value_counts()[:30]"
   ]
  },
  {
   "cell_type": "code",
   "execution_count": 37,
   "id": "prospective-seminar",
   "metadata": {},
   "outputs": [
    {
     "data": {
      "text/plain": [
       "LIRF    259\n",
       "SCJO    259\n",
       "SCPQ    235\n",
       "SGAS    232\n",
       "SLLP    209\n",
       "EGLL    205\n",
       "YSSY    195\n",
       "SBFL    162\n",
       "KLAX    155\n",
       "SAAR    136\n",
       "SLVR    120\n",
       "SCNT     79\n",
       "MMUN     63\n",
       "MDPC     54\n",
       "YMML     38\n",
       "SANT     38\n",
       "SAZN     37\n",
       "SANU     35\n",
       "KMCO     34\n",
       "SULS      6\n",
       "SAWH      6\n",
       "SBCT      3\n",
       "SAZS      2\n",
       "SLCB      1\n",
       "SPSO      1\n",
       "SEQM      1\n",
       "EGYP      1\n",
       "SBFI      1\n",
       "SARI      1\n",
       "SEQU      1\n",
       "Name: Des_I, dtype: int64"
      ]
     },
     "execution_count": 37,
     "metadata": {},
     "output_type": "execute_result"
    }
   ],
   "source": [
    "df.Des_I.value_counts()[-30:]"
   ]
  },
  {
   "cell_type": "code",
   "execution_count": 39,
   "id": "developed-finger",
   "metadata": {},
   "outputs": [
    {
     "data": {
      "text/plain": [
       "LAN    37611\n",
       "SKU    14298\n",
       "TAM     3049\n",
       "ARG     1949\n",
       "CMP     1850\n",
       "LAW     1574\n",
       "AVA     1152\n",
       "JAT     1095\n",
       "GLO      806\n",
       "AAL      757\n",
       "ACA      565\n",
       "IBE      362\n",
       "AFR      358\n",
       "DAL      358\n",
       "AMX      351\n",
       "UAL      335\n",
       "ONE      279\n",
       "AZA      259\n",
       "KLM      251\n",
       "LAP      216\n",
       "BAW      205\n",
       "QFU      195\n",
       "JMR      100\n",
       "LRC       92\n",
       "AUT       74\n",
       "PUE       49\n",
       "LXP        9\n",
       "LPE        4\n",
       "DSM        2\n",
       "LNE        1\n",
       "Name: Emp_I, dtype: int64"
      ]
     },
     "execution_count": 39,
     "metadata": {},
     "output_type": "execute_result"
    }
   ],
   "source": [
    "df.Emp_I.value_counts()[:]"
   ]
  },
  {
   "cell_type": "code",
   "execution_count": 40,
   "id": "internal-electron",
   "metadata": {},
   "outputs": [
    {
     "data": {
      "text/plain": [
       "LAN    0.551432\n",
       "SKU    0.209630\n",
       "TAM    0.044703\n",
       "ARG    0.028575\n",
       "CMP    0.027124\n",
       "LAW    0.023077\n",
       "AVA    0.016890\n",
       "JAT    0.016054\n",
       "GLO    0.011817\n",
       "AAL    0.011099\n",
       "ACA    0.008284\n",
       "IBE    0.005307\n",
       "AFR    0.005249\n",
       "DAL    0.005249\n",
       "AMX    0.005146\n",
       "UAL    0.004912\n",
       "ONE    0.004091\n",
       "AZA    0.003797\n",
       "KLM    0.003680\n",
       "LAP    0.003167\n",
       "BAW    0.003006\n",
       "QFU    0.002859\n",
       "JMR    0.001466\n",
       "LRC    0.001349\n",
       "AUT    0.001085\n",
       "PUE    0.000718\n",
       "LXP    0.000132\n",
       "LPE    0.000059\n",
       "DSM    0.000029\n",
       "LNE    0.000015\n",
       "Name: Emp_I, dtype: float64"
      ]
     },
     "execution_count": 40,
     "metadata": {},
     "output_type": "execute_result"
    }
   ],
   "source": [
    "df.Emp_I.value_counts(normalize=True)"
   ]
  },
  {
   "cell_type": "markdown",
   "id": "cubic-nickel",
   "metadata": {},
   "source": [
    "La aerolineas que más presentan vuelos son LAN (55%) y SKU (22%)."
   ]
  },
  {
   "cell_type": "code",
   "execution_count": 80,
   "id": "changing-marijuana",
   "metadata": {},
   "outputs": [
    {
     "data": {
      "text/plain": [
       "174     686\n",
       "11      645\n",
       "116     608\n",
       "150     557\n",
       "704     556\n",
       "       ... \n",
       "1334      1\n",
       "1142      1\n",
       "1502      1\n",
       "1301      1\n",
       "9851      1\n",
       "Name: Vlo_I, Length: 579, dtype: int64"
      ]
     },
     "execution_count": 80,
     "metadata": {},
     "output_type": "execute_result"
    }
   ],
   "source": [
    "df[df.Vlo_I.isin([\"989P\",\"846A\", \"940P\", \"591P\", \"1104A\"])==False].Vlo_I.astype(int).value_counts()"
   ]
  },
  {
   "cell_type": "markdown",
   "id": "reliable-halloween",
   "metadata": {},
   "source": [
    "Respecto a los números de los vuelos programados hay algunos con varias repeticiones y otros con pocas."
   ]
  },
  {
   "cell_type": "code",
   "execution_count": 81,
   "id": "accepted-dimension",
   "metadata": {},
   "outputs": [
    {
     "data": {
      "text/plain": [
       "SCEL    68206\n",
       "Name: Ori_O, dtype: int64"
      ]
     },
     "execution_count": 81,
     "metadata": {},
     "output_type": "execute_result"
    }
   ],
   "source": [
    "df.Ori_O.value_counts()"
   ]
  },
  {
   "cell_type": "code",
   "execution_count": 83,
   "id": "spare-delta",
   "metadata": {},
   "outputs": [
    {
     "data": {
      "text/plain": [
       "63"
      ]
     },
     "execution_count": 83,
     "metadata": {},
     "output_type": "execute_result"
    }
   ],
   "source": [
    "len(df.Des_O.unique())"
   ]
  },
  {
   "cell_type": "markdown",
   "id": "affected-wiring",
   "metadata": {},
   "source": [
    "Hay una ciudad de destino operación que no aparece en el conjunto de códigos destinos programados\n",
    "\n",
    "Respuesta: KIAD"
   ]
  },
  {
   "cell_type": "code",
   "execution_count": 84,
   "id": "settled-settlement",
   "metadata": {},
   "outputs": [
    {
     "data": {
      "text/plain": [
       "{'KIAD'}"
      ]
     },
     "execution_count": 84,
     "metadata": {},
     "output_type": "execute_result"
    }
   ],
   "source": [
    "set(df.Des_O.unique()) - set(df.Des_I.unique()) "
   ]
  },
  {
   "cell_type": "code",
   "execution_count": 85,
   "id": "antique-tiffany",
   "metadata": {},
   "outputs": [
    {
     "data": {
      "text/plain": [
       "{'SARI', 'SEQU'}"
      ]
     },
     "execution_count": 85,
     "metadata": {},
     "output_type": "execute_result"
    }
   ],
   "source": [
    "set(df.Des_I.unique()) -set(df.Des_O.unique())"
   ]
  },
  {
   "cell_type": "markdown",
   "id": "backed-policy",
   "metadata": {},
   "source": [
    "Hay códigos de ciudad destino programados que no aparecen en los códigos de ciudad destino de operación.\n",
    "\n",
    "\n",
    "Respuesta: SARI, SEQU"
   ]
  },
  {
   "cell_type": "code",
   "execution_count": 86,
   "id": "alike-latex",
   "metadata": {},
   "outputs": [
    {
     "data": {
      "text/plain": [
       "SCFA    5786\n",
       "SPJC    5270\n",
       "SCCF    5146\n",
       "SCTE    4357\n",
       "SCIE    3993\n",
       "        ... \n",
       "SEQM       2\n",
       "KIAD       1\n",
       "EGYP       1\n",
       "SPSO       1\n",
       "SLCB       1\n",
       "Name: Des_O, Length: 63, dtype: int64"
      ]
     },
     "execution_count": 86,
     "metadata": {},
     "output_type": "execute_result"
    }
   ],
   "source": [
    "df.Des_O.value_counts()"
   ]
  },
  {
   "cell_type": "markdown",
   "id": "natural-insurance",
   "metadata": {},
   "source": [
    "Entre los más visitados a nivel de operación se encuentran los siguientes destinos nacionales y uno internacional:\n",
    "\n",
    "+ SCFA: Cerro Moreno International Airport (Chile)\n",
    "+ SPJC: Jorge Chávez International Airport (Perú)\n",
    "+ SCCF: El Loa Airport (Chile)\n",
    "+ SCTE: El Tepual Airport (Chile)"
   ]
  },
  {
   "cell_type": "code",
   "execution_count": 87,
   "id": "polyphonic-programmer",
   "metadata": {},
   "outputs": [
    {
     "data": {
      "text/plain": [
       "LAN    0.307715\n",
       "LXP    0.213442\n",
       "SKU    0.209630\n",
       "TAM    0.044659\n",
       "ARG    0.028531\n",
       "CMP    0.027124\n",
       "JMR    0.024147\n",
       "LPE    0.017799\n",
       "JAT    0.016054\n",
       "AVA    0.012975\n",
       "GLO    0.011817\n",
       "AAL    0.011099\n",
       "ACA    0.008284\n",
       "DSM    0.007228\n",
       "LNE    0.005483\n",
       "IBE    0.005307\n",
       "AFR    0.005249\n",
       "DAL    0.005249\n",
       "LRC    0.005234\n",
       "AMX    0.005146\n",
       "UAL    0.004912\n",
       "ONE    0.004091\n",
       "AZA    0.003797\n",
       "KLM    0.003680\n",
       "LAP    0.003211\n",
       "BAW    0.003006\n",
       "QFA    0.002859\n",
       "AUT    0.001129\n",
       "PUE    0.000718\n",
       "56R    0.000249\n",
       "48O    0.000147\n",
       "TPU    0.000029\n",
       "Name: Emp_O, dtype: float64"
      ]
     },
     "execution_count": 87,
     "metadata": {},
     "output_type": "execute_result"
    }
   ],
   "source": [
    "df.Emp_O.value_counts(normalize=True)"
   ]
  },
  {
   "cell_type": "markdown",
   "id": "lyric-quality",
   "metadata": {},
   "source": [
    "La aerolineas que más presentan vuelos a nivel de operación son LAN (30%) y LXP (21%), lo anterior contrarresta contra los valores a nivel de programación."
   ]
  },
  {
   "cell_type": "code",
   "execution_count": 14,
   "id": "confident-discrimination",
   "metadata": {},
   "outputs": [
    {
     "data": {
      "text/plain": [
       "array([ 1,  2,  3,  4,  5,  6,  7,  8,  9, 10, 11, 12, 13, 14, 15, 16, 17,\n",
       "       18, 19, 20, 21, 22, 23, 24, 25, 26, 27, 28, 29, 30, 31],\n",
       "      dtype=int64)"
      ]
     },
     "execution_count": 14,
     "metadata": {},
     "output_type": "execute_result"
    }
   ],
   "source": [
    "df.DIA.sort_values().unique()"
   ]
  },
  {
   "cell_type": "code",
   "execution_count": 16,
   "id": "resident-skating",
   "metadata": {},
   "outputs": [
    {
     "data": {
      "text/plain": [
       "array([ 1,  2,  3,  4,  5,  6,  7,  8,  9, 10, 11, 12], dtype=int64)"
      ]
     },
     "execution_count": 16,
     "metadata": {},
     "output_type": "execute_result"
    }
   ],
   "source": [
    "df.MES.sort_values().unique()"
   ]
  },
  {
   "cell_type": "code",
   "execution_count": 15,
   "id": "neutral-rochester",
   "metadata": {},
   "outputs": [
    {
     "data": {
      "text/plain": [
       "array([2017, 2018], dtype=int64)"
      ]
     },
     "execution_count": 15,
     "metadata": {},
     "output_type": "execute_result"
    }
   ],
   "source": [
    "df.AÑO.sort_values().unique()"
   ]
  },
  {
   "cell_type": "code",
   "execution_count": 18,
   "id": "attended-evolution",
   "metadata": {},
   "outputs": [
    {
     "data": {
      "text/plain": [
       "array(['Domingo', 'Lunes', 'Martes', 'Miercoles', 'Jueves', 'Sabado',\n",
       "       'Viernes'], dtype=object)"
      ]
     },
     "execution_count": 18,
     "metadata": {},
     "output_type": "execute_result"
    }
   ],
   "source": [
    "df.DIANOM.unique()"
   ]
  },
  {
   "cell_type": "code",
   "execution_count": 20,
   "id": "binary-creation",
   "metadata": {},
   "outputs": [
    {
     "data": {
      "text/plain": [
       "Viernes      0.150896\n",
       "Jueves       0.150295\n",
       "Lunes        0.148535\n",
       "Domingo      0.143624\n",
       "Miercoles    0.142539\n",
       "Martes       0.141659\n",
       "Sabado       0.122453\n",
       "Name: DIANOM, dtype: float64"
      ]
     },
     "execution_count": 20,
     "metadata": {},
     "output_type": "execute_result"
    }
   ],
   "source": [
    "df.DIANOM.value_counts(normalize=True)"
   ]
  },
  {
   "cell_type": "markdown",
   "id": "continental-column",
   "metadata": {},
   "source": [
    "Revisando las variables relacionadas a fecha de operación (día, mes y año) no presentan algún error."
   ]
  },
  {
   "cell_type": "code",
   "execution_count": 21,
   "id": "contemporary-sender",
   "metadata": {},
   "outputs": [
    {
     "data": {
      "text/plain": [
       "Viernes      10292\n",
       "Jueves       10251\n",
       "Lunes        10131\n",
       "Domingo       9796\n",
       "Miercoles     9722\n",
       "Martes        9662\n",
       "Sabado        8352\n",
       "Name: DIANOM, dtype: int64"
      ]
     },
     "execution_count": 21,
     "metadata": {},
     "output_type": "execute_result"
    }
   ],
   "source": [
    "df.DIANOM.value_counts()"
   ]
  },
  {
   "cell_type": "markdown",
   "id": "psychological-gazette",
   "metadata": {},
   "source": [
    "La variable día de la semana de operación de vuelo muestra que los jueves y viernes son los días de más vuelos (más no es muy significativo contra los otros días) y el día de menos registros es el sábado. "
   ]
  },
  {
   "cell_type": "code",
   "execution_count": 23,
   "id": "northern-violation",
   "metadata": {},
   "outputs": [
    {
     "data": {
      "text/plain": [
       "N    0.541976\n",
       "I    0.458024\n",
       "Name: TIPOVUELO, dtype: float64"
      ]
     },
     "execution_count": 23,
     "metadata": {},
     "output_type": "execute_result"
    }
   ],
   "source": [
    "df.TIPOVUELO.value_counts(normalize=True)"
   ]
  },
  {
   "cell_type": "markdown",
   "id": "corporate-married",
   "metadata": {},
   "source": [
    "Los vuelos más recurrentes son los nacionales con un 54% de la información frente a los internacionales."
   ]
  },
  {
   "cell_type": "code",
   "execution_count": 24,
   "id": "chief-latex",
   "metadata": {},
   "outputs": [
    {
     "data": {
      "text/plain": [
       "Grupo LATAM                 0.599537\n",
       "Sky Airline                 0.209630\n",
       "Aerolineas Argentinas       0.028575\n",
       "Copa Air                    0.027124\n",
       "Latin American Wings        0.024543\n",
       "Avianca                     0.016890\n",
       "JetSmart SPA                0.016054\n",
       "Gol Trans                   0.011817\n",
       "American Airlines           0.011099\n",
       "Air Canada                  0.008284\n",
       "Iberia                      0.005307\n",
       "Delta Air                   0.005249\n",
       "Air France                  0.005249\n",
       "Aeromexico                  0.005146\n",
       "United Airlines             0.004912\n",
       "Oceanair Linhas Aereas      0.004091\n",
       "Alitalia                    0.003797\n",
       "K.L.M.                      0.003680\n",
       "British Airways             0.003006\n",
       "Qantas Airways              0.002859\n",
       "Lacsa                       0.001349\n",
       "Austral                     0.001085\n",
       "Plus Ultra Lineas Aereas    0.000718\n",
       "Name: OPERA, dtype: float64"
      ]
     },
     "execution_count": 24,
     "metadata": {},
     "output_type": "execute_result"
    }
   ],
   "source": [
    "df.OPERA.value_counts(normalize=True)"
   ]
  },
  {
   "cell_type": "markdown",
   "id": "strong-premiere",
   "metadata": {},
   "source": [
    "El Grupo LATAM (60%) y Sky Airline (21%) son las aerolineas con mayor cantidad de vuelos registrados."
   ]
  },
  {
   "cell_type": "code",
   "execution_count": 26,
   "id": "organizational-disposition",
   "metadata": {},
   "outputs": [
    {
     "data": {
      "text/plain": [
       "Santiago    68206\n",
       "Name: SIGLAORI, dtype: int64"
      ]
     },
     "execution_count": 26,
     "metadata": {},
     "output_type": "execute_result"
    }
   ],
   "source": [
    "df.SIGLAORI.value_counts()"
   ]
  },
  {
   "cell_type": "code",
   "execution_count": 29,
   "id": "burning-association",
   "metadata": {},
   "outputs": [
    {
     "data": {
      "text/plain": [
       "Buenos Aires        0.092880\n",
       "Antofagasta         0.084831\n",
       "Lima                0.077266\n",
       "Calama              0.075448\n",
       "Puerto Montt        0.063880\n",
       "Concepcion          0.058543\n",
       "Iquique             0.054937\n",
       "Sao Paulo           0.052327\n",
       "Temuco              0.037959\n",
       "Arica               0.035715\n",
       "La Serena           0.035334\n",
       "Punta Arenas        0.030862\n",
       "Ciudad de Panama    0.027124\n",
       "Copiapo             0.026097\n",
       "Mendoza             0.023825\n",
       "Bogota              0.023517\n",
       "Rio de Janeiro      0.021039\n",
       "Montevideo          0.015629\n",
       "Cordoba             0.014999\n",
       "Miami               0.014896\n",
       "Madrid              0.013107\n",
       "Balmaceda           0.012301\n",
       "Valdivia            0.011040\n",
       "Ciudad de Mexico    0.010263\n",
       "Isla de Pascua      0.006627\n",
       "Guayaquil           0.006187\n",
       "Nueva York          0.005601\n",
       "Auckland N.Z.       0.005293\n",
       "Paris               0.005263\n",
       "Atlanta             0.005249\n",
       "Name: SIGLADES, dtype: float64"
      ]
     },
     "execution_count": 29,
     "metadata": {},
     "output_type": "execute_result"
    }
   ],
   "source": [
    "df.SIGLADES.value_counts(normalize=True)[:30]"
   ]
  },
  {
   "cell_type": "code",
   "execution_count": 31,
   "id": "ethical-aspect",
   "metadata": {},
   "outputs": [
    {
     "data": {
      "text/plain": [
       "0        SCEL\n",
       "1        SCEL\n",
       "2        SCEL\n",
       "3        SCEL\n",
       "4        SCEL\n",
       "         ... \n",
       "68201    SCEL\n",
       "68202    SCEL\n",
       "68203    SCEL\n",
       "68204    SCEL\n",
       "68205    SCEL\n",
       "Name: Ori_I, Length: 68206, dtype: object"
      ]
     },
     "execution_count": 31,
     "metadata": {},
     "output_type": "execute_result"
    }
   ],
   "source": [
    "df.Ori_I"
   ]
  },
  {
   "cell_type": "markdown",
   "id": "chubby-employment",
   "metadata": {},
   "source": [
    "### Respuesta 1"
   ]
  },
  {
   "cell_type": "markdown",
   "id": "innovative-detective",
   "metadata": {},
   "source": [
    "Recapitulando el análisis realizado y con el contexto recolectado del desafio podemos tener las siguientes conclusiones:\n",
    "\n",
    "- Hay 5 registros con errores de digitación para los números de vuelos programados - `Vlo-I`, se encuentran encontrarón los siguientes valores \"989P\",\"846A\", \"940P\", \"591P\", \"1104A\".\n",
    "- Hubieron vuelos programados durante 2017 y la última operación se realizo el primero de enero de 2018.\n",
    "- Solo hubo un origen programado de ciudad, de acuerdo con Internet el código `SCEL` pertenece al aeropuerto [Arturo Merino Benítez International Airport](https://airportcodes.aero/scel). En total hubieron 64 ciudad destino programadas, algunos con bastantes registros y otros no tanto.\n",
    "- La aerolineas que más presentan vuelos son LATAM (55%) y Sky Airline (22%).\n",
    "- Hay una ciudad de destino en operaciones que no aparece en el conjunto de códigos destinos programados Respuesta: KIAD\n",
    "- Hay códigos de ciudad destino programados que no aparecen en los códigos de ciudad destino de operación. Respuesta: SARI, SEQU\n",
    "- La variable día de la semana de operación de vuelo muestra que los jueves y viernes son los días de más vuelos (más no es muy significativo contra los otros días) y el día de menos registros es el sábado.\n",
    "- Los vuelos más recurrentes son los nacionales con un 54% de la información frente a los internacionales.\n",
    "- Entre los más visitados se encuentran los siguientes destinos nacionales y uno internacional:\n",
    "    - SCFA: Cerro Moreno International Airport (Chile)\n",
    "    - SPJC: Jorge Chávez International Airport (Perú)\n",
    "    - SCCF: El Loa Airport (Chile)\n",
    "    - SCTE: El Tepual Airport (Chile)\n",
    "\n",
    "\n",
    "**Preguntas por realizar a negocio**\n",
    "\n",
    "- ¿Es normal que aparezcan códigos de operación que no sean incluidos en los vuelos programados? ¿de manera contrataría también?\n",
    "- ¿El código de ciudad corresponde al código de identificación de los aeropuertos?\n",
    "- ¿Cúal sería la manera de corregir el problema de digitación detectado en `Vlo-I`?\n",
    "\n"
   ]
  },
  {
   "cell_type": "markdown",
   "id": "automatic-weather",
   "metadata": {},
   "source": [
    "***"
   ]
  },
  {
   "cell_type": "markdown",
   "id": "general-antenna",
   "metadata": {},
   "source": [
    "### Pregunta 2\n",
    "\n",
    "Genera las columnas adicionales y luego expórtelas en un archivo synthetic_features.csv :\n",
    "+ temporada_alta : 1 si Fecha-I está entre 15-Dic y 3-Mar, o 15-Jul y 31-Jul, o 11-Sep y 30-Sep, 0 si no.\n",
    "+ dif_min : diferencia en minutos entre Fecha-O y Fecha-I .\n",
    "+ atraso_15 : 1 si dif_min > 15, 0 si no.\n",
    "+ periodo_dia : mañana (entre 5:00 y 11:59), tarde (entre 12:00 y 18:59) y noche (entre 19:00 y 4:59), en base a\n",
    "Fecha-I ."
   ]
  },
  {
   "cell_type": "code",
   "execution_count": 5,
   "id": "julian-conflict",
   "metadata": {},
   "outputs": [],
   "source": [
    "df[\"temporada_alta\"] = np.where((df.Fecha_I >= \"2017-12-15\") | (df.Fecha_I <= \"2017-03-03\"), 1, 0)"
   ]
  },
  {
   "cell_type": "code",
   "execution_count": 6,
   "id": "executive-williams",
   "metadata": {},
   "outputs": [],
   "source": [
    "df[\"dif_min\"]  = (df.Fecha_O - df.Fecha_I).dt.components.minutes"
   ]
  },
  {
   "cell_type": "code",
   "execution_count": 7,
   "id": "spoken-vulnerability",
   "metadata": {},
   "outputs": [],
   "source": [
    "df[\"atraso_15\"] = np.where(df.dif_min > 15, 1, 0)"
   ]
  },
  {
   "cell_type": "code",
   "execution_count": 10,
   "id": "empty-trinity",
   "metadata": {},
   "outputs": [],
   "source": [
    "df[\"periodo_dia\"] = np.where((df.Fecha_I.dt.hour >= 5) & (df.Fecha_I.dt.hour < 12),\"mañana\",\"\")\n",
    "df[\"periodo_dia\"] = np.where((df.Fecha_I.dt.hour >= 12) & (df.Fecha_I.dt.hour < 19),\"tarde\", df.periodo_dia)\n",
    "df.loc[df.periodo_dia == \"\", \"periodo_dia\"] = \"noche\""
   ]
  },
  {
   "cell_type": "markdown",
   "id": "biological-measure",
   "metadata": {},
   "source": [
    "***"
   ]
  },
  {
   "cell_type": "markdown",
   "id": "palestinian-torture",
   "metadata": {},
   "source": [
    "### Pregunta 3\n",
    "\n",
    "¿Cómo se compone la tasa de atraso por destino, aerolínea, mes del año, día de la semana, temporada, tipo de vuelo?\n",
    "¿Qué variables esperarías que más influyeran en predecir atrasos?"
   ]
  },
  {
   "cell_type": "code",
   "execution_count": 15,
   "id": "french-plant",
   "metadata": {},
   "outputs": [
    {
     "data": {
      "text/html": [
       "<div>\n",
       "<style scoped>\n",
       "    .dataframe tbody tr th:only-of-type {\n",
       "        vertical-align: middle;\n",
       "    }\n",
       "\n",
       "    .dataframe tbody tr th {\n",
       "        vertical-align: top;\n",
       "    }\n",
       "\n",
       "    .dataframe thead th {\n",
       "        text-align: right;\n",
       "    }\n",
       "</style>\n",
       "<table border=\"1\" class=\"dataframe\">\n",
       "  <thead>\n",
       "    <tr style=\"text-align: right;\">\n",
       "      <th>temporada_alta</th>\n",
       "      <th>0</th>\n",
       "      <th>1</th>\n",
       "    </tr>\n",
       "    <tr>\n",
       "      <th>atraso_15</th>\n",
       "      <th></th>\n",
       "      <th></th>\n",
       "    </tr>\n",
       "  </thead>\n",
       "  <tbody>\n",
       "    <tr>\n",
       "      <th>0</th>\n",
       "      <td>0.435504</td>\n",
       "      <td>0.130208</td>\n",
       "    </tr>\n",
       "    <tr>\n",
       "      <th>1</th>\n",
       "      <td>0.336877</td>\n",
       "      <td>0.097411</td>\n",
       "    </tr>\n",
       "  </tbody>\n",
       "</table>\n",
       "</div>"
      ],
      "text/plain": [
       "temporada_alta         0         1\n",
       "atraso_15                         \n",
       "0               0.435504  0.130208\n",
       "1               0.336877  0.097411"
      ]
     },
     "execution_count": 15,
     "metadata": {},
     "output_type": "execute_result"
    }
   ],
   "source": [
    "pd.crosstab(df.atraso_15, df.temporada_alta, normalize=True)"
   ]
  },
  {
   "cell_type": "markdown",
   "id": "unlimited-square",
   "metadata": {},
   "source": [
    "El atraso de los vuelos no se ven impactados en temporadas altas"
   ]
  },
  {
   "cell_type": "code",
   "execution_count": 16,
   "id": "liked-worse",
   "metadata": {},
   "outputs": [
    {
     "data": {
      "text/html": [
       "<div>\n",
       "<style scoped>\n",
       "    .dataframe tbody tr th:only-of-type {\n",
       "        vertical-align: middle;\n",
       "    }\n",
       "\n",
       "    .dataframe tbody tr th {\n",
       "        vertical-align: top;\n",
       "    }\n",
       "\n",
       "    .dataframe thead th {\n",
       "        text-align: right;\n",
       "    }\n",
       "</style>\n",
       "<table border=\"1\" class=\"dataframe\">\n",
       "  <thead>\n",
       "    <tr style=\"text-align: right;\">\n",
       "      <th>TIPOVUELO</th>\n",
       "      <th>I</th>\n",
       "      <th>N</th>\n",
       "    </tr>\n",
       "    <tr>\n",
       "      <th>atraso_15</th>\n",
       "      <th></th>\n",
       "      <th></th>\n",
       "    </tr>\n",
       "  </thead>\n",
       "  <tbody>\n",
       "    <tr>\n",
       "      <th>0</th>\n",
       "      <td>0.240785</td>\n",
       "      <td>0.324927</td>\n",
       "    </tr>\n",
       "    <tr>\n",
       "      <th>1</th>\n",
       "      <td>0.217239</td>\n",
       "      <td>0.217048</td>\n",
       "    </tr>\n",
       "  </tbody>\n",
       "</table>\n",
       "</div>"
      ],
      "text/plain": [
       "TIPOVUELO         I         N\n",
       "atraso_15                    \n",
       "0          0.240785  0.324927\n",
       "1          0.217239  0.217048"
      ]
     },
     "execution_count": 16,
     "metadata": {},
     "output_type": "execute_result"
    }
   ],
   "source": [
    "pd.crosstab(df.atraso_15, df.TIPOVUELO, normalize=True)"
   ]
  },
  {
   "cell_type": "markdown",
   "id": "electrical-colombia",
   "metadata": {},
   "source": [
    "El atraso de los vuelos no se ven impactados por el tipo de vuelo"
   ]
  },
  {
   "cell_type": "code",
   "execution_count": 17,
   "id": "optical-conference",
   "metadata": {},
   "outputs": [
    {
     "data": {
      "text/html": [
       "<div>\n",
       "<style scoped>\n",
       "    .dataframe tbody tr th:only-of-type {\n",
       "        vertical-align: middle;\n",
       "    }\n",
       "\n",
       "    .dataframe tbody tr th {\n",
       "        vertical-align: top;\n",
       "    }\n",
       "\n",
       "    .dataframe thead th {\n",
       "        text-align: right;\n",
       "    }\n",
       "</style>\n",
       "<table border=\"1\" class=\"dataframe\">\n",
       "  <thead>\n",
       "    <tr style=\"text-align: right;\">\n",
       "      <th>DIANOM</th>\n",
       "      <th>Domingo</th>\n",
       "      <th>Jueves</th>\n",
       "      <th>Lunes</th>\n",
       "      <th>Martes</th>\n",
       "      <th>Miercoles</th>\n",
       "      <th>Sabado</th>\n",
       "      <th>Viernes</th>\n",
       "    </tr>\n",
       "    <tr>\n",
       "      <th>atraso_15</th>\n",
       "      <th></th>\n",
       "      <th></th>\n",
       "      <th></th>\n",
       "      <th></th>\n",
       "      <th></th>\n",
       "      <th></th>\n",
       "      <th></th>\n",
       "    </tr>\n",
       "  </thead>\n",
       "  <tbody>\n",
       "    <tr>\n",
       "      <th>0</th>\n",
       "      <td>0.080931</td>\n",
       "      <td>0.084919</td>\n",
       "      <td>0.083028</td>\n",
       "      <td>0.079714</td>\n",
       "      <td>0.081855</td>\n",
       "      <td>0.068689</td>\n",
       "      <td>0.086576</td>\n",
       "    </tr>\n",
       "    <tr>\n",
       "      <th>1</th>\n",
       "      <td>0.062692</td>\n",
       "      <td>0.065375</td>\n",
       "      <td>0.065507</td>\n",
       "      <td>0.061945</td>\n",
       "      <td>0.060684</td>\n",
       "      <td>0.053764</td>\n",
       "      <td>0.064320</td>\n",
       "    </tr>\n",
       "  </tbody>\n",
       "</table>\n",
       "</div>"
      ],
      "text/plain": [
       "DIANOM      Domingo    Jueves     Lunes    Martes  Miercoles    Sabado  \\\n",
       "atraso_15                                                                \n",
       "0          0.080931  0.084919  0.083028  0.079714   0.081855  0.068689   \n",
       "1          0.062692  0.065375  0.065507  0.061945   0.060684  0.053764   \n",
       "\n",
       "DIANOM      Viernes  \n",
       "atraso_15            \n",
       "0          0.086576  \n",
       "1          0.064320  "
      ]
     },
     "execution_count": 17,
     "metadata": {},
     "output_type": "execute_result"
    }
   ],
   "source": [
    "pd.crosstab(df.atraso_15, df.DIANOM, normalize=True)"
   ]
  },
  {
   "cell_type": "markdown",
   "id": "crude-intellectual",
   "metadata": {},
   "source": [
    "Voy a explorar una aproximación revisando el mutual information score "
   ]
  },
  {
   "cell_type": "code",
   "execution_count": 27,
   "id": "comprehensive-nepal",
   "metadata": {},
   "outputs": [],
   "source": [
    "from sklearn.feature_selection import mutual_info_classif\n",
    "from sklearn import tree\n",
    "from sklearn.model_selection import train_test_split\n",
    "from sklearn import preprocessing\n",
    "\n",
    "features = [\"Des_O\", \"Emp_O\", \"MES\", \"DIA\", \"temporada_alta\", \"TIPOVUELO\"]\n",
    "discrete_features = [True, True, True, True, True, True]\n",
    "\n",
    "df_2 = df.copy()\n",
    "categ=[\"Des_O\", \"Emp_O\", \"DIA\", \"TIPOVUELO\"]\n",
    "le = preprocessing.LabelEncoder()\n",
    "df_2[categ] = df_2[categ].apply(le.fit_transform)\n",
    "\n",
    "X_train, X_test, y_train, y_test = train_test_split(df_2[features], df_2.atraso_15, test_size=0.33, random_state=42)\n",
    "\n",
    "def make_mi_scores(X, y, discrete_features):\n",
    "    mi_scores = mutual_info_classif(X, y, discrete_features= discrete_features)\n",
    "    mi_scores = pd.Series(mi_scores, name=\"MI Scores\", index=X.columns)\n",
    "    mi_scores = mi_scores.sort_values(ascending=False)\n",
    "    return mi_scores\n",
    "\n",
    "mi_scores = make_mi_scores(X_train, y_train, discrete_features)\n"
   ]
  },
  {
   "cell_type": "code",
   "execution_count": 28,
   "id": "4fabb0ac",
   "metadata": {},
   "outputs": [],
   "source": [
    "def plot_mi_scores(scores):\n",
    "    scores = scores.sort_values(ascending=True)\n",
    "    width = np.arange(len(scores))\n",
    "    ticks = list(scores.index)\n",
    "    plt.barh(width, scores)\n",
    "    plt.yticks(width, ticks)\n",
    "    plt.title(\"Mutual Information Scores\")"
   ]
  },
  {
   "cell_type": "code",
   "execution_count": 29,
   "id": "67724b5a",
   "metadata": {},
   "outputs": [
    {
     "data": {
      "image/png": "[encoded data removed]",
      "text/plain": [
       "<Figure size 800x500 with 1 Axes>"
      ]
     },
     "metadata": {},
     "output_type": "display_data"
    }
   ],
   "source": [
    "import matplotlib.pyplot as plt\n",
    "import numpy as np\n",
    "\n",
    "plt.figure(dpi=100, figsize=(8, 5))\n",
    "plot_mi_scores(mi_scores)"
   ]
  },
  {
   "cell_type": "markdown",
   "id": "9e763da3",
   "metadata": {},
   "source": [
    "En principio esperaría que los atrasos fueran influidos por el día, mes, temporada alta y el tipo de vuelo; sin embargo, utilizando el anterior análisis entre las variables podriamos decir que la aerolinea y el destino incluyen los valores que más afectan a los atrasos de los vuelos.\n",
    "\n",
    "El trabajo a futuro sería indagar un poco más en el resultado para encontrar aquellos valores de mayor y menor impacto en los atrasos de los vuelos en compañia del negocio."
   ]
  },
  {
   "cell_type": "markdown",
   "id": "ambient-coordination",
   "metadata": {},
   "source": [
    "## Preprocesamiento\n",
    "\n",
    "En la presente unidad se automatiza el proceso de carga y transformación "
   ]
  },
  {
   "cell_type": "code",
   "execution_count": 1,
   "id": "recent-portugal",
   "metadata": {},
   "outputs": [],
   "source": [
    "# librerias\n",
    "import pandas as pd\n",
    "import seaborn as sns\n",
    "import matplotlib.pyplot as plt\n",
    "import numpy as np\n",
    "from sklearn.model_selection import train_test_split\n",
    "from sklearn import preprocessing\n",
    "from sklearn import metrics\n",
    "\n",
    "random_state = 5\n",
    "np.random.seed(random_state)\n",
    "\n",
    "# datos\n",
    "df = pd.read_csv(\"datasets/dataset_SCL.csv\", low_memory=False)\n",
    "\n",
    "# transformaciones\n",
    "df = pd.read_csv(\"datasets/dataset_SCL.csv\", low_memory=False)\n",
    "df[\"Fecha-I\"] = pd.to_datetime(df[\"Fecha-I\"])\n",
    "df[\"Fecha-O\"] = pd.to_datetime(df[\"Fecha-O\"])\n",
    "df.columns = df.columns.str.replace(\"-\",\"_\")\n",
    "\n",
    "# ingenieria de variables\n",
    "df[\"temporada_alta\"] = np.where((df.Fecha_I >= \"2017-12-15\") | (df.Fecha_I <= \"2017-03-03\"), 1, 0)\n",
    "df[\"dif_min\"]  = (df.Fecha_O - df.Fecha_I).dt.components.minutes\n",
    "df[\"atraso_15\"] = np.where(df.dif_min > 15, 1, 0)\n",
    "df[\"periodo_dia\"] = np.where((df.Fecha_I.dt.hour >= 5) & (df.Fecha_I.dt.hour < 12),\"mañana\",\"\")\n",
    "df[\"periodo_dia\"] = np.where((df.Fecha_I.dt.hour >= 12) & (df.Fecha_I.dt.hour < 19),\"tarde\", df.periodo_dia)\n",
    "df.loc[df.periodo_dia == \"\", \"periodo_dia\"] = \"noche\""
   ]
  },
  {
   "cell_type": "markdown",
   "id": "2927aa44",
   "metadata": {},
   "source": [
    "## Modelamiento"
   ]
  },
  {
   "cell_type": "markdown",
   "id": "ef118caa",
   "metadata": {},
   "source": [
    "Entrena uno o varios modelos (usando el/los algoritmo(s) que prefieras) para estimar la probabilidad de atraso de un vuelo.\n",
    "Siéntete libre de generar variables adicionales y/o complementar con variables externas."
   ]
  },
  {
   "cell_type": "markdown",
   "id": "7eda3387",
   "metadata": {},
   "source": [
    "**Backward selection**\n",
    "\n",
    "Para el modelamiento partire desde una aproximación con la mayor cantidad de variables (sin incluir las variables temporales de fecha) y luego ir reduciendo la complejidad."
   ]
  },
  {
   "cell_type": "markdown",
   "id": "90748ca8",
   "metadata": {},
   "source": [
    "Hay que tener presente que existe un desbalance a nivel de los valores de la variable objetivo."
   ]
  },
  {
   "cell_type": "code",
   "execution_count": 17,
   "id": "e4b8161d",
   "metadata": {},
   "outputs": [
    {
     "data": {
      "text/plain": [
       "0    0.565713\n",
       "1    0.434287\n",
       "Name: atraso_15, dtype: float64"
      ]
     },
     "execution_count": 17,
     "metadata": {},
     "output_type": "execute_result"
    }
   ],
   "source": [
    "df.atraso_15.value_counts(normalize=True)"
   ]
  },
  {
   "cell_type": "markdown",
   "id": "072a8593",
   "metadata": {},
   "source": [
    "### Experimento 1"
   ]
  },
  {
   "cell_type": "markdown",
   "id": "a5c32661",
   "metadata": {},
   "source": [
    "+ El experimento 1 tendrá como proposito entrenar un conjunto de  algoritmos clasificatorios (RandomForest, Naive Bayes y SVM) a partir de una aproxmación de holdout."
   ]
  },
  {
   "cell_type": "code",
   "execution_count": 2,
   "id": "3d987f1b",
   "metadata": {},
   "outputs": [],
   "source": [
    "features = list(set(df.columns) - set([\"Vlo_I\",  \"Fecha_I\", \"Fecha_O\",  \"Vlo_O\", \"AÑO\"]))"
   ]
  },
  {
   "cell_type": "code",
   "execution_count": 3,
   "id": "e6de8a62",
   "metadata": {},
   "outputs": [],
   "source": [
    "df_2 = df[features].copy()\n",
    "categ = list(set(df_2.select_dtypes(\"object\").columns.values) - set([\"atraso_15\"]))\n",
    "le = preprocessing.LabelEncoder()\n",
    "df_2[categ] = df_2[categ].apply(le.fit_transform)"
   ]
  },
  {
   "cell_type": "code",
   "execution_count": 4,
   "id": "add852a9",
   "metadata": {},
   "outputs": [],
   "source": [
    "from sklearn.ensemble import RandomForestClassifier\n",
    "from sklearn.model_selection import train_test_split\n",
    "\n",
    "features = list(set(features) - set([\"atraso_15\"]))\n",
    "\n",
    "X_train, X_test, y_train, y_test = train_test_split(df_2[features], df_2.atraso_15, test_size=0.20, random_state=random_state)"
   ]
  },
  {
   "cell_type": "code",
   "execution_count": 131,
   "id": "1cc41eb1",
   "metadata": {},
   "outputs": [],
   "source": [
    "\"\"\"\n",
    "El siguiente código crea un transformer por cada columna object para el training, lo cual deberá aplicarse para el testing.\n",
    "Lo evaluare si el tiempo lo permite \n",
    "\"\"\"\n",
    "# el siguiente codigo lo pondre a revisión\n",
    "# categ = X_train.select_dtypes(\"object\").columns.values\n",
    "# label_trans = []\n",
    "# for i in categ:    \n",
    "#     le = preprocessing.LabelEncoder()\n",
    "#     le.fit(X_train[i])\n",
    "#     X_train[i] = le.transform(X_train[i])\n",
    "#     label_trans.append(le)\n",
    "\n",
    "# for e, i in enumerate(categ):        \n",
    "#     print(e, i)\n",
    "#     X_test[i] = label_trans[e].transform(X_test[i])    "
   ]
  },
  {
   "cell_type": "code",
   "execution_count": 30,
   "id": "c6eef0a4",
   "metadata": {},
   "outputs": [
    {
     "data": {
      "text/plain": [
       "RandomForestClassifier(bootstrap=True, ccp_alpha=0.0, class_weight=None,\n",
       "                       criterion='gini', max_depth=2, max_features='auto',\n",
       "                       max_leaf_nodes=None, max_samples=None,\n",
       "                       min_impurity_decrease=0.0, min_impurity_split=None,\n",
       "                       min_samples_leaf=1, min_samples_split=2,\n",
       "                       min_weight_fraction_leaf=0.0, n_estimators=100,\n",
       "                       n_jobs=None, oob_score=False, random_state=5, verbose=0,\n",
       "                       warm_start=False)"
      ]
     },
     "execution_count": 30,
     "metadata": {},
     "output_type": "execute_result"
    }
   ],
   "source": [
    "clf = RandomForestClassifier(max_depth=2,  random_state=random_state)\n",
    "clf.fit(X_train, y_train)"
   ]
  },
  {
   "cell_type": "code",
   "execution_count": 31,
   "id": "deb54fcd",
   "metadata": {},
   "outputs": [],
   "source": [
    "y_pred = clf.predict(X_test)"
   ]
  },
  {
   "cell_type": "code",
   "execution_count": 32,
   "id": "05290573",
   "metadata": {},
   "outputs": [
    {
     "name": "stdout",
     "output_type": "stream",
     "text": [
      "              precision    recall  f1-score   support\n",
      "\n",
      "           0       1.00      1.00      1.00      7670\n",
      "           1       1.00      1.00      1.00      5972\n",
      "\n",
      "    accuracy                           1.00     13642\n",
      "   macro avg       1.00      1.00      1.00     13642\n",
      "weighted avg       1.00      1.00      1.00     13642\n",
      "\n",
      "1.0\n"
     ]
    }
   ],
   "source": [
    "from sklearn.metrics import classification_report\n",
    "    \n",
    "print(classification_report(y_test, y_pred))\n",
    "print(metrics.cohen_kappa_score(y_pred, y_test))"
   ]
  },
  {
   "cell_type": "markdown",
   "id": "403b03c1",
   "metadata": {},
   "source": [
    "El anterior resultado nos permite concluir que holdout no fue una buena aproximación teniendo presente que la variable objetivo cuenta con un desbalance en sus valores."
   ]
  },
  {
   "cell_type": "code",
   "execution_count": 33,
   "id": "d701ac2e",
   "metadata": {},
   "outputs": [
    {
     "name": "stdout",
     "output_type": "stream",
     "text": [
      "              precision    recall  f1-score   support\n",
      "\n",
      "           0       0.97      0.97      0.97      7670\n",
      "           1       0.97      0.96      0.96      5972\n",
      "\n",
      "    accuracy                           0.97     13642\n",
      "   macro avg       0.97      0.97      0.97     13642\n",
      "weighted avg       0.97      0.97      0.97     13642\n",
      "\n",
      "0.933658665441433\n"
     ]
    }
   ],
   "source": [
    "from sklearn.naive_bayes import GaussianNB\n",
    "\n",
    "clf = GaussianNB()\n",
    "clf.fit(X_train, y_train)\n",
    "\n",
    "y_pred = clf.predict(X_test)\n",
    "\n",
    "print(classification_report(y_test, y_pred))\n",
    "print(metrics.cohen_kappa_score(y_pred, y_test))"
   ]
  },
  {
   "cell_type": "markdown",
   "id": "86f7591c",
   "metadata": {},
   "source": [
    "+ Al parecer el primer modelo presenta un sobreajuste a diferencia del segundo, por lo anterior voy a revisar reduciendo la complejidad."
   ]
  },
  {
   "cell_type": "markdown",
   "id": "26072b89",
   "metadata": {},
   "source": [
    "### Experimento 2"
   ]
  },
  {
   "cell_type": "markdown",
   "id": "391e3ae3",
   "metadata": {},
   "source": [
    "Con base al anterior resultado voy a disminuir la cantidad de variables y ver el impacto de aquellas que mejor score se obtuvieron durante el análisis de la [pregunta 3](#Pregunta-3)"
   ]
  },
  {
   "cell_type": "code",
   "execution_count": 28,
   "id": "4f0d3585",
   "metadata": {},
   "outputs": [
    {
     "name": "stdout",
     "output_type": "stream",
     "text": [
      "              precision    recall  f1-score   support\n",
      "\n",
      "           0       0.60      0.87      0.71      7670\n",
      "           1       0.60      0.26      0.36      5972\n",
      "\n",
      "    accuracy                           0.60     13642\n",
      "   macro avg       0.60      0.56      0.54     13642\n",
      "weighted avg       0.60      0.60      0.56     13642\n",
      "\n",
      "0.13449411906470232\n"
     ]
    }
   ],
   "source": [
    "clf = RandomForestClassifier(max_depth=2,  random_state=random_state)\n",
    "clf.fit(X_train[[\"Emp_O\", \"Des_O\"]], y_train)\n",
    "\n",
    "y_pred = clf.predict(X_test[[\"Emp_O\", \"Des_O\"]])\n",
    "print(classification_report(y_test, y_pred))\n",
    "print(metrics.cohen_kappa_score(y_pred, y_test))"
   ]
  },
  {
   "cell_type": "code",
   "execution_count": 29,
   "id": "12d2c242",
   "metadata": {},
   "outputs": [
    {
     "name": "stdout",
     "output_type": "stream",
     "text": [
      "              precision    recall  f1-score   support\n",
      "\n",
      "           0       0.59      0.88      0.70      7670\n",
      "           1       0.57      0.20      0.30      5972\n",
      "\n",
      "    accuracy                           0.58     13642\n",
      "   macro avg       0.58      0.54      0.50     13642\n",
      "weighted avg       0.58      0.58      0.53     13642\n",
      "\n",
      "0.09050578941468557\n"
     ]
    }
   ],
   "source": [
    "clf = GaussianNB()\n",
    "clf.fit(X_train[[\"Emp_O\", \"Des_O\"]], y_train)\n",
    "\n",
    "y_pred = clf.predict(X_test[[\"Emp_O\", \"Des_O\"]])\n",
    "\n",
    "print(classification_report(y_test, y_pred))\n",
    "print(metrics.cohen_kappa_score(y_pred, y_test))"
   ]
  },
  {
   "cell_type": "markdown",
   "id": "3483e567",
   "metadata": {},
   "source": [
    "### Experimento 3"
   ]
  },
  {
   "cell_type": "code",
   "execution_count": 13,
   "id": "097b43f3",
   "metadata": {},
   "outputs": [],
   "source": [
    "from sklearn.feature_selection import mutual_info_classif\n",
    "from sklearn import tree\n",
    "from sklearn.model_selection import train_test_split\n",
    "from sklearn import preprocessing\n",
    "\n",
    "def make_mi_scores(X, y, discrete_features):\n",
    "    mi_scores = mutual_info_classif(X, y)\n",
    "    mi_scores = pd.Series(mi_scores, name=\"MI Scores\", index=X.columns)\n",
    "    mi_scores = mi_scores.sort_values(ascending=False)\n",
    "    return mi_scores\n",
    "\n",
    "mi_scores = make_mi_scores(X_train, y_train, discrete_features)\n"
   ]
  },
  {
   "cell_type": "code",
   "execution_count": 14,
   "id": "f8979f5d",
   "metadata": {},
   "outputs": [],
   "source": [
    "def plot_mi_scores(scores):\n",
    "    scores = scores.sort_values(ascending=True)\n",
    "    width = np.arange(len(scores))\n",
    "    ticks = list(scores.index)\n",
    "    plt.barh(width, scores)\n",
    "    plt.yticks(width, ticks)\n",
    "    plt.title(\"Mutual Information Scores\")"
   ]
  },
  {
   "cell_type": "code",
   "execution_count": 15,
   "id": "b117f971",
   "metadata": {},
   "outputs": [
    {
     "data": {
      "image/png": "[encoded data removed]",
      "text/plain": [
       "<Figure size 800x500 with 1 Axes>"
      ]
     },
     "metadata": {},
     "output_type": "display_data"
    }
   ],
   "source": [
    "import matplotlib.pyplot as plt\n",
    "import numpy as np\n",
    "\n",
    "plt.figure(dpi=100, figsize=(8, 5))\n",
    "plot_mi_scores(mi_scores)"
   ]
  },
  {
   "cell_type": "code",
   "execution_count": 27,
   "id": "e07fd069",
   "metadata": {},
   "outputs": [
    {
     "name": "stdout",
     "output_type": "stream",
     "text": [
      "              precision    recall  f1-score   support\n",
      "\n",
      "           0       1.00      1.00      1.00      7670\n",
      "           1       1.00      1.00      1.00      5972\n",
      "\n",
      "    accuracy                           1.00     13642\n",
      "   macro avg       1.00      1.00      1.00     13642\n",
      "weighted avg       1.00      1.00      1.00     13642\n",
      "\n",
      "1.0\n"
     ]
    }
   ],
   "source": [
    "clf = RandomForestClassifier(max_depth=2,  random_state=random_state)\n",
    "clf.fit(X_train[[\"dif_min\"]], y_train)\n",
    "\n",
    "y_pred = clf.predict(X_test[[\"dif_min\"]])\n",
    "print(classification_report(y_test, y_pred))\n",
    "print(metrics.cohen_kappa_score(y_pred, y_test))"
   ]
  },
  {
   "cell_type": "markdown",
   "id": "a9caa4dd",
   "metadata": {},
   "source": [
    "Es claro que incluir la independeniente que permitio crear la variable dependiente tiene un gran impacto en la predicción, por lo anterior voy a proponer otro experimento sin tener la anterior presente."
   ]
  },
  {
   "cell_type": "markdown",
   "id": "a29aa66f",
   "metadata": {},
   "source": [
    "### Experimento 4\n",
    "\n",
    "En el presente experimento se reducen el número de variables aquellas con mejor capacidad de mutual information score."
   ]
  },
  {
   "cell_type": "code",
   "execution_count": 36,
   "id": "0a26b76b",
   "metadata": {},
   "outputs": [
    {
     "name": "stdout",
     "output_type": "stream",
     "text": [
      "              precision    recall  f1-score   support\n",
      "\n",
      "           0       0.59      0.92      0.72      7670\n",
      "           1       0.64      0.19      0.29      5972\n",
      "\n",
      "    accuracy                           0.60     13642\n",
      "   macro avg       0.62      0.55      0.51     13642\n",
      "weighted avg       0.61      0.60      0.53     13642\n",
      "\n",
      "0.11642977758406192\n"
     ]
    }
   ],
   "source": [
    "clf = RandomForestClassifier(max_depth=2,  random_state=random_state)\n",
    "clf.fit(X_train[[\"OPERA\",\"Emp_O\", \"Des_O\"]], y_train)\n",
    "\n",
    "y_pred = clf.predict(X_test[[\"OPERA\",\"Emp_O\", \"Des_O\"]])\n",
    "print(classification_report(y_test, y_pred))\n",
    "print(metrics.cohen_kappa_score(y_pred, y_test))"
   ]
  },
  {
   "cell_type": "code",
   "execution_count": 35,
   "id": "dafeba25",
   "metadata": {},
   "outputs": [
    {
     "name": "stdout",
     "output_type": "stream",
     "text": [
      "              precision    recall  f1-score   support\n",
      "\n",
      "           0       0.59      0.89      0.71      7670\n",
      "           1       0.62      0.22      0.32      5972\n",
      "\n",
      "    accuracy                           0.60     13642\n",
      "   macro avg       0.61      0.56      0.52     13642\n",
      "weighted avg       0.60      0.60      0.54     13642\n",
      "\n",
      "0.12093052193695175\n"
     ]
    }
   ],
   "source": [
    "clf = RandomForestClassifier(max_depth=2,  random_state=random_state)\n",
    "clf.fit(X_train[[\"SIGLADES\",\"Emp_O\", \"Des_O\"]], y_train)\n",
    "\n",
    "y_pred = clf.predict(X_test[[\"SIGLADES\",\"Emp_O\", \"Des_O\"]])\n",
    "print(classification_report(y_test, y_pred))\n",
    "print(metrics.cohen_kappa_score(y_pred, y_test))"
   ]
  },
  {
   "cell_type": "code",
   "execution_count": 26,
   "id": "4eb0db3f",
   "metadata": {},
   "outputs": [
    {
     "name": "stdout",
     "output_type": "stream",
     "text": [
      "              precision    recall  f1-score   support\n",
      "\n",
      "           0       0.59      0.88      0.71      7670\n",
      "           1       0.58      0.21      0.31      5972\n",
      "\n",
      "    accuracy                           0.59     13642\n",
      "   macro avg       0.59      0.55      0.51     13642\n",
      "weighted avg       0.59      0.59      0.53     13642\n",
      "\n",
      "0.09919157002073298\n"
     ]
    }
   ],
   "source": [
    "clf = GaussianNB()\n",
    "clf.fit(X_train[[\"OPERA\", \"Emp_O\", \"Des_O\"]], y_train)\n",
    "\n",
    "y_pred = clf.predict(X_test[[\"OPERA\", \"Emp_O\", \"Des_O\"]])\n",
    "\n",
    "print(classification_report(y_test, y_pred))\n",
    "print(metrics.cohen_kappa_score(y_pred, y_test))"
   ]
  },
  {
   "cell_type": "code",
   "execution_count": 37,
   "id": "fd7d0b67",
   "metadata": {},
   "outputs": [
    {
     "name": "stdout",
     "output_type": "stream",
     "text": [
      "              precision    recall  f1-score   support\n",
      "\n",
      "           0       0.59      0.88      0.70      7670\n",
      "           1       0.57      0.20      0.30      5972\n",
      "\n",
      "    accuracy                           0.58     13642\n",
      "   macro avg       0.58      0.54      0.50     13642\n",
      "weighted avg       0.58      0.58      0.53     13642\n",
      "\n",
      "0.09110767206669546\n"
     ]
    }
   ],
   "source": [
    "clf = GaussianNB()\n",
    "clf.fit(X_train[[\"SIGLADES\", \"Emp_O\", \"Des_O\"]], y_train)\n",
    "\n",
    "y_pred = clf.predict(X_test[[\"SIGLADES\", \"Emp_O\", \"Des_O\"]])\n",
    "\n",
    "print(classification_report(y_test, y_pred))\n",
    "print(metrics.cohen_kappa_score(y_pred, y_test))"
   ]
  },
  {
   "cell_type": "code",
   "execution_count": 38,
   "id": "d50ee98b",
   "metadata": {},
   "outputs": [
    {
     "data": {
      "text/plain": [
       "0.38"
      ]
     },
     "execution_count": 38,
     "metadata": {},
     "output_type": "execute_result"
    }
   ],
   "source": [
    "1-0.62"
   ]
  },
  {
   "cell_type": "markdown",
   "id": "bb1c8183",
   "metadata": {},
   "source": [
    "### Conclusión y trabajo futuro\n",
    "\n",
    "Con base los experimentos 1-4 se podría decir que el mejor modelo es aquel entrenado con las variables \"SIGLADES\", \"Emp_O\", \"Des_O\" y un algortimo de RandomForest. \n",
    "\n",
    "El mejor modelo hasta el momento cuenta con una capacidad contra falsos positivos del 62%, pero con una baja detección de retrasos del 20%. El anterior resultado tocaría revisarlo con negocio para validar si el performance a nivel de detección es adecuado o no. \n",
    "\n",
    "Se propone como trabajo futuro explorar la aplicación de ingeniería de variables, ver el comportamiento temporal y estudiar la perspectiva del problema como cuantitativo prediciendo la variable `dif_min`"
   ]
  },
  {
   "cell_type": "markdown",
   "id": "9aea12c7",
   "metadata": {},
   "source": [
    "## Resultados\n",
    "\n",
    "Evalúa tu modelo. ¿Qué performance tiene? ¿Qué métricas usaste para evaluar esa performance y por qué? ¿Por qué\n",
    "elegiste ese algoritmo en particular? ¿Qué variables son las que más influyen en la predicción? ¿Cómo podrías mejorar la\n",
    "performance?"
   ]
  },
  {
   "cell_type": "markdown",
   "id": "fc62808f",
   "metadata": {},
   "source": [
    "A continuación, se realiza el análisis del performance de los modelos entrenados y evaluados en la [anterior unidad](#Modelamiento). Las mátricas utilizadas fueron `precision, recall, f1-score y cohen kappa`, las anteriores nos permitirán evaluar la efectividad del modelo contra errores tipo I y II, adicionalmente con la última métrica se valorará la capacidad de predicción del modelo a pesar de ser entrenado con un desbalance en la variable objetivo."
   ]
  },
  {
   "cell_type": "markdown",
   "id": "f7ac9a2c",
   "metadata": {},
   "source": [
    "Para el conjunto se seleccionaron los algoritmos Random Forest y Naive Bayes para el desarrollo de modelos base, los anteriores fueron estudiados debido a que el primero es bastante robusto para un escenario de despliegue en batch de datos y el segundo (Naive Bayes) para requerimientos de despliegue en datos continuos. Es importante mencionar que no se exploraron otros algoritmos que podrían ser incluidos debido a que los datos traen comportamiento temporal, por ejemplo análisis de series de tiempo o la aplicación de redes neuronales profundas con Prophet. "
   ]
  },
  {
   "cell_type": "markdown",
   "id": "d28a0032",
   "metadata": {},
   "source": [
    "Por el momento podría decir que las variables que mejoran la predicción son las siguientes:\n",
    "+ Emp-O : Código aerolínea de vuelo operado.\n",
    "+ Emp-I : Código aerolínea de vuelo programado.\n",
    "+ SIGLADES: Nombre ciudad destino.\n",
    "\n",
    "Además, realizaría un análisis para ver el impacto de las anteriores en la prediccióin con shap values y otra aplicación con análisis exploratorio para dar mayor intepretabilidad al resultado."
   ]
  },
  {
   "cell_type": "markdown",
   "id": "bcc0426f",
   "metadata": {},
   "source": [
    "El performance lo podría mejorar aplicando ingeniería de variables, explorando otros algoritmos predictivos (por ejemplo, XGBoost, regresión logistica, deep learning, series temporales, etc.), incluendo más información y entendiendo más el contexto del negocio."
   ]
  }
 ],
 "metadata": {
  "kernelspec": {
   "display_name": "Python 3",
   "language": "python",
   "name": "python3"
  },
  "language_info": {
   "codemirror_mode": {
    "name": "ipython",
    "version": 3
   },
   "file_extension": ".py",
   "mimetype": "text/x-python",
   "name": "python",
   "nbconvert_exporter": "python",
   "pygments_lexer": "ipython3",
   "version": "3.7.12"
  }
 },
 "nbformat": 4,
 "nbformat_minor": 5
}
