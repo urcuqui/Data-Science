{
 "cells": [
  {
   "cell_type": "markdown",
   "id": "operating-broadcasting",
   "metadata": {},
   "source": [
    "# Introducción\n",
    "\n",
    "**Nombre: Christian Camilo Urcuqui López**\n",
    "\n",
    "En el presente notebook se desarrolla el reto propuesto por LATAM Airlines, el recurso se componente de las siguientes unidades:\n",
    "\n",
    "+ [Descripcion del reto y datos](#Descripcion-del-reto-y-datos)\n",
    "+ [Exploracion](#Exploracion)\n",
    "    - Respuesta a preguntas\n",
    "+ Modelamiento\n",
    "+ Resultados\n",
    "+ Conclusiones\n",
    "+ Trabajo futuro"
   ]
  },
  {
   "cell_type": "markdown",
   "id": "compact-schema",
   "metadata": {},
   "source": [
    "# Descripcion del reto y datos"
   ]
  },
  {
   "cell_type": "markdown",
   "id": "electric-consultation",
   "metadata": {},
   "source": [
    "El problema consiste en predecir la probabilidad de **atraso de los vuelos que aterrizan o despegan del aeropuerto de Santiago de Chile (SCL)**. Para eso les entregamos un dataset usando datos públicos y reales donde **cada fila corresponde a un vuelo que aterrizó o despegó de SCL**. Para cada vuelo se cuenta con la siguiente información:"
   ]
  },
  {
   "cell_type": "markdown",
   "id": "cordless-meter",
   "metadata": {},
   "source": [
    "1. Fecha-I : Fecha y hora programada del vuelo.\n",
    "2. Vlo-I : Número de vuelo programado.\n",
    "3. Ori-I : Código de ciudad de origen programado.\n",
    "4. Des-I : Código de ciudad de destino programado.\n",
    "5. Emp-I : Código aerolínea de vuelo programado.\n",
    "6. Fecha-O : Fecha y hora de operación del vuelo.\n",
    "7. Vlo-O : Número de vuelo de operación del vuelo.\n",
    "8. Ori-O : Código de ciudad de origen de operación\n",
    "9. Des-O : Código de ciudad de destino de operación.\n",
    "10. Emp-O : Código aerolínea de vuelo operado.\n",
    "11. DIA : Día del mes de operación del vuelo.\n",
    "12. MES : Número de mes de operación del vuelo.\n",
    "13. AÑO : Año de operación del vuelo.\n",
    "14. DIANOM : Día de la semana de operación del vuelo.\n",
    "15. TIPOVUELO : Tipo de vuelo, I =Internacional, N =Nacional.\n",
    "16. OPERA : Nombre de aerolínea que opera.\n",
    "17. SIGLAORI : Nombre ciudad origen.\n",
    "18. SIGLADES : Nombre ciudad destino."
   ]
  },
  {
   "cell_type": "markdown",
   "id": "departmental-closing",
   "metadata": {},
   "source": [
    "***\n",
    "**Notas**\n",
    "\n",
    "El diccionario presenta una cantidad de 18 variables, el cual no explica en detalle rangos, formato, tipos y definición de valores que puedan servir para encontrar errores para corrección."
   ]
  },
  {
   "cell_type": "markdown",
   "id": "dated-thing",
   "metadata": {},
   "source": [
    "# Análisis exploratorio"
   ]
  },
  {
   "cell_type": "markdown",
   "id": "raised-coalition",
   "metadata": {},
   "source": [
    "## librerias"
   ]
  },
  {
   "cell_type": "code",
   "execution_count": 29,
   "id": "instant-sunset",
   "metadata": {},
   "outputs": [],
   "source": [
    "import pandas as pd\n",
    "import seaborn as sns\n",
    "import matplotlib.pyplot as plt"
   ]
  },
  {
   "cell_type": "markdown",
   "id": "thermal-stevens",
   "metadata": {},
   "source": [
    "## Carga de información"
   ]
  },
  {
   "cell_type": "code",
   "execution_count": 5,
   "id": "significant-optics",
   "metadata": {},
   "outputs": [
    {
     "name": "stderr",
     "output_type": "stream",
     "text": [
      "C:\\Users\\Usuario\\Anaconda3\\lib\\site-packages\\IPython\\core\\interactiveshell.py:3166: DtypeWarning: Columns (1,6) have mixed types.Specify dtype option on import or set low_memory=False.\n",
      "  interactivity=interactivity, compiler=compiler, result=result)\n"
     ]
    }
   ],
   "source": [
    "df = pd.read_csv(\"datasets/dataset_SCL.csv\")"
   ]
  },
  {
   "cell_type": "markdown",
   "id": "final-overall",
   "metadata": {},
   "source": [
    "## Exploracion"
   ]
  },
  {
   "cell_type": "code",
   "execution_count": 6,
   "id": "suited-tomato",
   "metadata": {},
   "outputs": [
    {
     "name": "stdout",
     "output_type": "stream",
     "text": [
      "<class 'pandas.core.frame.DataFrame'>\n",
      "RangeIndex: 68206 entries, 0 to 68205\n",
      "Data columns (total 18 columns):\n",
      " #   Column     Non-Null Count  Dtype \n",
      "---  ------     --------------  ----- \n",
      " 0   Fecha-I    68206 non-null  object\n",
      " 1   Vlo-I      68206 non-null  object\n",
      " 2   Ori-I      68206 non-null  object\n",
      " 3   Des-I      68206 non-null  object\n",
      " 4   Emp-I      68206 non-null  object\n",
      " 5   Fecha-O    68206 non-null  object\n",
      " 6   Vlo-O      68205 non-null  object\n",
      " 7   Ori-O      68206 non-null  object\n",
      " 8   Des-O      68206 non-null  object\n",
      " 9   Emp-O      68206 non-null  object\n",
      " 10  DIA        68206 non-null  int64 \n",
      " 11  MES        68206 non-null  int64 \n",
      " 12  AÑO        68206 non-null  int64 \n",
      " 13  DIANOM     68206 non-null  object\n",
      " 14  TIPOVUELO  68206 non-null  object\n",
      " 15  OPERA      68206 non-null  object\n",
      " 16  SIGLAORI   68206 non-null  object\n",
      " 17  SIGLADES   68206 non-null  object\n",
      "dtypes: int64(3), object(15)\n",
      "memory usage: 9.4+ MB\n"
     ]
    }
   ],
   "source": [
    "df.info()"
   ]
  },
  {
   "cell_type": "markdown",
   "id": "british-mandate",
   "metadata": {},
   "source": [
    "En principio cargado dice que no presenta NaN, sin embargo sería bueno luego indagar ya que hay datos cargados como tipo object"
   ]
  },
  {
   "cell_type": "code",
   "execution_count": 6,
   "id": "respective-weekend",
   "metadata": {},
   "outputs": [
    {
     "data": {
      "text/html": [
       "<div>\n",
       "<style scoped>\n",
       "    .dataframe tbody tr th:only-of-type {\n",
       "        vertical-align: middle;\n",
       "    }\n",
       "\n",
       "    .dataframe tbody tr th {\n",
       "        vertical-align: top;\n",
       "    }\n",
       "\n",
       "    .dataframe thead th {\n",
       "        text-align: right;\n",
       "    }\n",
       "</style>\n",
       "<table border=\"1\" class=\"dataframe\">\n",
       "  <thead>\n",
       "    <tr style=\"text-align: right;\">\n",
       "      <th></th>\n",
       "      <th>Fecha-I</th>\n",
       "      <th>Vlo-I</th>\n",
       "      <th>Ori-I</th>\n",
       "      <th>Des-I</th>\n",
       "      <th>Emp-I</th>\n",
       "      <th>Fecha-O</th>\n",
       "      <th>Vlo-O</th>\n",
       "      <th>Ori-O</th>\n",
       "      <th>Des-O</th>\n",
       "      <th>Emp-O</th>\n",
       "      <th>DIA</th>\n",
       "      <th>MES</th>\n",
       "      <th>AÑO</th>\n",
       "      <th>DIANOM</th>\n",
       "      <th>TIPOVUELO</th>\n",
       "      <th>OPERA</th>\n",
       "      <th>SIGLAORI</th>\n",
       "      <th>SIGLADES</th>\n",
       "    </tr>\n",
       "  </thead>\n",
       "  <tbody>\n",
       "    <tr>\n",
       "      <th>0</th>\n",
       "      <td>2017-01-01 23:30:00</td>\n",
       "      <td>226</td>\n",
       "      <td>SCEL</td>\n",
       "      <td>KMIA</td>\n",
       "      <td>AAL</td>\n",
       "      <td>2017-01-01 23:33:00</td>\n",
       "      <td>226</td>\n",
       "      <td>SCEL</td>\n",
       "      <td>KMIA</td>\n",
       "      <td>AAL</td>\n",
       "      <td>1</td>\n",
       "      <td>1</td>\n",
       "      <td>2017</td>\n",
       "      <td>Domingo</td>\n",
       "      <td>I</td>\n",
       "      <td>American Airlines</td>\n",
       "      <td>Santiago</td>\n",
       "      <td>Miami</td>\n",
       "    </tr>\n",
       "    <tr>\n",
       "      <th>1</th>\n",
       "      <td>2017-01-02 23:30:00</td>\n",
       "      <td>226</td>\n",
       "      <td>SCEL</td>\n",
       "      <td>KMIA</td>\n",
       "      <td>AAL</td>\n",
       "      <td>2017-01-02 23:39:00</td>\n",
       "      <td>226</td>\n",
       "      <td>SCEL</td>\n",
       "      <td>KMIA</td>\n",
       "      <td>AAL</td>\n",
       "      <td>2</td>\n",
       "      <td>1</td>\n",
       "      <td>2017</td>\n",
       "      <td>Lunes</td>\n",
       "      <td>I</td>\n",
       "      <td>American Airlines</td>\n",
       "      <td>Santiago</td>\n",
       "      <td>Miami</td>\n",
       "    </tr>\n",
       "    <tr>\n",
       "      <th>2</th>\n",
       "      <td>2017-01-03 23:30:00</td>\n",
       "      <td>226</td>\n",
       "      <td>SCEL</td>\n",
       "      <td>KMIA</td>\n",
       "      <td>AAL</td>\n",
       "      <td>2017-01-03 23:39:00</td>\n",
       "      <td>226</td>\n",
       "      <td>SCEL</td>\n",
       "      <td>KMIA</td>\n",
       "      <td>AAL</td>\n",
       "      <td>3</td>\n",
       "      <td>1</td>\n",
       "      <td>2017</td>\n",
       "      <td>Martes</td>\n",
       "      <td>I</td>\n",
       "      <td>American Airlines</td>\n",
       "      <td>Santiago</td>\n",
       "      <td>Miami</td>\n",
       "    </tr>\n",
       "  </tbody>\n",
       "</table>\n",
       "</div>"
      ],
      "text/plain": [
       "               Fecha-I Vlo-I Ori-I Des-I Emp-I              Fecha-O Vlo-O  \\\n",
       "0  2017-01-01 23:30:00   226  SCEL  KMIA   AAL  2017-01-01 23:33:00   226   \n",
       "1  2017-01-02 23:30:00   226  SCEL  KMIA   AAL  2017-01-02 23:39:00   226   \n",
       "2  2017-01-03 23:30:00   226  SCEL  KMIA   AAL  2017-01-03 23:39:00   226   \n",
       "\n",
       "  Ori-O Des-O Emp-O  DIA  MES   AÑO   DIANOM TIPOVUELO              OPERA  \\\n",
       "0  SCEL  KMIA   AAL    1    1  2017  Domingo         I  American Airlines   \n",
       "1  SCEL  KMIA   AAL    2    1  2017    Lunes         I  American Airlines   \n",
       "2  SCEL  KMIA   AAL    3    1  2017   Martes         I  American Airlines   \n",
       "\n",
       "   SIGLAORI SIGLADES  \n",
       "0  Santiago    Miami  \n",
       "1  Santiago    Miami  \n",
       "2  Santiago    Miami  "
      ]
     },
     "execution_count": 6,
     "metadata": {},
     "output_type": "execute_result"
    }
   ],
   "source": [
    "df.head(3)"
   ]
  },
  {
   "cell_type": "markdown",
   "id": "satisfactory-archives",
   "metadata": {},
   "source": [
    "Contamos con una cantidad de 68206 registros por 18 variables (mencionadas en el diccionario de variables)"
   ]
  },
  {
   "cell_type": "markdown",
   "id": "timely-black",
   "metadata": {},
   "source": [
    "### transformación"
   ]
  },
  {
   "cell_type": "markdown",
   "id": "waiting-sperm",
   "metadata": {},
   "source": [
    "1. Se procederá a cambiar las variables a su debido tipo, por ejemplo la de fecha a datetime en pandas"
   ]
  },
  {
   "cell_type": "code",
   "execution_count": 8,
   "id": "velvet-reality",
   "metadata": {},
   "outputs": [],
   "source": [
    "df[\"Fecha-I\"] = pd.to_datetime(df[\"Fecha-I\"])\n",
    "df[\"Fecha-O\"] = pd.to_datetime(df[\"Fecha-O\"])"
   ]
  },
  {
   "cell_type": "markdown",
   "id": "undefined-elite",
   "metadata": {},
   "source": [
    "2. Voy a cambiar el nombre de las columnas para mayor comodidad durante el desarrollo del trabajo"
   ]
  },
  {
   "cell_type": "code",
   "execution_count": 15,
   "id": "cosmetic-testimony",
   "metadata": {},
   "outputs": [],
   "source": [
    "df.columns = df.columns.str.replace(\"-\",\"_\")"
   ]
  },
  {
   "cell_type": "code",
   "execution_count": 46,
   "id": "favorite-chocolate",
   "metadata": {
    "scrolled": true
   },
   "outputs": [
    {
     "data": {
      "text/plain": [
       "array(['226', '912', '940', '92', '93', '401', '11', '1011', '1281',\n",
       "       '1283', '1285', '1287', '1289', '1291', '2291', '98', '116', '176',\n",
       "       '240', '295', '689', '250', '112', '118', '174', '249', '276',\n",
       "       '495', '4495', '146', '7661', '7663', '9245', '9268', '9362',\n",
       "       '6830', '702', '624', '28', '846', '709', '741', '8021', '8023',\n",
       "       '8027', '8029', '8069', '8073', '8075', '8099', '8125', '8137',\n",
       "       '8160', '8161', '9601', '9615', '9651', '9653', '9661', '9689',\n",
       "       '9782', '9623', '1', '3', '7', '9', '13', '15', '17', '21', '23',\n",
       "       '25', '41', '43', '51', '53', '55', '61', '71', '73', '75', '81',\n",
       "       '83', '102', '104', '106', '108', '110', '120', '122', '128',\n",
       "       '130', '132', '134', '140', '142', '150', '156', '160', '162',\n",
       "       '164', '166', '170', '172', '180', '182', '184', '186', '188',\n",
       "       '190', '192', '194', '196', '501', '503', '507', '521', '531',\n",
       "       '551', '800', '802', '804', '1083', '14', '31', '35', '37', '57',\n",
       "       '65', '67', '69', '89', '91', '97', '114', '124', '126', '136',\n",
       "       '138', '144', '148', '152', '154', '168', '178', '201', '203',\n",
       "       '207', '209', '211', '213', '215', '217', '219', '221', '231',\n",
       "       '233', '235', '237', '239', '241', '247', '251', '257', '259',\n",
       "       '261', '263', '265', '267', '269', '271', '273', '275', '277',\n",
       "       '279', '281', '283', '285', '287', '289', '291', '293', '297',\n",
       "       '300', '302', '304', '306', '308', '312', '314', '318', '320',\n",
       "       '322', '324', '326', '328', '330', '332', '334', '336', '338',\n",
       "       '340', '342', '344', '346', '348', '350', '366', '374', '380',\n",
       "       '382', '384', '386', '388', '396', '403', '405', '439', '443',\n",
       "       '445', '449', '451', '455', '461', '481', '500', '502', '504',\n",
       "       '510', '530', '532', '534', '546', '572', '574', '576', '582',\n",
       "       '592', '600', '602', '622', '632', '642', '646', '648', '650',\n",
       "       '704', '708', '750', '752', '760', '772', '776', '778', '798',\n",
       "       '801', '833', '841', '843', '845', '849', '900', '902', '906',\n",
       "       '910', '930', '932', '934', '942', '952', '954', '968', '970',\n",
       "       '972', '986', '988', '991', '993', '1320', '1322', '1326', '1334',\n",
       "       '1357', '1359', '1446', '1498', '2632', '2636', '2638', '2640',\n",
       "       '2650', '2702', '4501', '4503', '1003', '1004', '1005', '1302',\n",
       "       '1340', '200', '700', '1704', '33', '59', '95', '243', '634',\n",
       "       '1200', '1202', '1300', '1071', '99', '158', '198', '205', '376',\n",
       "       '378', '404', '406', '410', '414', '430', '432', '434', '438',\n",
       "       '486', '492', '536', '638', '640', '644', '864', '890', '892',\n",
       "       '1122', '1126', '1151', '1363', '1946', '2370', '2372', '2374',\n",
       "       '7811', '7813', '1165', '1301', '1351', '1906', '204', '9625',\n",
       "       '8665', '4950', '45', '100', '523', '1025', '4000', '63', '352',\n",
       "       '354', '452', '460', '636', '674', '888', '895', '897', '1108',\n",
       "       '1124', '1128', '1236', '1248', '2364', '2366', '2378', '2474',\n",
       "       '2478', '1050', '1051', '1052', '1061', '1101', '1102', '1104',\n",
       "       '1130', '1159', '1230', '202', '989P', '3000', '9000', '459',\n",
       "       '483', '1114', '1168', '1238', '1239', '1261', '1107', '1140',\n",
       "       '1167', '1271', '1031', '1700', '940P', '9659', '1551', '1800',\n",
       "       '358', '1103', '1111', '2518', '7959', '400', '402', '2297',\n",
       "       '9244', '9246', '9247', '9261', '9272', '9673', '9956', '9600',\n",
       "       '9629', '9662', '9701', '9955', '5', '77', '553', '316', '368',\n",
       "       '372', '470', '506', '604', '1136', '1158', '1242', '1244', '2368',\n",
       "       '2486', '1105', '1106', '1113', '1115', '1132', '1155', '1166',\n",
       "       '2488', '1400', '1033', '4', '8', '26', '22', '1927', '7721',\n",
       "       '591P', '846A', '8519', '8525', '8541', '8542', '9622', '356',\n",
       "       '1138', '1148', '1041', '6', '32', '50', '52', '86', '88', '9301',\n",
       "       '9303', '47', '60', '1234', '1250', '1241', '1034', '1035', '1043',\n",
       "       '7704', '10', '253', '1502', '8083', '8131', '9851', '27', '543',\n",
       "       '1198', '39', '87', '390', '448', '664', '805', '1054', '1065',\n",
       "       '1116', '1121', '1146', '1154', '1188', '1193', '1218', '1222',\n",
       "       '1224', '1226', '1228', '1235', '1237', '1249', '1260', '1262',\n",
       "       '1264', '1428', '7896', '7899', '1142', '1240', '2600', '30',\n",
       "       '2092', '2093', '3624', '9643', '9461', '9510', '9540', '1104A',\n",
       "       '706', '1088', '1091', '1099', '1134', '1169', '1170', '1195',\n",
       "       '1199', '1243', '1251', '1257', '1277', '1279', '1233', '54',\n",
       "       '1600', '2287', '4118', '9289', '85', '555', '620', '630', '1149',\n",
       "       '1503', '1531', '232', 265, 267, 269, 271, 273, 275, 277, 279, 281,\n",
       "       283, 285, 287, 289, 291, 293, 295, 297, 300, 302, 304, 306, 308,\n",
       "       312, 314, 316, 318, 320, 322, 324, 326, 328, 330, 334, 336, 340,\n",
       "       342, 344, 346, 348, 350, 352, 366, 380, 382, 384, 386, 388, 390,\n",
       "       404, 406, 410, 414, 430, 432, 434, 439, 443, 445, 448, 449, 455,\n",
       "       461, 481, 486, 492, 500, 502, 510, 530, 532, 536, 546, 572, 574,\n",
       "       576, 582, 592, 600, 602, 622, 632, 638, 642, 702, 704, 706, 708,\n",
       "       750, 752, 755, 757, 763, 801, 805, 833, 841, 843, 864, 888, 890,\n",
       "       892, 895, 897, 1088, 1091, 1117, 1126, 1128, 1134, 1136, 1141,\n",
       "       1146, 1166, 1170, 1176, 1178, 1186, 1188, 1191, 1193, 1197, 1199,\n",
       "       1222, 1224, 1226, 1241, 1243, 1246, 1247, 1259, 1267, 1269, 1277,\n",
       "       1279, 1281, 1446, 2370, 2372, 2374, 2474, 7811, 7813, 7896, 7899,\n",
       "       7911, 1101, 1102, 1106, 1230, 1235, 1236, 1237, 1238, 1239, 1261,\n",
       "       33, 43, 50, 54, 200, 202, 402, 700, 1031, 1033, 4, 6, 8, 10, 26,\n",
       "       32, 52, 86, 88, 110, 112, 201, 203, 207, 251, 253, 255, 301, 305,\n",
       "       307, 400], dtype=object)"
      ]
     },
     "execution_count": 46,
     "metadata": {},
     "output_type": "execute_result"
    }
   ],
   "source": [
    "df.Vlo_I.unique()"
   ]
  },
  {
   "cell_type": "markdown",
   "id": "undefined-forth",
   "metadata": {},
   "source": [
    "La variable de número de vuelo ha sido cargado como object y debería ser númerico, revisando el archivo no parece presentar problemas en los datos, sin embargo, al momento del cargue se presentan algunos valores con ''. "
   ]
  },
  {
   "cell_type": "code",
   "execution_count": 49,
   "id": "civilian-exercise",
   "metadata": {},
   "outputs": [
    {
     "ename": "ValueError",
     "evalue": "Unable to parse string \"989P\" at position 22232",
     "output_type": "error",
     "traceback": [
      "\u001b[1;31m----------------------------------------------------------------------\u001b[0m",
      "\u001b[1;31mValueError\u001b[0m                           Traceback (most recent call last)",
      "\u001b[1;32mpandas\\_libs\\lib.pyx\u001b[0m in \u001b[0;36mpandas._libs.lib.maybe_convert_numeric\u001b[1;34m()\u001b[0m\n",
      "\u001b[1;31mValueError\u001b[0m: Unable to parse string \"989P\"",
      "\nDuring handling of the above exception, another exception occurred:\n",
      "\u001b[1;31mValueError\u001b[0m                           Traceback (most recent call last)",
      "\u001b[1;32m<ipython-input-49-0137809caae8>\u001b[0m in \u001b[0;36m<module>\u001b[1;34m\u001b[0m\n\u001b[1;32m----> 1\u001b[1;33m \u001b[0mpd\u001b[0m\u001b[1;33m.\u001b[0m\u001b[0mto_numeric\u001b[0m\u001b[1;33m(\u001b[0m\u001b[0mdf\u001b[0m\u001b[1;33m.\u001b[0m\u001b[0mVlo_I\u001b[0m\u001b[1;33m)\u001b[0m\u001b[1;33m\u001b[0m\u001b[1;33m\u001b[0m\u001b[0m\n\u001b[0m\u001b[0;32m      2\u001b[0m \u001b[1;31m#\u001b[0m\u001b[1;33m\u001b[0m\u001b[1;33m\u001b[0m\u001b[1;33m\u001b[0m\u001b[0m\n",
      "\u001b[1;32m~\\Anaconda3\\lib\\site-packages\\pandas\\core\\tools\\numeric.py\u001b[0m in \u001b[0;36mto_numeric\u001b[1;34m(arg, errors, downcast)\u001b[0m\n\u001b[0;32m    153\u001b[0m         \u001b[1;32mtry\u001b[0m\u001b[1;33m:\u001b[0m\u001b[1;33m\u001b[0m\u001b[1;33m\u001b[0m\u001b[0m\n\u001b[0;32m    154\u001b[0m             values = lib.maybe_convert_numeric(\n\u001b[1;32m--> 155\u001b[1;33m                 \u001b[0mvalues\u001b[0m\u001b[1;33m,\u001b[0m \u001b[0mset\u001b[0m\u001b[1;33m(\u001b[0m\u001b[1;33m)\u001b[0m\u001b[1;33m,\u001b[0m \u001b[0mcoerce_numeric\u001b[0m\u001b[1;33m=\u001b[0m\u001b[0mcoerce_numeric\u001b[0m\u001b[1;33m\u001b[0m\u001b[1;33m\u001b[0m\u001b[0m\n\u001b[0m\u001b[0;32m    156\u001b[0m             )\n\u001b[0;32m    157\u001b[0m         \u001b[1;32mexcept\u001b[0m \u001b[1;33m(\u001b[0m\u001b[0mValueError\u001b[0m\u001b[1;33m,\u001b[0m \u001b[0mTypeError\u001b[0m\u001b[1;33m)\u001b[0m\u001b[1;33m:\u001b[0m\u001b[1;33m\u001b[0m\u001b[1;33m\u001b[0m\u001b[0m\n",
      "\u001b[1;32mpandas\\_libs\\lib.pyx\u001b[0m in \u001b[0;36mpandas._libs.lib.maybe_convert_numeric\u001b[1;34m()\u001b[0m\n",
      "\u001b[1;31mValueError\u001b[0m: Unable to parse string \"989P\" at position 22232"
     ]
    }
   ],
   "source": [
    "pd.to_numeric(df.Vlo_I)"
   ]
  },
  {
   "cell_type": "code",
   "execution_count": 52,
   "id": "senior-savannah",
   "metadata": {},
   "outputs": [
    {
     "ename": "ValueError",
     "evalue": "Unable to parse string \"846A\" at position 39266",
     "output_type": "error",
     "traceback": [
      "\u001b[1;31m----------------------------------------------------------------------\u001b[0m",
      "\u001b[1;31mValueError\u001b[0m                           Traceback (most recent call last)",
      "\u001b[1;32mpandas\\_libs\\lib.pyx\u001b[0m in \u001b[0;36mpandas._libs.lib.maybe_convert_numeric\u001b[1;34m()\u001b[0m\n",
      "\u001b[1;31mValueError\u001b[0m: Unable to parse string \"846A\"",
      "\nDuring handling of the above exception, another exception occurred:\n",
      "\u001b[1;31mValueError\u001b[0m                           Traceback (most recent call last)",
      "\u001b[1;32m<ipython-input-52-8a0dd5e2c227>\u001b[0m in \u001b[0;36m<module>\u001b[1;34m\u001b[0m\n\u001b[1;32m----> 1\u001b[1;33m \u001b[0mpd\u001b[0m\u001b[1;33m.\u001b[0m\u001b[0mto_numeric\u001b[0m\u001b[1;33m(\u001b[0m\u001b[0mdf\u001b[0m\u001b[1;33m.\u001b[0m\u001b[0mVlo_I\u001b[0m\u001b[1;33m.\u001b[0m\u001b[0mstr\u001b[0m\u001b[1;33m.\u001b[0m\u001b[0mreplace\u001b[0m\u001b[1;33m(\u001b[0m\u001b[1;34m\"P\"\u001b[0m\u001b[1;33m,\u001b[0m\u001b[1;34m\"\"\u001b[0m\u001b[1;33m)\u001b[0m\u001b[1;33m)\u001b[0m\u001b[1;33m\u001b[0m\u001b[1;33m\u001b[0m\u001b[0m\n\u001b[0m",
      "\u001b[1;32m~\\Anaconda3\\lib\\site-packages\\pandas\\core\\tools\\numeric.py\u001b[0m in \u001b[0;36mto_numeric\u001b[1;34m(arg, errors, downcast)\u001b[0m\n\u001b[0;32m    153\u001b[0m         \u001b[1;32mtry\u001b[0m\u001b[1;33m:\u001b[0m\u001b[1;33m\u001b[0m\u001b[1;33m\u001b[0m\u001b[0m\n\u001b[0;32m    154\u001b[0m             values = lib.maybe_convert_numeric(\n\u001b[1;32m--> 155\u001b[1;33m                 \u001b[0mvalues\u001b[0m\u001b[1;33m,\u001b[0m \u001b[0mset\u001b[0m\u001b[1;33m(\u001b[0m\u001b[1;33m)\u001b[0m\u001b[1;33m,\u001b[0m \u001b[0mcoerce_numeric\u001b[0m\u001b[1;33m=\u001b[0m\u001b[0mcoerce_numeric\u001b[0m\u001b[1;33m\u001b[0m\u001b[1;33m\u001b[0m\u001b[0m\n\u001b[0m\u001b[0;32m    156\u001b[0m             )\n\u001b[0;32m    157\u001b[0m         \u001b[1;32mexcept\u001b[0m \u001b[1;33m(\u001b[0m\u001b[0mValueError\u001b[0m\u001b[1;33m,\u001b[0m \u001b[0mTypeError\u001b[0m\u001b[1;33m)\u001b[0m\u001b[1;33m:\u001b[0m\u001b[1;33m\u001b[0m\u001b[1;33m\u001b[0m\u001b[0m\n",
      "\u001b[1;32mpandas\\_libs\\lib.pyx\u001b[0m in \u001b[0;36mpandas._libs.lib.maybe_convert_numeric\u001b[1;34m()\u001b[0m\n",
      "\u001b[1;31mValueError\u001b[0m: Unable to parse string \"846A\" at position 39266"
     ]
    }
   ],
   "source": [
    "pd.to_numeric(df.Vlo_I.str.replace(\"P\",\"\"))"
   ]
  },
  {
   "cell_type": "markdown",
   "id": "bronze-germany",
   "metadata": {},
   "source": [
    "El anterior error nos permite determinar que si hay problemas de digitación en la variable"
   ]
  },
  {
   "cell_type": "code",
   "execution_count": 70,
   "id": "velvet-course",
   "metadata": {},
   "outputs": [
    {
     "data": {
      "text/html": [
       "<div>\n",
       "<style scoped>\n",
       "    .dataframe tbody tr th:only-of-type {\n",
       "        vertical-align: middle;\n",
       "    }\n",
       "\n",
       "    .dataframe tbody tr th {\n",
       "        vertical-align: top;\n",
       "    }\n",
       "\n",
       "    .dataframe thead th {\n",
       "        text-align: right;\n",
       "    }\n",
       "</style>\n",
       "<table border=\"1\" class=\"dataframe\">\n",
       "  <thead>\n",
       "    <tr style=\"text-align: right;\">\n",
       "      <th></th>\n",
       "      <th>Fecha_I</th>\n",
       "      <th>Vlo_I</th>\n",
       "      <th>Ori_I</th>\n",
       "      <th>Des_I</th>\n",
       "      <th>Emp_I</th>\n",
       "      <th>Fecha_O</th>\n",
       "      <th>Vlo_O</th>\n",
       "      <th>Ori_O</th>\n",
       "      <th>Des_O</th>\n",
       "      <th>Emp_O</th>\n",
       "      <th>DIA</th>\n",
       "      <th>MES</th>\n",
       "      <th>AÑO</th>\n",
       "      <th>DIANOM</th>\n",
       "      <th>TIPOVUELO</th>\n",
       "      <th>OPERA</th>\n",
       "      <th>SIGLAORI</th>\n",
       "      <th>SIGLADES</th>\n",
       "    </tr>\n",
       "  </thead>\n",
       "  <tbody>\n",
       "    <tr>\n",
       "      <th>22232</th>\n",
       "      <td>2017-05-13 21:50:00</td>\n",
       "      <td>989P</td>\n",
       "      <td>SCEL</td>\n",
       "      <td>SUMU</td>\n",
       "      <td>AAL</td>\n",
       "      <td>2017-05-13 21:52:00</td>\n",
       "      <td>989</td>\n",
       "      <td>SCEL</td>\n",
       "      <td>SUMU</td>\n",
       "      <td>AAL</td>\n",
       "      <td>13</td>\n",
       "      <td>5</td>\n",
       "      <td>2017</td>\n",
       "      <td>Sabado</td>\n",
       "      <td>I</td>\n",
       "      <td>American Airlines</td>\n",
       "      <td>Santiago</td>\n",
       "      <td>Montevideo</td>\n",
       "    </tr>\n",
       "    <tr>\n",
       "      <th>27464</th>\n",
       "      <td>2017-06-16 20:30:00</td>\n",
       "      <td>940P</td>\n",
       "      <td>SCEL</td>\n",
       "      <td>KDFW</td>\n",
       "      <td>AAL</td>\n",
       "      <td>2017-06-16 20:50:00</td>\n",
       "      <td>940</td>\n",
       "      <td>SCEL</td>\n",
       "      <td>KDFW</td>\n",
       "      <td>AAL</td>\n",
       "      <td>16</td>\n",
       "      <td>6</td>\n",
       "      <td>2017</td>\n",
       "      <td>Viernes</td>\n",
       "      <td>I</td>\n",
       "      <td>American Airlines</td>\n",
       "      <td>Santiago</td>\n",
       "      <td>Dallas</td>\n",
       "    </tr>\n",
       "    <tr>\n",
       "      <th>39225</th>\n",
       "      <td>2017-08-07 19:00:00</td>\n",
       "      <td>591P</td>\n",
       "      <td>SCEL</td>\n",
       "      <td>LFPG</td>\n",
       "      <td>PUE</td>\n",
       "      <td>2017-08-07 20:35:00</td>\n",
       "      <td>591P</td>\n",
       "      <td>SCEL</td>\n",
       "      <td>LFPG</td>\n",
       "      <td>PUE</td>\n",
       "      <td>7</td>\n",
       "      <td>8</td>\n",
       "      <td>2017</td>\n",
       "      <td>Lunes</td>\n",
       "      <td>I</td>\n",
       "      <td>Plus Ultra Lineas Aereas</td>\n",
       "      <td>Santiago</td>\n",
       "      <td>Paris</td>\n",
       "    </tr>\n",
       "    <tr>\n",
       "      <th>39266</th>\n",
       "      <td>2017-08-24 23:00:00</td>\n",
       "      <td>846A</td>\n",
       "      <td>SCEL</td>\n",
       "      <td>KIAH</td>\n",
       "      <td>UAL</td>\n",
       "      <td>2017-08-24 23:00:00</td>\n",
       "      <td>2804</td>\n",
       "      <td>SCEL</td>\n",
       "      <td>KIAH</td>\n",
       "      <td>UAL</td>\n",
       "      <td>24</td>\n",
       "      <td>8</td>\n",
       "      <td>2017</td>\n",
       "      <td>Jueves</td>\n",
       "      <td>I</td>\n",
       "      <td>United Airlines</td>\n",
       "      <td>Santiago</td>\n",
       "      <td>Houston</td>\n",
       "    </tr>\n",
       "    <tr>\n",
       "      <th>58126</th>\n",
       "      <td>2017-11-05 17:00:00</td>\n",
       "      <td>1104A</td>\n",
       "      <td>SCEL</td>\n",
       "      <td>SCSE</td>\n",
       "      <td>SKU</td>\n",
       "      <td>2017-11-05 17:42:00</td>\n",
       "      <td>1104</td>\n",
       "      <td>SCEL</td>\n",
       "      <td>SCSE</td>\n",
       "      <td>SKU</td>\n",
       "      <td>5</td>\n",
       "      <td>11</td>\n",
       "      <td>2017</td>\n",
       "      <td>Domingo</td>\n",
       "      <td>N</td>\n",
       "      <td>Sky Airline</td>\n",
       "      <td>Santiago</td>\n",
       "      <td>La Serena</td>\n",
       "    </tr>\n",
       "  </tbody>\n",
       "</table>\n",
       "</div>"
      ],
      "text/plain": [
       "                  Fecha_I  Vlo_I Ori_I Des_I Emp_I             Fecha_O Vlo_O  \\\n",
       "22232 2017-05-13 21:50:00   989P  SCEL  SUMU   AAL 2017-05-13 21:52:00   989   \n",
       "27464 2017-06-16 20:30:00   940P  SCEL  KDFW   AAL 2017-06-16 20:50:00   940   \n",
       "39225 2017-08-07 19:00:00   591P  SCEL  LFPG   PUE 2017-08-07 20:35:00  591P   \n",
       "39266 2017-08-24 23:00:00   846A  SCEL  KIAH   UAL 2017-08-24 23:00:00  2804   \n",
       "58126 2017-11-05 17:00:00  1104A  SCEL  SCSE   SKU 2017-11-05 17:42:00  1104   \n",
       "\n",
       "      Ori_O Des_O Emp_O  DIA  MES   AÑO   DIANOM TIPOVUELO  \\\n",
       "22232  SCEL  SUMU   AAL   13    5  2017   Sabado         I   \n",
       "27464  SCEL  KDFW   AAL   16    6  2017  Viernes         I   \n",
       "39225  SCEL  LFPG   PUE    7    8  2017    Lunes         I   \n",
       "39266  SCEL  KIAH   UAL   24    8  2017   Jueves         I   \n",
       "58126  SCEL  SCSE   SKU    5   11  2017  Domingo         N   \n",
       "\n",
       "                          OPERA  SIGLAORI    SIGLADES  \n",
       "22232         American Airlines  Santiago  Montevideo  \n",
       "27464         American Airlines  Santiago      Dallas  \n",
       "39225  Plus Ultra Lineas Aereas  Santiago       Paris  \n",
       "39266           United Airlines  Santiago     Houston  \n",
       "58126               Sky Airline  Santiago   La Serena  "
      ]
     },
     "execution_count": 70,
     "metadata": {},
     "output_type": "execute_result"
    }
   ],
   "source": [
    "df[df.Vlo_I.isin([\"989P\",\"846A\", \"940P\", \"591P\", \"1104A\"])]"
   ]
  },
  {
   "cell_type": "markdown",
   "id": "concrete-carpet",
   "metadata": {},
   "source": [
    "Hay 5 registros con errores de digitación "
   ]
  },
  {
   "cell_type": "markdown",
   "id": "educated-communication",
   "metadata": {},
   "source": [
    "## Conclusiones "
   ]
  },
  {
   "cell_type": "markdown",
   "id": "prompt-naples",
   "metadata": {},
   "source": [
    "+ EL dataset cuenta errores de digitación en `Vlo-I` "
   ]
  },
  {
   "cell_type": "markdown",
   "id": "realistic-group",
   "metadata": {},
   "source": [
    "### Respuesta a preguntas "
   ]
  },
  {
   "cell_type": "markdown",
   "id": "complete-longitude",
   "metadata": {},
   "source": [
    "1. ¿Cómo se distribuyen los datos? ¿Qué te llama la atención o cuál es tu conclusión sobre esto?"
   ]
  },
  {
   "cell_type": "code",
   "execution_count": 17,
   "id": "infinite-punch",
   "metadata": {},
   "outputs": [
    {
     "name": "stdout",
     "output_type": "stream",
     "text": [
      "fecha minima 2017-01-01 00:15:00 y fecha maxima 2017-12-31 23:55:00\n"
     ]
    }
   ],
   "source": [
    "print(\"fecha minima {} y fecha maxima {}\".format(df[\"Fecha_I\"].min(),df[\"Fecha_I\"].max()))"
   ]
  },
  {
   "cell_type": "code",
   "execution_count": 16,
   "id": "controlling-shareware",
   "metadata": {},
   "outputs": [
    {
     "name": "stdout",
     "output_type": "stream",
     "text": [
      "fecha minima 2017-01-01 00:04:00 y fecha maxima 2018-01-01 00:12:00\n"
     ]
    }
   ],
   "source": [
    "print(\"fecha minima {} y fecha maxima {}\".format(df[\"Fecha_O\"].min(),df[\"Fecha_O\"].max()))"
   ]
  },
  {
   "cell_type": "markdown",
   "id": "comparable-prophet",
   "metadata": {},
   "source": [
    "Hubieron vuelos programados durante 2017 y la última operación se realizo el primero de enero de 2018."
   ]
  },
  {
   "cell_type": "code",
   "execution_count": 18,
   "id": "ideal-utility",
   "metadata": {},
   "outputs": [
    {
     "data": {
      "text/plain": [
       "SCEL    68206\n",
       "Name: Ori_I, dtype: int64"
      ]
     },
     "execution_count": 18,
     "metadata": {},
     "output_type": "execute_result"
    }
   ],
   "source": [
    "df.Ori_I.value_counts()"
   ]
  },
  {
   "cell_type": "code",
   "execution_count": 21,
   "id": "vulnerable-concord",
   "metadata": {},
   "outputs": [
    {
     "data": {
      "text/plain": [
       "64"
      ]
     },
     "execution_count": 21,
     "metadata": {},
     "output_type": "execute_result"
    }
   ],
   "source": [
    "len(df.Des_I.unique())"
   ]
  },
  {
   "cell_type": "code",
   "execution_count": 31,
   "id": "western-march",
   "metadata": {},
   "outputs": [
    {
     "data": {
      "text/plain": [
       "<AxesSubplot:xlabel='Des_I', ylabel='count'>"
      ]
     },
     "execution_count": 31,
     "metadata": {},
     "output_type": "execute_result"
    },
    {
     "data": {
      "image/png": "[encoded data removed]",
      "text/plain": [
       "<Figure size 3600x1800 with 1 Axes>"
      ]
     },
     "metadata": {
      "needs_background": "light"
     },
     "output_type": "display_data"
    }
   ],
   "source": [
    "plt.figure(figsize=(50,25))\n",
    "sns.countplot(x=df.Des_I)"
   ]
  },
  {
   "cell_type": "markdown",
   "id": "developed-roads",
   "metadata": {},
   "source": [
    "Solo hubo un origen programado de ciudad, de acuerdo con Internet el código SCEL pertenece al aeropuerto [Arturo Merino Benítez International Airport](https://airportcodes.aero/scel). En total hubieron 64 ciudad destino programadas, algunos con bastantes registros y otros no tanto. \n",
    "\n",
    "Entre los más visitados se encuentran los siguientes destinos nacionales y uno internacional:\n",
    "+ SCFA: Cerro Moreno International Airport (Chile)\n",
    "+ SPJC: Jorge Chávez International Airport (Perú)\n",
    "+ SCCF: El Loa Airport (Chile)\n",
    "+ SCTE: El Tepual Airport (Chile)\n",
    "\n"
   ]
  },
  {
   "cell_type": "code",
   "execution_count": 35,
   "id": "relative-confusion",
   "metadata": {},
   "outputs": [
    {
     "data": {
      "text/plain": [
       "SCFA    5787\n",
       "SPJC    5270\n",
       "SCCF    5145\n",
       "SCTE    4357\n",
       "SCIE    3995\n",
       "SCDA    3747\n",
       "SBGR    3570\n",
       "SAEZ    3240\n",
       "SABE    3094\n",
       "SCQP    2583\n",
       "SCAR    2436\n",
       "SCSE    2410\n",
       "SCCI    2105\n",
       "MPTO    1850\n",
       "SCAT    1780\n",
       "SAME    1625\n",
       "SKBO    1604\n",
       "SBGL    1434\n",
       "SUMU    1066\n",
       "SACO    1023\n",
       "KMIA    1015\n",
       "LEMD     894\n",
       "SCBA     843\n",
       "SCVD     753\n",
       "MMMX     700\n",
       "SCIP     452\n",
       "SEGU     423\n",
       "KJFK     383\n",
       "NZAA     361\n",
       "LFPG     359\n",
       "Name: Des_I, dtype: int64"
      ]
     },
     "execution_count": 35,
     "metadata": {},
     "output_type": "execute_result"
    }
   ],
   "source": [
    "df.Des_I.value_counts()[:30]"
   ]
  },
  {
   "cell_type": "code",
   "execution_count": 37,
   "id": "prospective-seminar",
   "metadata": {},
   "outputs": [
    {
     "data": {
      "text/plain": [
       "LIRF    259\n",
       "SCJO    259\n",
       "SCPQ    235\n",
       "SGAS    232\n",
       "SLLP    209\n",
       "EGLL    205\n",
       "YSSY    195\n",
       "SBFL    162\n",
       "KLAX    155\n",
       "SAAR    136\n",
       "SLVR    120\n",
       "SCNT     79\n",
       "MMUN     63\n",
       "MDPC     54\n",
       "YMML     38\n",
       "SANT     38\n",
       "SAZN     37\n",
       "SANU     35\n",
       "KMCO     34\n",
       "SULS      6\n",
       "SAWH      6\n",
       "SBCT      3\n",
       "SAZS      2\n",
       "SLCB      1\n",
       "SPSO      1\n",
       "SEQM      1\n",
       "EGYP      1\n",
       "SBFI      1\n",
       "SARI      1\n",
       "SEQU      1\n",
       "Name: Des_I, dtype: int64"
      ]
     },
     "execution_count": 37,
     "metadata": {},
     "output_type": "execute_result"
    }
   ],
   "source": [
    "df.Des_I.value_counts()[-30:]"
   ]
  },
  {
   "cell_type": "code",
   "execution_count": 39,
   "id": "developed-finger",
   "metadata": {},
   "outputs": [
    {
     "data": {
      "text/plain": [
       "LAN    37611\n",
       "SKU    14298\n",
       "TAM     3049\n",
       "ARG     1949\n",
       "CMP     1850\n",
       "LAW     1574\n",
       "AVA     1152\n",
       "JAT     1095\n",
       "GLO      806\n",
       "AAL      757\n",
       "ACA      565\n",
       "IBE      362\n",
       "AFR      358\n",
       "DAL      358\n",
       "AMX      351\n",
       "UAL      335\n",
       "ONE      279\n",
       "AZA      259\n",
       "KLM      251\n",
       "LAP      216\n",
       "BAW      205\n",
       "QFU      195\n",
       "JMR      100\n",
       "LRC       92\n",
       "AUT       74\n",
       "PUE       49\n",
       "LXP        9\n",
       "LPE        4\n",
       "DSM        2\n",
       "LNE        1\n",
       "Name: Emp_I, dtype: int64"
      ]
     },
     "execution_count": 39,
     "metadata": {},
     "output_type": "execute_result"
    }
   ],
   "source": [
    "df.Emp_I.value_counts()[:]"
   ]
  },
  {
   "cell_type": "code",
   "execution_count": 40,
   "id": "internal-electron",
   "metadata": {},
   "outputs": [
    {
     "data": {
      "text/plain": [
       "LAN    0.551432\n",
       "SKU    0.209630\n",
       "TAM    0.044703\n",
       "ARG    0.028575\n",
       "CMP    0.027124\n",
       "LAW    0.023077\n",
       "AVA    0.016890\n",
       "JAT    0.016054\n",
       "GLO    0.011817\n",
       "AAL    0.011099\n",
       "ACA    0.008284\n",
       "IBE    0.005307\n",
       "AFR    0.005249\n",
       "DAL    0.005249\n",
       "AMX    0.005146\n",
       "UAL    0.004912\n",
       "ONE    0.004091\n",
       "AZA    0.003797\n",
       "KLM    0.003680\n",
       "LAP    0.003167\n",
       "BAW    0.003006\n",
       "QFU    0.002859\n",
       "JMR    0.001466\n",
       "LRC    0.001349\n",
       "AUT    0.001085\n",
       "PUE    0.000718\n",
       "LXP    0.000132\n",
       "LPE    0.000059\n",
       "DSM    0.000029\n",
       "LNE    0.000015\n",
       "Name: Emp_I, dtype: float64"
      ]
     },
     "execution_count": 40,
     "metadata": {},
     "output_type": "execute_result"
    }
   ],
   "source": [
    "df.Emp_I.value_counts(normalize=True)"
   ]
  },
  {
   "cell_type": "markdown",
   "id": "cubic-nickel",
   "metadata": {},
   "source": [
    "La aerolineas que más presentan vuelos son LAN (55%) y SKU (22%)."
   ]
  },
  {
   "cell_type": "code",
   "execution_count": 80,
   "id": "changing-marijuana",
   "metadata": {},
   "outputs": [
    {
     "data": {
      "text/plain": [
       "174     686\n",
       "11      645\n",
       "116     608\n",
       "150     557\n",
       "704     556\n",
       "       ... \n",
       "1334      1\n",
       "1142      1\n",
       "1502      1\n",
       "1301      1\n",
       "9851      1\n",
       "Name: Vlo_I, Length: 579, dtype: int64"
      ]
     },
     "execution_count": 80,
     "metadata": {},
     "output_type": "execute_result"
    }
   ],
   "source": [
    "df[df.Vlo_I.isin([\"989P\",\"846A\", \"940P\", \"591P\", \"1104A\"])==False].Vlo_I.astype(int).value_counts()"
   ]
  },
  {
   "cell_type": "markdown",
   "id": "reliable-halloween",
   "metadata": {},
   "source": [
    "Respecto a los números de los vuelos programados hay algunos con varias repeticiones y otros con pocas."
   ]
  },
  {
   "cell_type": "code",
   "execution_count": 81,
   "id": "accepted-dimension",
   "metadata": {},
   "outputs": [
    {
     "data": {
      "text/plain": [
       "SCEL    68206\n",
       "Name: Ori_O, dtype: int64"
      ]
     },
     "execution_count": 81,
     "metadata": {},
     "output_type": "execute_result"
    }
   ],
   "source": [
    "df.Ori_O.value_counts()"
   ]
  },
  {
   "cell_type": "code",
   "execution_count": 83,
   "id": "spare-delta",
   "metadata": {},
   "outputs": [
    {
     "data": {
      "text/plain": [
       "63"
      ]
     },
     "execution_count": 83,
     "metadata": {},
     "output_type": "execute_result"
    }
   ],
   "source": [
    "len(df.Des_O.unique())"
   ]
  },
  {
   "cell_type": "markdown",
   "id": "affected-wiring",
   "metadata": {},
   "source": [
    "Hay una ciudad de destino operación que no aparece en el conjunto de códigos destinos programados\n",
    "\n",
    "Respuesta: KIAD"
   ]
  },
  {
   "cell_type": "code",
   "execution_count": 84,
   "id": "settled-settlement",
   "metadata": {},
   "outputs": [
    {
     "data": {
      "text/plain": [
       "{'KIAD'}"
      ]
     },
     "execution_count": 84,
     "metadata": {},
     "output_type": "execute_result"
    }
   ],
   "source": [
    "set(df.Des_O.unique()) - set(df.Des_I.unique()) "
   ]
  },
  {
   "cell_type": "code",
   "execution_count": 85,
   "id": "antique-tiffany",
   "metadata": {},
   "outputs": [
    {
     "data": {
      "text/plain": [
       "{'SARI', 'SEQU'}"
      ]
     },
     "execution_count": 85,
     "metadata": {},
     "output_type": "execute_result"
    }
   ],
   "source": [
    "set(df.Des_I.unique()) -set(df.Des_O.unique())"
   ]
  },
  {
   "cell_type": "markdown",
   "id": "backed-policy",
   "metadata": {},
   "source": [
    "Hay códigos de ciudad destino programados que no aparecen en los códigos de ciudad destino de operación.\n",
    "\n",
    "\n",
    "Respuesta: SARI, SEQU"
   ]
  },
  {
   "cell_type": "code",
   "execution_count": 86,
   "id": "alike-latex",
   "metadata": {},
   "outputs": [
    {
     "data": {
      "text/plain": [
       "SCFA    5786\n",
       "SPJC    5270\n",
       "SCCF    5146\n",
       "SCTE    4357\n",
       "SCIE    3993\n",
       "        ... \n",
       "SEQM       2\n",
       "KIAD       1\n",
       "EGYP       1\n",
       "SPSO       1\n",
       "SLCB       1\n",
       "Name: Des_O, Length: 63, dtype: int64"
      ]
     },
     "execution_count": 86,
     "metadata": {},
     "output_type": "execute_result"
    }
   ],
   "source": [
    "df.Des_O.value_counts()"
   ]
  },
  {
   "cell_type": "markdown",
   "id": "natural-insurance",
   "metadata": {},
   "source": [
    "Entre los más visitados a nivel de operación se encuentran los siguientes destinos nacionales y uno internacional:\n",
    "\n",
    "+ SCFA: Cerro Moreno International Airport (Chile)\n",
    "+ SPJC: Jorge Chávez International Airport (Perú)\n",
    "+ SCCF: El Loa Airport (Chile)\n",
    "+ SCTE: El Tepual Airport (Chile)"
   ]
  },
  {
   "cell_type": "code",
   "execution_count": 87,
   "id": "polyphonic-programmer",
   "metadata": {},
   "outputs": [
    {
     "data": {
      "text/plain": [
       "LAN    0.307715\n",
       "LXP    0.213442\n",
       "SKU    0.209630\n",
       "TAM    0.044659\n",
       "ARG    0.028531\n",
       "CMP    0.027124\n",
       "JMR    0.024147\n",
       "LPE    0.017799\n",
       "JAT    0.016054\n",
       "AVA    0.012975\n",
       "GLO    0.011817\n",
       "AAL    0.011099\n",
       "ACA    0.008284\n",
       "DSM    0.007228\n",
       "LNE    0.005483\n",
       "IBE    0.005307\n",
       "AFR    0.005249\n",
       "DAL    0.005249\n",
       "LRC    0.005234\n",
       "AMX    0.005146\n",
       "UAL    0.004912\n",
       "ONE    0.004091\n",
       "AZA    0.003797\n",
       "KLM    0.003680\n",
       "LAP    0.003211\n",
       "BAW    0.003006\n",
       "QFA    0.002859\n",
       "AUT    0.001129\n",
       "PUE    0.000718\n",
       "56R    0.000249\n",
       "48O    0.000147\n",
       "TPU    0.000029\n",
       "Name: Emp_O, dtype: float64"
      ]
     },
     "execution_count": 87,
     "metadata": {},
     "output_type": "execute_result"
    }
   ],
   "source": [
    "df.Emp_O.value_counts(normalize=True)"
   ]
  },
  {
   "cell_type": "markdown",
   "id": "lyric-quality",
   "metadata": {},
   "source": [
    "La aerolineas que más presentan vuelos a nivel de operación son LAN (30%) y LXP (21%), lo anterior contrarresta contra los valores a nivel de programación."
   ]
  }
 ],
 "metadata": {
  "kernelspec": {
   "display_name": "Python 3",
   "language": "python",
   "name": "python3"
  },
  "language_info": {
   "codemirror_mode": {
    "name": "ipython",
    "version": 3
   },
   "file_extension": ".py",
   "mimetype": "text/x-python",
   "name": "python",
   "nbconvert_exporter": "python",
   "pygments_lexer": "ipython3",
   "version": "3.7.4"
  }
 },
 "nbformat": 4,
 "nbformat_minor": 5
}
