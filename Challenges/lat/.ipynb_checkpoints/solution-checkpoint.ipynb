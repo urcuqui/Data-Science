{
 "cells": [
  {
   "cell_type": "markdown",
   "id": "operating-broadcasting",
   "metadata": {},
   "source": [
    "# Introducción\n",
    "\n",
    "**Nombre: Christian Camilo Urcuqui López**\n",
    "\n",
    "En el presente notebook se desarrolla el reto propuesto por LATAM Airlines, el recurso se componente de las siguientes unidades:\n",
    "\n",
    "+ Descripción del reto y datos\n",
    "+ Análisis exploratorio\n",
    "    - Respuesta a preguntas\n",
    "+ Modelamiento\n",
    "+ Resultados\n",
    "+ Conclusiones\n",
    "+ Trabajo futuro"
   ]
  },
  {
   "cell_type": "markdown",
   "id": "musical-reporter",
   "metadata": {},
   "source": [
    "## librerias"
   ]
  },
  {
   "cell_type": "code",
   "execution_count": 1,
   "id": "understanding-grace",
   "metadata": {},
   "outputs": [],
   "source": [
    "import pandas as pd"
   ]
  },
  {
   "cell_type": "markdown",
   "id": "pregnant-trinidad",
   "metadata": {},
   "source": [
    "# Análisis exploratorio"
   ]
  },
  {
   "cell_type": "code",
   "execution_count": null,
   "id": "secret-attraction",
   "metadata": {},
   "outputs": [],
   "source": []
  }
 ],
 "metadata": {
  "kernelspec": {
   "display_name": "Python 3",
   "language": "python",
   "name": "python3"
  },
  "language_info": {
   "codemirror_mode": {
    "name": "ipython",
    "version": 3
   },
   "file_extension": ".py",
   "mimetype": "text/x-python",
   "name": "python",
   "nbconvert_exporter": "python",
   "pygments_lexer": "ipython3",
   "version": "3.7.4"
  }
 },
 "nbformat": 4,
 "nbformat_minor": 5
}
