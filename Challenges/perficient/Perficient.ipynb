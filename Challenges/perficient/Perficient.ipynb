{
 "cells": [
  {
   "cell_type": "markdown",
   "id": "1eee525e",
   "metadata": {},
   "source": [
    "Name: Christian Camilo Urcuqui Lopez\n",
    "\n",
    "# Data analysis exercise\n",
    "\n",
    "The notebook has the information about data analysis excercise using a csv file. \n",
    "\n",
    "Context: it is required to build a Jupyter notebook and share the findings of the exercise:\n",
    "+ Journey across the different web pages for this customer\n",
    "+ evar23 is the Customer ID\n",
    "\n",
    "The notebook is divided in the next sections:\n",
    "- Exploratory Data Analysis\n",
    "- Insights and Conclusions"
   ]
  },
  {
   "cell_type": "code",
   "execution_count": 1,
   "id": "3941e0a0",
   "metadata": {},
   "outputs": [
    {
     "data": {
      "text/html": [
       "<div>\n",
       "<style scoped>\n",
       "    .dataframe tbody tr th:only-of-type {\n",
       "        vertical-align: middle;\n",
       "    }\n",
       "\n",
       "    .dataframe tbody tr th {\n",
       "        vertical-align: top;\n",
       "    }\n",
       "\n",
       "    .dataframe thead th {\n",
       "        text-align: right;\n",
       "    }\n",
       "</style>\n",
       "<table border=\"1\" class=\"dataframe\">\n",
       "  <thead>\n",
       "    <tr style=\"text-align: right;\">\n",
       "      <th></th>\n",
       "      <th>load_date</th>\n",
       "      <th>visit_search_engine_desc</th>\n",
       "      <th>visit_ref_type_desc</th>\n",
       "      <th>os_desc</th>\n",
       "      <th>language_desc</th>\n",
       "      <th>browser_desc</th>\n",
       "      <th>post_event_list_desc</th>\n",
       "      <th>carrier</th>\n",
       "      <th>daily_visitor</th>\n",
       "      <th>date_time</th>\n",
       "      <th>...</th>\n",
       "      <th>visit_referrer</th>\n",
       "      <th>visit_search_engine</th>\n",
       "      <th>visit_start_page_url</th>\n",
       "      <th>visit_start_pagename</th>\n",
       "      <th>visit_start_time_gmt</th>\n",
       "      <th>weekly_visitor</th>\n",
       "      <th>yearly_visitor</th>\n",
       "      <th>post_pagename</th>\n",
       "      <th>browser</th>\n",
       "      <th>os</th>\n",
       "    </tr>\n",
       "  </thead>\n",
       "  <tbody>\n",
       "    <tr>\n",
       "      <th>0</th>\n",
       "      <td>38:31.0</td>\n",
       "      <td>NaN</td>\n",
       "      <td>Typed/Bookmarked</td>\n",
       "      <td>Windows 10</td>\n",
       "      <td>English (United States)</td>\n",
       "      <td>Google Chrome 97.0</td>\n",
       "      <td>Clicks,Promo Clicks</td>\n",
       "      <td>NaN</td>\n",
       "      <td>0</td>\n",
       "      <td>2022-02-02 10:32</td>\n",
       "      <td>...</td>\n",
       "      <td>NaN</td>\n",
       "      <td>0</td>\n",
       "      <td>NaN</td>\n",
       "      <td>NaN</td>\n",
       "      <td>1643815769</td>\n",
       "      <td>0</td>\n",
       "      <td>0</td>\n",
       "      <td>NaN</td>\n",
       "      <td>259605553</td>\n",
       "      <td>1240087047</td>\n",
       "    </tr>\n",
       "    <tr>\n",
       "      <th>1</th>\n",
       "      <td>38:31.0</td>\n",
       "      <td>NaN</td>\n",
       "      <td>Typed/Bookmarked</td>\n",
       "      <td>Windows 10</td>\n",
       "      <td>English (United States)</td>\n",
       "      <td>Google Chrome 97.0</td>\n",
       "      <td>NaN</td>\n",
       "      <td>NaN</td>\n",
       "      <td>0</td>\n",
       "      <td>2022-02-02 10:33</td>\n",
       "      <td>...</td>\n",
       "      <td>NaN</td>\n",
       "      <td>0</td>\n",
       "      <td>NaN</td>\n",
       "      <td>NaN</td>\n",
       "      <td>1643815769</td>\n",
       "      <td>0</td>\n",
       "      <td>0</td>\n",
       "      <td>MyXyz Web/myplans</td>\n",
       "      <td>259605553</td>\n",
       "      <td>1240087047</td>\n",
       "    </tr>\n",
       "    <tr>\n",
       "      <th>2</th>\n",
       "      <td>38:31.0</td>\n",
       "      <td>NaN</td>\n",
       "      <td>Typed/Bookmarked</td>\n",
       "      <td>Windows 10</td>\n",
       "      <td>English (United States)</td>\n",
       "      <td>Google Chrome 97.0</td>\n",
       "      <td>NaN</td>\n",
       "      <td>NaN</td>\n",
       "      <td>0</td>\n",
       "      <td>2022-02-02 10:33</td>\n",
       "      <td>...</td>\n",
       "      <td>NaN</td>\n",
       "      <td>0</td>\n",
       "      <td>NaN</td>\n",
       "      <td>NaN</td>\n",
       "      <td>1643815769</td>\n",
       "      <td>0</td>\n",
       "      <td>0</td>\n",
       "      <td>MyXyz Web/fad</td>\n",
       "      <td>259605553</td>\n",
       "      <td>1240087047</td>\n",
       "    </tr>\n",
       "    <tr>\n",
       "      <th>3</th>\n",
       "      <td>38:31.0</td>\n",
       "      <td>NaN</td>\n",
       "      <td>Typed/Bookmarked</td>\n",
       "      <td>Windows 10</td>\n",
       "      <td>English (United States)</td>\n",
       "      <td>Google Chrome 97.0</td>\n",
       "      <td>NaN</td>\n",
       "      <td>NaN</td>\n",
       "      <td>0</td>\n",
       "      <td>2022-02-02 10:33</td>\n",
       "      <td>...</td>\n",
       "      <td>NaN</td>\n",
       "      <td>0</td>\n",
       "      <td>NaN</td>\n",
       "      <td>NaN</td>\n",
       "      <td>1643815769</td>\n",
       "      <td>0</td>\n",
       "      <td>0</td>\n",
       "      <td>MyXyz Web/fad/medical-index/specialities</td>\n",
       "      <td>259605553</td>\n",
       "      <td>1240087047</td>\n",
       "    </tr>\n",
       "    <tr>\n",
       "      <th>4</th>\n",
       "      <td>38:31.0</td>\n",
       "      <td>NaN</td>\n",
       "      <td>Typed/Bookmarked</td>\n",
       "      <td>Windows 10</td>\n",
       "      <td>English (United States)</td>\n",
       "      <td>Google Chrome 97.0</td>\n",
       "      <td>NaN</td>\n",
       "      <td>NaN</td>\n",
       "      <td>0</td>\n",
       "      <td>2022-02-02 10:34</td>\n",
       "      <td>...</td>\n",
       "      <td>NaN</td>\n",
       "      <td>0</td>\n",
       "      <td>NaN</td>\n",
       "      <td>NaN</td>\n",
       "      <td>1643815769</td>\n",
       "      <td>0</td>\n",
       "      <td>0</td>\n",
       "      <td>MyXyz Web/fad</td>\n",
       "      <td>259605553</td>\n",
       "      <td>1240087047</td>\n",
       "    </tr>\n",
       "  </tbody>\n",
       "</table>\n",
       "<p>5 rows × 431 columns</p>\n",
       "</div>"
      ],
      "text/plain": [
       "  load_date visit_search_engine_desc visit_ref_type_desc     os_desc   \n",
       "0   38:31.0                      NaN    Typed/Bookmarked  Windows 10  \\\n",
       "1   38:31.0                      NaN    Typed/Bookmarked  Windows 10   \n",
       "2   38:31.0                      NaN    Typed/Bookmarked  Windows 10   \n",
       "3   38:31.0                      NaN    Typed/Bookmarked  Windows 10   \n",
       "4   38:31.0                      NaN    Typed/Bookmarked  Windows 10   \n",
       "\n",
       "             language_desc        browser_desc post_event_list_desc  carrier   \n",
       "0  English (United States)  Google Chrome 97.0  Clicks,Promo Clicks      NaN  \\\n",
       "1  English (United States)  Google Chrome 97.0                  NaN      NaN   \n",
       "2  English (United States)  Google Chrome 97.0                  NaN      NaN   \n",
       "3  English (United States)  Google Chrome 97.0                  NaN      NaN   \n",
       "4  English (United States)  Google Chrome 97.0                  NaN      NaN   \n",
       "\n",
       "   daily_visitor         date_time  ... visit_referrer  visit_search_engine   \n",
       "0              0  2022-02-02 10:32  ...            NaN                    0  \\\n",
       "1              0  2022-02-02 10:33  ...            NaN                    0   \n",
       "2              0  2022-02-02 10:33  ...            NaN                    0   \n",
       "3              0  2022-02-02 10:33  ...            NaN                    0   \n",
       "4              0  2022-02-02 10:34  ...            NaN                    0   \n",
       "\n",
       "  visit_start_page_url visit_start_pagename visit_start_time_gmt   \n",
       "0                  NaN                  NaN           1643815769  \\\n",
       "1                  NaN                  NaN           1643815769   \n",
       "2                  NaN                  NaN           1643815769   \n",
       "3                  NaN                  NaN           1643815769   \n",
       "4                  NaN                  NaN           1643815769   \n",
       "\n",
       "   weekly_visitor yearly_visitor                             post_pagename   \n",
       "0               0              0                                       NaN  \\\n",
       "1               0              0                         MyXyz Web/myplans   \n",
       "2               0              0                             MyXyz Web/fad   \n",
       "3               0              0  MyXyz Web/fad/medical-index/specialities   \n",
       "4               0              0                             MyXyz Web/fad   \n",
       "\n",
       "     browser          os  \n",
       "0  259605553  1240087047  \n",
       "1  259605553  1240087047  \n",
       "2  259605553  1240087047  \n",
       "3  259605553  1240087047  \n",
       "4  259605553  1240087047  \n",
       "\n",
       "[5 rows x 431 columns]"
      ]
     },
     "execution_count": 1,
     "metadata": {},
     "output_type": "execute_result"
    }
   ],
   "source": [
    "import pandas as pd\n",
    "\n",
    "df = pd.read_csv('202308_DS.csv')\n",
    "df.head()"
   ]
  },
  {
   "cell_type": "code",
   "execution_count": 2,
   "id": "578160dd",
   "metadata": {},
   "outputs": [
    {
     "data": {
      "text/plain": [
       "(129, 431)"
      ]
     },
     "execution_count": 2,
     "metadata": {},
     "output_type": "execute_result"
    }
   ],
   "source": [
    "df.shape"
   ]
  },
  {
   "cell_type": "code",
   "execution_count": 3,
   "id": "b917e282",
   "metadata": {},
   "outputs": [
    {
     "data": {
      "text/plain": [
       "float64    297\n",
       "object      98\n",
       "int64       36\n",
       "Name: count, dtype: int64"
      ]
     },
     "execution_count": 3,
     "metadata": {},
     "output_type": "execute_result"
    }
   ],
   "source": [
    "df.dtypes.value_counts()"
   ]
  },
  {
   "cell_type": "markdown",
   "id": "10aaa0c2",
   "metadata": {},
   "source": [
    "+ As we can see the file has a shape of 129 registers and 431 features.\n",
    "+ Some of the features has NaN in their registers\n",
    "+ Loading the dataset we have 98 categorical features and the rest are numerical "
   ]
  },
  {
   "cell_type": "code",
   "execution_count": 4,
   "id": "34e43f54",
   "metadata": {},
   "outputs": [
    {
     "data": {
      "text/plain": [
       "Index(['hitid_high', 'hitid_low', 'post_browser_width', 'post_cust_visid',\n",
       "       'post_evar1_account_id', 'post_evar6_group_id', 'post_evar18_pcp_id',\n",
       "       'post_evar23_user_id', 'post_evar27_fad_provider_specialty',\n",
       "       'post_evar37_procedure_id', 'post_evar42_site_search_results_page_id',\n",
       "       'post_evar45_url_parameter_network_id',\n",
       "       'post_evar47_url_parameter_field_specialty_ids',\n",
       "       'post_evar49_url_parameter_locationid',\n",
       "       'post_evar50_provider_reports_viewed', 'post_evar51_provider_user_id',\n",
       "       'post_evar52_provider_user_role', 'post_evar53_provider_user_type',\n",
       "       'post_evar54_provider_organization', 'post_evar55_provider_agent_name',\n",
       "       'post_evar56_provider_npi', 'post_evar57_provider_specialty',\n",
       "       'post_evar58_provider_id', 'post_evar59_provider_client_associate',\n",
       "       'post_evar61_provider_aqc',\n",
       "       'post_evar63_url_parameter_search_specialty_id',\n",
       "       'post_evar64_url_parameter_saved_search_id',\n",
       "       'post_evar65_broker_userid', 'post_evar66_provider_news_article',\n",
       "       'post_evar67_provider_news_section', 'post_evar69_provider_alerts',\n",
       "       'post_evar72_anticipatory_id', 'post_evar73_provider_news_type',\n",
       "       'post_evar77_drx_confirmation_id', 'post_evar78_drx_plan_id',\n",
       "       'post_evar81_medicare_seminar_id', 'post_evar87_cpc_ad_id',\n",
       "       'post_evar90_cpc_bidded_keyword', 'post_evar97_video_name',\n",
       "       'post_evar98_video_segment',\n",
       "       'post_evar103_fad_incentive_confirmation_id',\n",
       "       'post_evar106_linkedin_elevate_share_id',\n",
       "       'post_evar107_linkedin_elevate_broadcast_id',\n",
       "       'post_evar108_linkedin_elevate_seat_id',\n",
       "       'post_evar109_linkedin_elevate_topic_id',\n",
       "       'post_evar116_foresee_respondent_id',\n",
       "       'post_evar118_foresee_measure_ids', 'post_evar123_browser_id',\n",
       "       'post_evar135_swrve_user_id', 'post_evar137_s_fid',\n",
       "       'post_evar140_s_fid_with_timestamp', 'post_evar141_myxyz_userid_type',\n",
       "       'post_evar154_impersonation_msst_id', 'post_evar155_askb_cup_id',\n",
       "       'post_evar158_id_of_search_results', 'post_evar160_channel_id',\n",
       "       'post_evar161_client_id', 'post_evar166_psw_provider',\n",
       "       'post_evar174_syntheticid_no_defaults',\n",
       "       'post_evar180_ssky_video_variables',\n",
       "       'post_evar183_medicare_video_exists',\n",
       "       'post_evar185_redpoint_rpcontactid_visit',\n",
       "       'post_evar186_redpoint_workflowid_visit',\n",
       "       'post_evar187_redpoint_prefcentreid_visit',\n",
       "       'post_evar188_redpoint_rpcontactid_30_day',\n",
       "       'post_evar189_redpoint_workflowid_30_day',\n",
       "       'post_evar190_redpoint_prefcentreid_30_day',\n",
       "       'post_prop27_provider_news_article',\n",
       "       'post_prop28_provider_news_section', 'post_prop30_provider_alerts',\n",
       "       'post_prop35_video_name', 'post_prop48_bcvideo_account',\n",
       "       'post_prop49_bcvideo_player', 'post_prop50_bcvideo_player_name',\n",
       "       'post_prop51_bcvideo_platform_ver', 'post_prop52_bcvideo_session_',\n",
       "       'post_prop53_bcvideo_video', 'post_prop54_bcvideo_video_name',\n",
       "       'post_prop55_bcvideo_range', 'post_prop56_bcvideo_video_second',\n",
       "       'post_prop57_bcvideo_video_duration',\n",
       "       'post_prop58_bcvideo_video_percer', 'post_prop59_bcvideo_error_code',\n",
       "       'post_prop61_channel_id', 'post_visid_high', 'post_visid_low',\n",
       "       'va_closer_id', 'va_finder_id', 'visid_high', 'visid_low', 'visid_new',\n",
       "       'visid_timestamp'],\n",
       "      dtype='object')"
      ]
     },
     "execution_count": 4,
     "metadata": {},
     "output_type": "execute_result"
    }
   ],
   "source": [
    "df.columns[df.columns.str.lower().str.contains(\"id\")]"
   ]
  },
  {
   "cell_type": "code",
   "execution_count": 5,
   "id": "84183002",
   "metadata": {},
   "outputs": [
    {
     "data": {
      "text/plain": [
       "Index(['post_evar23_user_id', 'post_evar230', 'post_evar231', 'post_evar232',\n",
       "       'post_evar233', 'post_evar234', 'post_evar235', 'post_evar236',\n",
       "       'post_evar237', 'post_evar238', 'post_evar239'],\n",
       "      dtype='object')"
      ]
     },
     "execution_count": 5,
     "metadata": {},
     "output_type": "execute_result"
    }
   ],
   "source": [
    "df.columns[df.columns.str.lower().str.contains(\"evar23\")]"
   ]
  },
  {
   "cell_type": "markdown",
   "id": "79c2938e",
   "metadata": {},
   "source": [
    "As we can see there are not a specific column with the name Customer ID, I suppose that evar23 is related to the column *post_evar23_user_id*"
   ]
  },
  {
   "cell_type": "code",
   "execution_count": 6,
   "id": "c857dceb",
   "metadata": {},
   "outputs": [
    {
     "data": {
      "text/plain": [
       "post_evar23_user_id\n",
       "00f55f7d9f917b8cf1e1887922baa4eaa1a6ad82    129\n",
       "Name: count, dtype: int64"
      ]
     },
     "execution_count": 6,
     "metadata": {},
     "output_type": "execute_result"
    }
   ],
   "source": [
    "df.post_evar23_user_id.value_counts()"
   ]
  },
  {
   "cell_type": "code",
   "execution_count": 7,
   "id": "e79c9105",
   "metadata": {},
   "outputs": [
    {
     "data": {
      "text/plain": [
       "Index(['first_hit_page_url', 'first_hit_pagename', 'post_clickmappage',\n",
       "       'post_evar2_page_name', 'post_evar25_page_url',\n",
       "       'post_evar42_site_search_results_page_id',\n",
       "       'post_evar104_homepage_content_zones',\n",
       "       'post_evar105_homepage_content_positions',\n",
       "       'post_evar117_fad_homepage_text', 'post_page_event',\n",
       "       'post_page_event_var1', 'post_page_event_var2', 'post_page_event_var3',\n",
       "       'post_page_type', 'post_page_url', 'post_pagename_no_url',\n",
       "       'post_prop7_page_title', 'post_prop8_page_url',\n",
       "       'post_prop37_homepage_zone', 'post_prop38_homepage_position',\n",
       "       'post_prop39_fad_homepage_text', 'search_page_num', 'visit_page_num',\n",
       "       'visit_start_page_url', 'visit_start_pagename', 'post_pagename'],\n",
       "      dtype='object')"
      ]
     },
     "execution_count": 7,
     "metadata": {},
     "output_type": "execute_result"
    }
   ],
   "source": [
    "df.columns[df.columns.str.lower().str.contains(\"page\")]"
   ]
  },
  {
   "cell_type": "markdown",
   "id": "62d7bb70",
   "metadata": {},
   "source": [
    "Some of the columns that are interested to perform the analysis are:\n",
    "+ date_time\n",
    "+ post_evar23_user_id"
   ]
  },
  {
   "cell_type": "code",
   "execution_count": 8,
   "id": "aacf7036",
   "metadata": {},
   "outputs": [
    {
     "data": {
      "text/plain": [
       "<Axes: xlabel='date_time'>"
      ]
     },
     "execution_count": 8,
     "metadata": {},
     "output_type": "execute_result"
    },
    {
     "data": {
      "image/png": "[encoded data removed]",
      "text/plain": [
       "<Figure size 640x480 with 1 Axes>"
      ]
     },
     "metadata": {},
     "output_type": "display_data"
    }
   ],
   "source": [
    "df.date_time.value_counts().plot.bar()"
   ]
  },
  {
   "cell_type": "code",
   "execution_count": 9,
   "id": "2a3f5835",
   "metadata": {},
   "outputs": [
    {
     "data": {
      "text/plain": [
       "(129, 98)"
      ]
     },
     "execution_count": 9,
     "metadata": {},
     "output_type": "execute_result"
    }
   ],
   "source": [
    "df.select_dtypes(\"object\").shape"
   ]
  },
  {
   "cell_type": "code",
   "execution_count": 10,
   "id": "fffe7c5a",
   "metadata": {},
   "outputs": [
    {
     "data": {
      "text/plain": [
       "(129, 36)"
      ]
     },
     "execution_count": 10,
     "metadata": {},
     "output_type": "execute_result"
    }
   ],
   "source": [
    "df.select_dtypes(\"int\").shape"
   ]
  },
  {
   "cell_type": "markdown",
   "id": "24562bb9",
   "metadata": {},
   "source": [
    "*Preprocessing*"
   ]
  },
  {
   "cell_type": "code",
   "execution_count": 18,
   "id": "50c20a27",
   "metadata": {},
   "outputs": [
    {
     "data": {
      "text/html": [
       "<div>\n",
       "<style scoped>\n",
       "    .dataframe tbody tr th:only-of-type {\n",
       "        vertical-align: middle;\n",
       "    }\n",
       "\n",
       "    .dataframe tbody tr th {\n",
       "        vertical-align: top;\n",
       "    }\n",
       "\n",
       "    .dataframe thead th {\n",
       "        text-align: right;\n",
       "    }\n",
       "</style>\n",
       "<table border=\"1\" class=\"dataframe\">\n",
       "  <thead>\n",
       "    <tr style=\"text-align: right;\">\n",
       "      <th></th>\n",
       "      <th>date_time</th>\n",
       "      <th>post_page_event_var2</th>\n",
       "      <th>visit_start_pagename</th>\n",
       "    </tr>\n",
       "  </thead>\n",
       "  <tbody>\n",
       "    <tr>\n",
       "      <th>0</th>\n",
       "      <td>2022-02-02 10:32:00</td>\n",
       "      <td>MyXyz Web Promo Content</td>\n",
       "      <td>NaN</td>\n",
       "    </tr>\n",
       "    <tr>\n",
       "      <th>1</th>\n",
       "      <td>2022-02-02 10:33:00</td>\n",
       "      <td>NaN</td>\n",
       "      <td>NaN</td>\n",
       "    </tr>\n",
       "    <tr>\n",
       "      <th>2</th>\n",
       "      <td>2022-02-02 10:33:00</td>\n",
       "      <td>NaN</td>\n",
       "      <td>NaN</td>\n",
       "    </tr>\n",
       "    <tr>\n",
       "      <th>3</th>\n",
       "      <td>2022-02-02 10:33:00</td>\n",
       "      <td>NaN</td>\n",
       "      <td>NaN</td>\n",
       "    </tr>\n",
       "    <tr>\n",
       "      <th>4</th>\n",
       "      <td>2022-02-02 10:34:00</td>\n",
       "      <td>NaN</td>\n",
       "      <td>NaN</td>\n",
       "    </tr>\n",
       "  </tbody>\n",
       "</table>\n",
       "</div>"
      ],
      "text/plain": [
       "            date_time     post_page_event_var2 visit_start_pagename\n",
       "0 2022-02-02 10:32:00  MyXyz Web Promo Content                  NaN\n",
       "1 2022-02-02 10:33:00                      NaN                  NaN\n",
       "2 2022-02-02 10:33:00                      NaN                  NaN\n",
       "3 2022-02-02 10:33:00                      NaN                  NaN\n",
       "4 2022-02-02 10:34:00                      NaN                  NaN"
      ]
     },
     "execution_count": 18,
     "metadata": {},
     "output_type": "execute_result"
    }
   ],
   "source": [
    "df.loc[:,[\"date_time\",\"post_page_event_var2\", \"visit_start_pagename\"]].head()"
   ]
  },
  {
   "cell_type": "markdown",
   "id": "a91730ce",
   "metadata": {},
   "source": [
    "+ We can see that there some rows that include NaN, I am not going to take them during the process.\n",
    "+ the feature date_time was loaded as an object type, I am going to change it to datetime"
   ]
  },
  {
   "cell_type": "code",
   "execution_count": 19,
   "id": "dc50bcca",
   "metadata": {},
   "outputs": [],
   "source": [
    "df_two = df.loc[:,[\"date_time\",\"post_page_event_var2\", \"visit_start_pagename\"]].dropna().copy()\n",
    "df_two[\"date_time\"] = pd.to_datetime(df_two.date_time)"
   ]
  },
  {
   "cell_type": "code",
   "execution_count": 46,
   "id": "eb2b55c9",
   "metadata": {
    "scrolled": true
   },
   "outputs": [
    {
     "name": "stdout",
     "output_type": "stream",
     "text": [
      "2022-02-07 20:19:00\n",
      "2022-07-20 14:40:00\n"
     ]
    }
   ],
   "source": [
    "print(df_two[\"date_time\"].min())\n",
    "print(df_two[\"date_time\"].max())"
   ]
  },
  {
   "cell_type": "code",
   "execution_count": 35,
   "id": "c7a8c3d8",
   "metadata": {},
   "outputs": [],
   "source": [
    "import pandas as pd\n",
    "import networkx as nx\n",
    "\n",
    "\n",
    "G = nx.from_pandas_edgelist(df_two.dropna(), target='post_page_event_var2',\n",
    "                            source='visit_start_pagename',\n",
    "                           edge_attr=['date_time'],\n",
    "                           create_using= nx.MultiGraph())"
   ]
  },
  {
   "cell_type": "code",
   "execution_count": 41,
   "id": "e1aec0cb",
   "metadata": {},
   "outputs": [
    {
     "data": {
      "image/png": "[encoded data removed]",
      "text/plain": [
       "<Figure size 800x640 with 1 Axes>"
      ]
     },
     "metadata": {},
     "output_type": "display_data"
    }
   ],
   "source": [
    "from matplotlib.pyplot import figure\n",
    "\n",
    "figure(figsize=(10, 8), dpi=80)\n",
    "\n",
    "nx.draw_networkx(G, with_labels=True)"
   ]
  },
  {
   "cell_type": "code",
   "execution_count": 23,
   "id": "cfb13c93",
   "metadata": {},
   "outputs": [
    {
     "data": {
      "text/plain": [
       "post_page_event_var2\n",
       "FAD Search Results Displayed          16\n",
       "Promo View                            14\n",
       "FAD Doctor Profile View                8\n",
       "MyXyz Web Promo Content                3\n",
       "MyXyz Web Ask B Chat Available         2\n",
       "MyXyz Web Search Initiated             1\n",
       "MyXyz Web Search Results Click         1\n",
       "MyXyz Web Popular Search Initiated     1\n",
       "Close Modal (X) Clicks                 1\n",
       "Modal Continue Clicks                  1\n",
       "Name: count, dtype: int64"
      ]
     },
     "execution_count": 23,
     "metadata": {},
     "output_type": "execute_result"
    }
   ],
   "source": [
    "df_two.post_page_event_var2.value_counts()"
   ]
  },
  {
   "cell_type": "code",
   "execution_count": 22,
   "id": "4c592a90",
   "metadata": {},
   "outputs": [
    {
     "data": {
      "text/plain": [
       "visit_start_pagename\n",
       "MyXyz Web Public/myxyz-app    28\n",
       "MyXyz Web/login               20\n",
       "Name: count, dtype: int64"
      ]
     },
     "execution_count": 22,
     "metadata": {},
     "output_type": "execute_result"
    }
   ],
   "source": [
    "df_two.visit_start_pagename.value_counts()"
   ]
  },
  {
   "cell_type": "markdown",
   "id": "5cec9011",
   "metadata": {},
   "source": [
    "Thorugh the last plot we can see some interactions that the user had from 2022-02-07 to 2022-07-20. The top websites that were visited to the user are in the center of the plot and the others sites are more outside. \n"
   ]
  }
 ],
 "metadata": {
  "kernelspec": {
   "display_name": "Python 3 (ipykernel)",
   "language": "python",
   "name": "python3"
  },
  "language_info": {
   "codemirror_mode": {
    "name": "ipython",
    "version": 3
   },
   "file_extension": ".py",
   "mimetype": "text/x-python",
   "name": "python",
   "nbconvert_exporter": "python",
   "pygments_lexer": "ipython3",
   "version": "3.8.16"
  }
 },
 "nbformat": 4,
 "nbformat_minor": 5
}
