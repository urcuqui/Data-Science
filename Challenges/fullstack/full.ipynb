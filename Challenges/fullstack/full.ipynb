{
 "cells": [
  {
   "cell_type": "markdown",
   "id": "5f4a9545",
   "metadata": {},
   "source": [
    "# Challenge \n",
    "\n",
    "Create a machine-learning model that predicts the price range of a property based on the information available. The data set contains 10,000 rows (1 row for each property). After training, you should export your model (with all other components you might need) and deploy it into a function or app. "
   ]
  },
  {
   "cell_type": "code",
   "execution_count": 1,
   "id": "eaa33f18",
   "metadata": {},
   "outputs": [],
   "source": [
    "# libraries\n",
    "import pandas as pd\n",
    "import seaborn as sns\n",
    "import re"
   ]
  },
  {
   "cell_type": "code",
   "execution_count": 2,
   "id": "0ef5d874",
   "metadata": {},
   "outputs": [
    {
     "name": "stdout",
     "output_type": "stream",
     "text": [
      "                uid      latitude     longitude  garageSpaces     yearBuilt  \\\n",
      "count  10000.000000  10000.000000  10000.000000  10000.000000  10000.000000   \n",
      "mean    7626.621900     30.291191    -97.778476      1.229600   1988.570400   \n",
      "std     4380.486852      0.097075      0.084543      1.328179     21.515272   \n",
      "min        1.000000     30.085030    -98.020477      0.000000   1905.000000   \n",
      "25%     3838.750000     30.202516    -97.838594      0.000000   1975.000000   \n",
      "50%     7603.500000     30.283664    -97.769680      1.000000   1993.000000   \n",
      "75%    11435.750000     30.366375    -97.718313      2.000000   2006.000000   \n",
      "max    15170.000000     30.517323    -97.570633     22.000000   2020.000000   \n",
      "\n",
      "       numOfPatioAndPorchFeatures   lotSizeSqFt  avgSchoolRating  \\\n",
      "count                10000.000000  1.000000e+04     10000.000000   \n",
      "mean                     0.667200  2.071028e+04         5.766236   \n",
      "std                      0.986378  4.488338e+05         1.861940   \n",
      "min                      0.000000  1.000000e+02         2.333333   \n",
      "25%                      0.000000  6.534000e+03         4.000000   \n",
      "50%                      0.000000  8.189000e+03         5.666667   \n",
      "75%                      1.000000  1.089000e+04         7.000000   \n",
      "max                      8.000000  3.415452e+07         9.500000   \n",
      "\n",
      "       MedianStudentsPerTeacher  numOfBathrooms  numOfBedrooms  \n",
      "count              10000.000000    10000.000000   10000.000000  \n",
      "mean                  14.857700        2.692100       3.449200  \n",
      "std                    1.748473        0.979206       0.813441  \n",
      "min                   10.000000        1.000000       1.000000  \n",
      "25%                   14.000000        2.000000       3.000000  \n",
      "50%                   15.000000        3.000000       3.000000  \n",
      "75%                   16.000000        3.000000       4.000000  \n",
      "max                   19.000000       10.000000      10.000000  \n",
      "(10000, 16)\n"
     ]
    }
   ],
   "source": [
    "df = pd.read_csv(\"train.csv\")\n",
    "print(df.describe())\n",
    "print(df.shape)"
   ]
  },
  {
   "cell_type": "code",
   "execution_count": 3,
   "id": "2fbf0d01",
   "metadata": {},
   "outputs": [
    {
     "data": {
      "text/plain": [
       "uid                           0\n",
       "city                          0\n",
       "description                   1\n",
       "homeType                      0\n",
       "latitude                      0\n",
       "longitude                     0\n",
       "garageSpaces                  0\n",
       "hasSpa                        0\n",
       "yearBuilt                     0\n",
       "numOfPatioAndPorchFeatures    0\n",
       "lotSizeSqFt                   0\n",
       "avgSchoolRating               0\n",
       "MedianStudentsPerTeacher      0\n",
       "numOfBathrooms                0\n",
       "numOfBedrooms                 0\n",
       "priceRange                    0\n",
       "dtype: int64"
      ]
     },
     "execution_count": 3,
     "metadata": {},
     "output_type": "execute_result"
    }
   ],
   "source": [
    "df.isna().sum()"
   ]
  },
  {
   "cell_type": "code",
   "execution_count": 4,
   "id": "7b4deb89",
   "metadata": {},
   "outputs": [
    {
     "name": "stdout",
     "output_type": "stream",
     "text": [
      "0\n"
     ]
    }
   ],
   "source": [
    "print(df.duplicated().sum())"
   ]
  },
  {
   "cell_type": "markdown",
   "id": "0e95970b",
   "metadata": {},
   "source": [
    "Aditionally, walk us through your approach to applying NLP to our property dataset, specifically focusing on the description field. How you would preprocess the text and then proceed through feature extraction, integration with other features and model training,"
   ]
  },
  {
   "cell_type": "code",
   "execution_count": 5,
   "id": "c4c56a04",
   "metadata": {},
   "outputs": [
    {
     "name": "stdout",
     "output_type": "stream",
     "text": [
      "uid                             int64\n",
      "city                           object\n",
      "description                    object\n",
      "homeType                       object\n",
      "latitude                      float64\n",
      "longitude                     float64\n",
      "garageSpaces                    int64\n",
      "hasSpa                           bool\n",
      "yearBuilt                       int64\n",
      "numOfPatioAndPorchFeatures      int64\n",
      "lotSizeSqFt                   float64\n",
      "avgSchoolRating               float64\n",
      "MedianStudentsPerTeacher        int64\n",
      "numOfBathrooms                float64\n",
      "numOfBedrooms                   int64\n",
      "priceRange                     object\n",
      "dtype: object\n"
     ]
    }
   ],
   "source": [
    "print(df.dtypes)"
   ]
  },
  {
   "cell_type": "code",
   "execution_count": 6,
   "id": "faa86620",
   "metadata": {},
   "outputs": [
    {
     "data": {
      "text/plain": [
       "array(['650000+', '350000-450000', '0-250000', '450000-650000',\n",
       "       '250000-350000'], dtype=object)"
      ]
     },
     "execution_count": 6,
     "metadata": {},
     "output_type": "execute_result"
    }
   ],
   "source": [
    "df.priceRange.unique()"
   ]
  },
  {
   "cell_type": "code",
   "execution_count": 7,
   "id": "0ad72b9d",
   "metadata": {},
   "outputs": [
    {
     "data": {
      "text/plain": [
       "<Axes: ylabel='priceRange'>"
      ]
     },
     "execution_count": 7,
     "metadata": {},
     "output_type": "execute_result"
    },
    {
     "data": {
      "image/png": "[encoded data removed]",
      "text/plain": [
       "<Figure size 640x480 with 1 Axes>"
      ]
     },
     "metadata": {},
     "output_type": "display_data"
    }
   ],
   "source": [
    "sns.barplot(df.priceRange)"
   ]
  },
  {
   "cell_type": "code",
   "execution_count": 8,
   "id": "87b13870",
   "metadata": {},
   "outputs": [
    {
     "data": {
      "text/plain": [
       "(9999, 16)"
      ]
     },
     "execution_count": 8,
     "metadata": {},
     "output_type": "execute_result"
    }
   ],
   "source": [
    "df_two = df.dropna().copy()\n",
    "df_two.shape"
   ]
  },
  {
   "cell_type": "code",
   "execution_count": 9,
   "id": "7e6d906d",
   "metadata": {},
   "outputs": [
    {
     "data": {
      "text/plain": [
       "0    MULTIPLE OFFERS submit best & final to Agent b...\n",
       "1    4644 Hoffman Dr, Austin, TX 78749 is a single ...\n",
       "2    6804 Canal St, Austin, TX 78741 is a single fa...\n",
       "Name: description, dtype: object"
      ]
     },
     "execution_count": 9,
     "metadata": {},
     "output_type": "execute_result"
    }
   ],
   "source": [
    "df.description.head(3)"
   ]
  },
  {
   "cell_type": "code",
   "execution_count": 10,
   "id": "916f5601",
   "metadata": {},
   "outputs": [
    {
     "name": "stderr",
     "output_type": "stream",
     "text": [
      "[nltk_data] Downloading package punkt to /Users/curcuqui/nltk_data...\n",
      "[nltk_data]   Package punkt is already up-to-date!\n",
      "[nltk_data] Downloading package punkt_tab to\n",
      "[nltk_data]     /Users/curcuqui/nltk_data...\n",
      "[nltk_data]   Package punkt_tab is already up-to-date!\n",
      "[nltk_data] Downloading package stopwords to\n",
      "[nltk_data]     /Users/curcuqui/nltk_data...\n",
      "[nltk_data]   Package stopwords is already up-to-date!\n"
     ]
    },
    {
     "data": {
      "text/plain": [
       "True"
      ]
     },
     "execution_count": 10,
     "metadata": {},
     "output_type": "execute_result"
    }
   ],
   "source": [
    "import nltk\n",
    "\n",
    "# Download the necessary NLTK data files\n",
    "nltk.download(\"punkt\")\n",
    "nltk.download(\"punkt_tab\")\n",
    "nltk.download(\"stopwords\")"
   ]
  },
  {
   "cell_type": "code",
   "execution_count": 11,
   "id": "deafaa3d",
   "metadata": {},
   "outputs": [],
   "source": [
    "df_two[\"description\"] = df_two[\"description\"].str.lower()"
   ]
  },
  {
   "cell_type": "code",
   "execution_count": 12,
   "id": "e2985e6f",
   "metadata": {},
   "outputs": [
    {
     "data": {
      "text/plain": [
       "0    multiple offers submit best  final to agent by...\n",
       "1     hoffman dr austin tx  is a single family home...\n",
       "2     canal st austin tx  is a single family home t...\n",
       "Name: description, dtype: object"
      ]
     },
     "execution_count": 12,
     "metadata": {},
     "output_type": "execute_result"
    }
   ],
   "source": [
    "df_two[\"description\"] = df_two[\"description\"].apply(lambda x: re.sub(r\"[^a-z\\s$!]\", \"\", x))\n",
    "df_two.description.head(3)"
   ]
  },
  {
   "cell_type": "code",
   "execution_count": 13,
   "id": "bcff4af0",
   "metadata": {},
   "outputs": [],
   "source": [
    "from nltk.tokenize import word_tokenize\n",
    "\n",
    "df_two[\"description\"] = df_two[\"description\"].apply(word_tokenize)"
   ]
  },
  {
   "cell_type": "code",
   "execution_count": 14,
   "id": "985ca0fb",
   "metadata": {},
   "outputs": [
    {
     "name": "stdout",
     "output_type": "stream",
     "text": [
      "0    [multiple, offers, submit, best, final, to, ag...\n",
      "1    [hoffman, dr, austin, tx, is, a, single, famil...\n",
      "2    [canal, st, austin, tx, is, a, single, family,...\n",
      "3    [beautiful, large, lot, with, established, tre...\n",
      "4    [stunning, nw, hills, designer, remodel, by, c...\n",
      "Name: description, dtype: object\n"
     ]
    }
   ],
   "source": [
    "print(df_two[\"description\"].head(5))"
   ]
  },
  {
   "cell_type": "code",
   "execution_count": 15,
   "id": "6a02e22f",
   "metadata": {},
   "outputs": [],
   "source": [
    "from nltk.corpus import stopwords\n",
    "stop_words = set(stopwords.words(\"english\"))\n",
    "df_two[\"description\"] = df_two[\"description\"].apply(lambda x: [word for word in x if word not in stop_words])"
   ]
  },
  {
   "cell_type": "code",
   "execution_count": 16,
   "id": "efe06539",
   "metadata": {},
   "outputs": [
    {
     "name": "stdout",
     "output_type": "stream",
     "text": [
      "0    [multipl, offer, submit, best, final, agent, m...\n",
      "1    [hoffman, dr, austin, tx, singl, famili, home,...\n",
      "2    [canal, st, austin, tx, singl, famili, home, c...\n",
      "3    [beauti, larg, lot, establish, tree, love, lig...\n",
      "4    [stun, nw, hill, design, remodel, cedar, oak, ...\n",
      "Name: description, dtype: object\n"
     ]
    }
   ],
   "source": [
    "from nltk.stem import PorterStemmer\n",
    "# Stem each token to reduce words to their base form\n",
    "stemmer = PorterStemmer()\n",
    "df_two[\"description\"]= df_two[\"description\"].apply(lambda x: [stemmer.stem(word) for word in x])\n",
    "print(df_two[\"description\"].head(5))"
   ]
  },
  {
   "cell_type": "code",
   "execution_count": 17,
   "id": "af76fcb2",
   "metadata": {},
   "outputs": [],
   "source": [
    "# Rejoin tokens into a single string for feature extraction\n",
    "df_two[\"description\"] = df_two[\"description\"].apply(lambda x: \" \".join(x))"
   ]
  },
  {
   "cell_type": "code",
   "execution_count": 18,
   "id": "0d5e5a0e",
   "metadata": {},
   "outputs": [
    {
     "data": {
      "text/plain": [
       "0       multipl offer submit best final agent mon st p...\n",
       "1       hoffman dr austin tx singl famili home contain...\n",
       "2       canal st austin tx singl famili home contain s...\n",
       "3       beauti larg lot establish tree love light fill...\n",
       "4       stun nw hill design remodel cedar oak home won...\n",
       "                              ...                        \n",
       "9995    updat great hill opportun ! larg corner lot ma...\n",
       "9996    ador heart south austin ! situat larg corner l...\n",
       "9997    gain mill ln austin tx singl famili home conta...\n",
       "9998    doe valley ln austin tx singl famili home cont...\n",
       "9999    beauti singlestori home open floor plan great ...\n",
       "Name: description, Length: 9999, dtype: object"
      ]
     },
     "execution_count": 18,
     "metadata": {},
     "output_type": "execute_result"
    }
   ],
   "source": [
    "df_two[\"description\"] "
   ]
  },
  {
   "cell_type": "code",
   "execution_count": 19,
   "id": "9b760a8e",
   "metadata": {},
   "outputs": [],
   "source": [
    "from sklearn.feature_extraction.text import CountVectorizer\n",
    "\n",
    "# Initialize CountVectorizer with bigrams, min_df, and max_df to focus on relevant terms\n",
    "vectorizer = CountVectorizer(min_df=1, max_df=0.9, ngram_range=(1, 2))"
   ]
  },
  {
   "cell_type": "code",
   "execution_count": 20,
   "id": "a25aab1b",
   "metadata": {},
   "outputs": [
    {
     "data": {
      "text/plain": [
       "0    4\n",
       "1    2\n",
       "2    0\n",
       "3    0\n",
       "4    4\n",
       "Name: priceRange, dtype: int64"
      ]
     },
     "execution_count": 20,
     "metadata": {},
     "output_type": "execute_result"
    }
   ],
   "source": [
    "from sklearn.preprocessing import LabelEncoder\n",
    "\n",
    "# Crear una instancia de LabelEncoder\n",
    "label_encoder = LabelEncoder()\n",
    "\n",
    "# Convertir las categorías a valores numéricos\n",
    "df_two['priceRange'] = label_encoder.fit_transform(df_two['priceRange'])\n",
    "df_two['priceRange'].head(5)"
   ]
  },
  {
   "cell_type": "code",
   "execution_count": 21,
   "id": "c6d888e7",
   "metadata": {},
   "outputs": [
    {
     "name": "stdout",
     "output_type": "stream",
     "text": [
      "0-250000 => 0\n",
      "250000-350000 => 1\n",
      "350000-450000 => 2\n",
      "450000-650000 => 3\n",
      "650000+ => 4\n"
     ]
    }
   ],
   "source": [
    "for idx, clase in enumerate(label_encoder.classes_):\n",
    "    print(f\"{clase} => {idx}\")"
   ]
  },
  {
   "cell_type": "code",
   "execution_count": 39,
   "id": "77ff53a5",
   "metadata": {},
   "outputs": [],
   "source": [
    "# Fit and transform the message column\n",
    "X = vectorizer.fit_transform(df_two[\"description\"])\n",
    "y = df_two['priceRange']"
   ]
  },
  {
   "cell_type": "code",
   "execution_count": 47,
   "id": "053fd0ed",
   "metadata": {},
   "outputs": [],
   "source": [
    "from sklearn.model_selection import train_test_split\n",
    "\n",
    "X_train, X_test, y_train, y_test = train_test_split(\n",
    "    df_two[\"description\"], y, test_size=0.1, random_state=42  \n",
    ")"
   ]
  },
  {
   "cell_type": "code",
   "execution_count": 41,
   "id": "2f56d493",
   "metadata": {},
   "outputs": [],
   "source": [
    "from sklearn.model_selection import train_test_split, GridSearchCV\n",
    "from sklearn.naive_bayes import MultinomialNB\n",
    "from sklearn.pipeline import Pipeline\n",
    "\n",
    "# Build the pipeline by combining vectorization and classification\n",
    "pipeline = Pipeline([\n",
    "    (\"vectorizer\", vectorizer),\n",
    "    (\"classifier\", MultinomialNB())\n",
    "])"
   ]
  },
  {
   "cell_type": "code",
   "execution_count": 48,
   "id": "26b56e2a",
   "metadata": {},
   "outputs": [
    {
     "name": "stdout",
     "output_type": "stream",
     "text": [
      "Best model parameters: {'classifier__alpha': 0.1}\n"
     ]
    }
   ],
   "source": [
    "# Define the parameter grid for hyperparameter tuning\n",
    "param_grid = {\n",
    "    \"classifier__alpha\": [0.01, 0.1, 0.15, 0.2, 0.25, 0.5, 0.75, 1.0]\n",
    "}\n",
    "\n",
    "# Perform the grid search with 5-fold cross-validation and the F1-score as metric\n",
    "grid_search = GridSearchCV(\n",
    "    pipeline,\n",
    "    param_grid,\n",
    "    cv=10,\n",
    "    scoring=\"f1_macro\"\n",
    ")\n",
    "\n",
    "# Fit the grid search on the full dataset\n",
    "grid_search.fit(X_train, y_train)\n",
    "\n",
    "# Extract the best model identified by the grid search\n",
    "best_model = grid_search.best_estimator_\n",
    "print(\"Best model parameters:\", grid_search.best_params_)"
   ]
  },
  {
   "cell_type": "code",
   "execution_count": 49,
   "id": "8b959fe5",
   "metadata": {},
   "outputs": [],
   "source": [
    "X_new = best_model.named_steps[\"vectorizer\"].transform(X_test)\n",
    "y_pred = best_model.named_steps[\"classifier\"].predict(X_new)"
   ]
  },
  {
   "cell_type": "code",
   "execution_count": 50,
   "id": "59d985f6",
   "metadata": {},
   "outputs": [
    {
     "data": {
      "text/plain": [
       "<sklearn.metrics._plot.confusion_matrix.ConfusionMatrixDisplay at 0x174fd6850>"
      ]
     },
     "execution_count": 50,
     "metadata": {},
     "output_type": "execute_result"
    },
    {
     "data": {
      "image/png": "[encoded data removed]",
      "text/plain": [
       "<Figure size 640x480 with 2 Axes>"
      ]
     },
     "metadata": {},
     "output_type": "display_data"
    }
   ],
   "source": [
    "from sklearn.metrics import confusion_matrix, ConfusionMatrixDisplay\n",
    "\n",
    "# Generar la matriz de confusión\n",
    "cm = confusion_matrix(y_test, y_pred)\n",
    "\n",
    "# Visualizar la matriz de confusión\n",
    "disp = ConfusionMatrixDisplay(confusion_matrix=cm, display_labels=label_encoder.classes_)\n",
    "disp.plot(cmap=\"Blues\")"
   ]
  },
  {
   "cell_type": "code",
   "execution_count": 51,
   "id": "116fb9a5",
   "metadata": {},
   "outputs": [
    {
     "name": "stdout",
     "output_type": "stream",
     "text": [
      "Precisión (macro): 0.4432661133931739\n",
      "Recall (macro): 0.3902992500490353\n"
     ]
    }
   ],
   "source": [
    "from sklearn.metrics import precision_score, recall_score\n",
    "\n",
    "# Calcular precisión y recall\n",
    "precision = precision_score(y_test, y_pred, average='macro')  # Cambia 'macro' según lo que necesites\n",
    "recall = recall_score(y_test, y_pred, average='macro')\n",
    "\n",
    "print(\"Precisión (macro):\", precision)\n",
    "print(\"Recall (macro):\", recall)"
   ]
  },
  {
   "cell_type": "code",
   "execution_count": 52,
   "id": "bd9ebaf4",
   "metadata": {},
   "outputs": [
    {
     "name": "stdout",
     "output_type": "stream",
     "text": [
      "Model saved to full.joblib\n"
     ]
    }
   ],
   "source": [
    "import joblib\n",
    "\n",
    "# Save the trained model to a file for future use\n",
    "model_filename = 'full.joblib'\n",
    "joblib.dump(best_model, model_filename)\n",
    "\n",
    "print(f\"Model saved to {model_filename}\")"
   ]
  }
 ],
 "metadata": {
  "kernelspec": {
   "display_name": "Python 3",
   "language": "python",
   "name": "python3"
  },
  "language_info": {
   "codemirror_mode": {
    "name": "ipython",
    "version": 3
   },
   "file_extension": ".py",
   "mimetype": "text/x-python",
   "name": "python",
   "nbconvert_exporter": "python",
   "pygments_lexer": "ipython3",
   "version": "3.11.5"
  }
 },
 "nbformat": 4,
 "nbformat_minor": 5
}
