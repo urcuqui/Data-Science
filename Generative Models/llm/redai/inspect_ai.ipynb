{
 "cells": [
  {
   "cell_type": "code",
   "execution_count": 1,
   "id": "d76d030c-6e15-4345-b3da-8027fe5af135",
   "metadata": {},
   "outputs": [],
   "source": [
    "from inspect_ai import Task, eval, task\n",
    "from inspect_ai.dataset import example_dataset\n",
    "from inspect_ai.scorer import model_graded_fact\n",
    "from inspect_ai.solver import (               \n",
    "  chain_of_thought, generate, self_critique   \n",
    ")                                             \n",
    "\n",
    "@task\n",
    "def theory_of_mind():\n",
    "    return Task(\n",
    "        dataset=example_dataset(\"theory_of_mind\"),\n",
    "        plan=[\n",
    "          chain_of_thought(),\n",
    "          generate(),\n",
    "          self_critique()\n",
    "        ],\n",
    "        scorer=model_graded_fact()\n",
    "    )"
   ]
  },
  {
   "cell_type": "code",
   "execution_count": null,
   "id": "9645d120-de52-494d-8584-a3f87d28d117",
   "metadata": {},
   "outputs": [],
   "source": []
  }
 ],
 "metadata": {
  "kernelspec": {
   "display_name": "Python 3 (ipykernel)",
   "language": "python",
   "name": "python3"
  },
  "language_info": {
   "codemirror_mode": {
    "name": "ipython",
    "version": 3
   },
   "file_extension": ".py",
   "mimetype": "text/x-python",
   "name": "python",
   "nbconvert_exporter": "python",
   "pygments_lexer": "ipython3",
   "version": "3.12.2"
  }
 },
 "nbformat": 4,
 "nbformat_minor": 5
}
