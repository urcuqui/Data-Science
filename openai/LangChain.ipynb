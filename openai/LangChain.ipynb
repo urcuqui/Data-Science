{
 "cells": [
  {
   "cell_type": "code",
   "execution_count": 3,
   "id": "debb1eef",
   "metadata": {},
   "outputs": [],
   "source": [
    "import openai"
   ]
  },
  {
   "cell_type": "code",
   "execution_count": 18,
   "id": "017a89e1",
   "metadata": {},
   "outputs": [],
   "source": [
    "# key_g = \"\"\n",
    "# key_i = \"\"\n",
    "# openai.api_key = key_g"
   ]
  },
  {
   "cell_type": "markdown",
   "id": "5feb5585",
   "metadata": {},
   "source": [
    "## Document Loading"
   ]
  },
  {
   "cell_type": "code",
   "execution_count": 19,
   "id": "0a919090",
   "metadata": {},
   "outputs": [],
   "source": [
    "from langchain.document_loaders import PyPDFLoader"
   ]
  },
  {
   "cell_type": "code",
   "execution_count": 20,
   "id": "0507c32d",
   "metadata": {},
   "outputs": [],
   "source": [
    "loader_one = PyPDFLoader(\"test.pdf\")"
   ]
  },
  {
   "cell_type": "code",
   "execution_count": 21,
   "id": "df75fd8a",
   "metadata": {},
   "outputs": [],
   "source": [
    "pages = loader_one.load()"
   ]
  },
  {
   "cell_type": "code",
   "execution_count": 22,
   "id": "71444c37",
   "metadata": {},
   "outputs": [
    {
     "data": {
      "text/plain": [
       "3"
      ]
     },
     "execution_count": 22,
     "metadata": {},
     "output_type": "execute_result"
    }
   ],
   "source": [
    "len(pages)"
   ]
  },
  {
   "cell_type": "code",
   "execution_count": 23,
   "id": "71b67d5a",
   "metadata": {},
   "outputs": [],
   "source": [
    "page = pages[0]"
   ]
  },
  {
   "cell_type": "code",
   "execution_count": 24,
   "id": "4d4fb468",
   "metadata": {},
   "outputs": [
    {
     "data": {
      "text/plain": [
       "{'source': 'test.pdf', 'page': 0}"
      ]
     },
     "execution_count": 24,
     "metadata": {},
     "output_type": "execute_result"
    }
   ],
   "source": [
    "page.metadata"
   ]
  },
  {
   "cell_type": "code",
   "execution_count": 25,
   "id": "13203302",
   "metadata": {},
   "outputs": [
    {
     "data": {
      "text/plain": [
       "'itization, multiple ways of attacking\\nthrough code have emerged. Allowing cybercriminals to access\\nconfidential information, impersonate identities, steal money,\\naccess databases, among others. Our project approaches the 3 of\\n10 vulnerabilities identified by OWASP as the most recognized\\nand usual in web applications, to identify and evaluate them at\\nthe JavaScript code level. For this, a machine learning model was\\nproposed, detecting the frequency of occurrence of a word with\\nthe identified vulnerability; resulting in a model with an accuracy\\nof 89%. Finally, an extension was implemented in Visual Studio\\nCode to read in real time the code that the person is writing in\\norder to identify which vulnerabilities it has.\\nIndex Terms —OWASP, Front-End Vulnerabilities, Machine\\nLearning, Artificial Intelligence.\\nI. INTRODUCTION\\nFront-End developers do not have enough tools that en-\\ncompass the complex diversity of cybersecurity challenges.\\nPart of that inadequacy comes from current frameworks a'"
      ]
     },
     "execution_count": 25,
     "metadata": {},
     "output_type": "execute_result"
    }
   ],
   "source": [
    "page.page_content[500:1500]"
   ]
  },
  {
   "cell_type": "code",
   "execution_count": 1,
   "id": "478f6ecb",
   "metadata": {},
   "outputs": [],
   "source": [
    "from langchain.document_loaders.generic import GenericLoader\n",
    "from langchain.document_loaders.parsers import OpenAIWhisperParser\n",
    "from langchain.document_loaders.blob_loaders.youtube_audio import YoutubeAudioLoader"
   ]
  },
  {
   "cell_type": "markdown",
   "id": "1f1994fa",
   "metadata": {},
   "source": [
    "Pay attention that we have a limitation of requests using openai. The next request will cost USD $0.76"
   ]
  },
  {
   "cell_type": "code",
   "execution_count": 8,
   "id": "fc4cef73",
   "metadata": {},
   "outputs": [
    {
     "name": "stdout",
     "output_type": "stream",
     "text": [
      "[youtube] Extracting URL: https://youtu.be/_kr-XOeZmW4\n",
      "[youtube] _kr-XOeZmW4: Downloading webpage\n",
      "[youtube] _kr-XOeZmW4: Downloading ios player API JSON\n",
      "[youtube] _kr-XOeZmW4: Downloading android player API JSON\n",
      "[youtube] _kr-XOeZmW4: Downloading m3u8 information\n",
      "[youtube] _kr-XOeZmW4: Downloading MPD manifest\n",
      "[info] _kr-XOeZmW4: Downloading 1 format(s): 140\n",
      "[download] ytcracker - enter my world (produced by amplitude problem).m4a has already been downloaded\n",
      "[download] 100% of    2.98MiB\n",
      "[ExtractAudio] Not converting audio ytcracker - enter my world (produced by amplitude problem).m4a; file is already in target format m4a\n",
      "Transcribing part 1!\n"
     ]
    }
   ],
   "source": [
    "url = \"https://youtu.be/_kr-XOeZmW4\"\n",
    "loader = GenericLoader(\n",
    "    YoutubeAudioLoader([url],\".\"),\n",
    "    OpenAIWhisperParser())\n",
    "docs = loader.load()\n"
   ]
  },
  {
   "cell_type": "code",
   "execution_count": 17,
   "id": "76453b84",
   "metadata": {},
   "outputs": [
    {
     "data": {
      "text/plain": [
       "\"BASS BOOSTED MUSIC Look around what do you see, couple handfuls of hackers with their black hat mentality Most of us got records cause we feel compelled to flex All compulsion for these systems that we probably born to wreck My respect to my hackahgotten ex Hacking our election process like a boss bitch This type of terrorism really look terrible Ain't no bloodshed, nobody countin' for some barrels Had a few here, so check a few there Load up all your Twitter bots, I'll teach a crew there They're the marmade, foldin' up the shop origami Diamond, betting on the horses, betting on the jockeys Unh, unh, unh, unh Stick a fork in a book, a process, stick a fork in em Database pushed right to the open Google dork in em, stick a fork in a book, a process, stick a fork in em End of my world, there's no bake as it look There's dark artists doing modesty, no page in the book Can teach you anything, we learn it, no mistake and we cook And we be chopping up the blades like a fleet of Chinooks And our weaponry is definitely our de Cetrellis We ain't gotta roll a bunch of tanks and tan em down these streets We just roll a couple T-Stokes on these Proggies, push release And we're live, puttin' ties on the menu from the beast End of my world, there's no bake as it look There's dark artists doing modesty, no page in the book Can teach you anything, we learn it, no mistake and we cook And we be chopping up the blades like a fleet of Chinooks And our weaponry is definitely our de Cetrellis We ain't gotta roll a bunch of tanks and tan em down these streets We just roll a couple T-Stokes on these Proggies, push release And we're live, puttin' ties on the menu from the beast Been preparing helly years, mind you say it From the globe, it been sharpenin' the spears All my peers knew the battleground was shifting From the barrels of these smokers to an internet of things Spoofing packets of my toasters on the public, stay complicit Every time that player visits to my malware I'm racking up them digits and these kids are getting sick with it The targets are ubiquitous, you pick what he say Nicholas, my hackers with the impetus 169-254, that's a stranger, confidential Straight out the front door, let em know From the surface, I'm an execution sucia The views adore the stucia, I be Gina Lucia Welcome to my world, I'm a global god incarnate Any network, put a posse in my home where young is on it And it's curtains, grab your nuts and take a seat up at my table Where the wireless and cable, I've been hacking since the cradle Creep ya herd, end of my world, as opaque as it looks This art is true and modest, ain't no page in the books Can teach you anything, we learn it, no mistake and we cook And we be chopping up the blades like a fleet of Chinooks And our weaponry is definitely our de Cetrellis We ain't gotta roll a bunch of tanks and tear them down to streets We just load a couple of V-Troops on these proggies, push release And put live food and ties on the menu, fuck your feast End of my world, as opaque as it looks This art is true and modest, ain't no page in the books Can teach you anything, we learn it, no mistake and we cook And we be chopping up the blades like a fleet of Chinooks And our weaponry is definitely our de Cetrellis We ain't gotta roll a bunch of tanks and tear them down to streets We just load a couple of V-Troops on these proggies, push release And put live food and ties on the menu, fuck your feast\""
      ]
     },
     "execution_count": 17,
     "metadata": {},
     "output_type": "execute_result"
    }
   ],
   "source": [
    "docs[0].page_content"
   ]
  },
  {
   "cell_type": "code",
   "execution_count": null,
   "id": "a15ff304",
   "metadata": {},
   "outputs": [],
   "source": [
    "from langchain.document_loaders import NotionDirectoryLoader\n",
    "loader = NotionDirectoryLoader(\"document\")\n",
    "docs = loader.load()\n",
    "docs[0].page_content[:200]"
   ]
  },
  {
   "cell_type": "markdown",
   "id": "94cff4af",
   "metadata": {},
   "source": [
    "## Document Splitting"
   ]
  },
  {
   "cell_type": "code",
   "execution_count": 28,
   "id": "63e74fd4",
   "metadata": {},
   "outputs": [],
   "source": [
    "from langchain.text_splitter import CharacterTextSplitter\n",
    "text_splitter = CharacterTextSplitter(\n",
    "    separator = \"\\n\",\n",
    "    chunk_size = 1000,\n",
    "    chunk_overlap = 150,\n",
    "    length_function=len\n",
    ")"
   ]
  },
  {
   "cell_type": "code",
   "execution_count": 43,
   "id": "b100a466",
   "metadata": {},
   "outputs": [],
   "source": [
    "from langchain.text_splitter import TokenTextSplitter\n",
    "\n",
    "text_splitter = TokenTextSplitter(chunk_size=1, chunk_overlap=0)"
   ]
  },
  {
   "cell_type": "code",
   "execution_count": 47,
   "id": "23109a18",
   "metadata": {},
   "outputs": [
    {
     "data": {
      "text/plain": [
       "['B',\n",
       " 'ASS',\n",
       " ' B',\n",
       " 'OO',\n",
       " 'ST',\n",
       " 'ED',\n",
       " ' MUS',\n",
       " 'IC',\n",
       " ' Look',\n",
       " ' around',\n",
       " ' what',\n",
       " ' do',\n",
       " ' you',\n",
       " ' see',\n",
       " ',',\n",
       " ' couple',\n",
       " ' handful',\n",
       " 's',\n",
       " ' of',\n",
       " ' hackers']"
      ]
     },
     "execution_count": 47,
     "metadata": {},
     "output_type": "execute_result"
    }
   ],
   "source": [
    "text_splitter.split_text(docs[0].page_content)[:20]"
   ]
  },
  {
   "cell_type": "code",
   "execution_count": 44,
   "id": "fed53ca0",
   "metadata": {},
   "outputs": [],
   "source": [
    "docs_splits = text_splitter.split_documents(docs)"
   ]
  },
  {
   "cell_type": "code",
   "execution_count": 49,
   "id": "18574be3",
   "metadata": {},
   "outputs": [
    {
     "data": {
      "text/plain": [
       "[Document(page_content='C', metadata={'source': 'test.pdf', 'page': 0}),\n",
       " Document(page_content='ognitive', metadata={'source': 'test.pdf', 'page': 0}),\n",
       " Document(page_content=' Solution', metadata={'source': 'test.pdf', 'page': 0}),\n",
       " Document(page_content=' for', metadata={'source': 'test.pdf', 'page': 0})]"
      ]
     },
     "execution_count": 49,
     "metadata": {},
     "output_type": "execute_result"
    }
   ],
   "source": [
    "text_splitter.split_documents(pages)[:4]"
   ]
  },
  {
   "cell_type": "code",
   "execution_count": 37,
   "id": "6291af02",
   "metadata": {},
   "outputs": [
    {
     "name": "stdout",
     "output_type": "stream",
     "text": [
      "1\n",
      "1\n"
     ]
    }
   ],
   "source": [
    "print(len(docs))\n",
    "print(len(docs_splits))"
   ]
  },
  {
   "cell_type": "code",
   "execution_count": 8,
   "id": "80ef64cb",
   "metadata": {},
   "outputs": [],
   "source": [
    "from langchain.embeddings.openai import OpenAIEmbeddings\n",
    "import os\n",
    "import openai\n",
    "from langchain.document_loaders import PyPDFLoader"
   ]
  },
  {
   "cell_type": "code",
   "execution_count": 10,
   "id": "c7205233",
   "metadata": {},
   "outputs": [],
   "source": [
    "loaders = [\n",
    "    PyPDFLoader(\"test.pdf\"),\n",
    "    PyPDFLoader(\"semi-automated.pdf\")\n",
    "]\n",
    "docs = []\n",
    "for loader in loaders:\n",
    "    docs.extend(loader.load())"
   ]
  },
  {
   "cell_type": "code",
   "execution_count": 13,
   "id": "9f46d361",
   "metadata": {},
   "outputs": [],
   "source": [
    "# Split\n",
    "from langchain.text_splitter import RecursiveCharacterTextSplitter\n",
    "text_splitter = RecursiveCharacterTextSplitter(\n",
    "    chunk_size = 1500,\n",
    "    chunk_overlap = 150\n",
    ")"
   ]
  },
  {
   "cell_type": "code",
   "execution_count": 14,
   "id": "4cd50408",
   "metadata": {},
   "outputs": [],
   "source": [
    "splits = text_splitter.split_documents(docs)"
   ]
  },
  {
   "cell_type": "code",
   "execution_count": 15,
   "id": "a83f1fb3",
   "metadata": {},
   "outputs": [
    {
     "data": {
      "text/plain": [
       "88"
      ]
     },
     "execution_count": 15,
     "metadata": {},
     "output_type": "execute_result"
    }
   ],
   "source": [
    "len(splits)"
   ]
  },
  {
   "cell_type": "markdown",
   "id": "16eeb260",
   "metadata": {},
   "source": [
    "### Embeddings"
   ]
  },
  {
   "cell_type": "code",
   "execution_count": 19,
   "id": "e6bd1bee",
   "metadata": {},
   "outputs": [],
   "source": [
    "openai.api_key = key_g"
   ]
  },
  {
   "cell_type": "code",
   "execution_count": 24,
   "id": "d9765e4d",
   "metadata": {},
   "outputs": [],
   "source": [
    "embedding = OpenAIEmbeddings(openai_api_key=key_g)"
   ]
  },
  {
   "cell_type": "code",
   "execution_count": 25,
   "id": "ca9dd631",
   "metadata": {},
   "outputs": [],
   "source": [
    "sentence1 = \"i like dogs\"\n",
    "sentence2 = \"i like canines\"\n",
    "sentence3 = \"the weather is ugly outside\"\n",
    "\n",
    "embedding1 = embedding.embed_query(sentence1)\n",
    "embedding2 = embedding.embed_query(sentence2)\n",
    "embedding3 = embedding.embed_query(sentence3)"
   ]
  },
  {
   "cell_type": "code",
   "execution_count": 26,
   "id": "f98f5ccc",
   "metadata": {},
   "outputs": [],
   "source": [
    "import numpy as np"
   ]
  },
  {
   "cell_type": "code",
   "execution_count": 27,
   "id": "471e54ca",
   "metadata": {},
   "outputs": [
    {
     "data": {
      "text/plain": [
       "0.963208056126645"
      ]
     },
     "execution_count": 27,
     "metadata": {},
     "output_type": "execute_result"
    }
   ],
   "source": [
    "np.dot(embedding1, embedding2)"
   ]
  },
  {
   "cell_type": "code",
   "execution_count": 28,
   "id": "2845ef35",
   "metadata": {},
   "outputs": [
    {
     "data": {
      "text/plain": [
       "0.7596001131741936"
      ]
     },
     "execution_count": 28,
     "metadata": {},
     "output_type": "execute_result"
    }
   ],
   "source": [
    "np.dot(embedding2, embedding3)"
   ]
  },
  {
   "cell_type": "code",
   "execution_count": 29,
   "id": "3b984113",
   "metadata": {},
   "outputs": [
    {
     "data": {
      "text/plain": [
       "0.7709997651294672"
      ]
     },
     "execution_count": 29,
     "metadata": {},
     "output_type": "execute_result"
    }
   ],
   "source": [
    "np.dot(embedding1, embedding3)"
   ]
  },
  {
   "cell_type": "markdown",
   "id": "2218e501",
   "metadata": {},
   "source": [
    "## Vectorstores"
   ]
  },
  {
   "cell_type": "code",
   "execution_count": null,
   "id": "c0215611",
   "metadata": {},
   "outputs": [],
   "source": []
  }
 ],
 "metadata": {
  "kernelspec": {
   "display_name": "Python 3 (ipykernel)",
   "language": "python",
   "name": "python3"
  },
  "language_info": {
   "codemirror_mode": {
    "name": "ipython",
    "version": 3
   },
   "file_extension": ".py",
   "mimetype": "text/x-python",
   "name": "python",
   "nbconvert_exporter": "python",
   "pygments_lexer": "ipython3",
   "version": "3.11.4"
  }
 },
 "nbformat": 4,
 "nbformat_minor": 5
}
