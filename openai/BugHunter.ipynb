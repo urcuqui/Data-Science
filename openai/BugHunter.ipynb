{
 "cells": [
  {
   "cell_type": "code",
   "execution_count": 2,
   "id": "b041205e",
   "metadata": {},
   "outputs": [],
   "source": [
    "import os\n",
    "import openai\n",
    "openai.api_key = os.environ['OPENAI_API_KEY']"
   ]
  },
  {
   "cell_type": "code",
   "execution_count": 8,
   "id": "185a6685",
   "metadata": {},
   "outputs": [],
   "source": [
    "import os\n",
    "import openai\n",
    "\n",
    "openai.api_key = os.getenv(\"OPENAI_API_KEY\")\n",
    "\n",
    "response = openai.Completion.create(\n",
    "  model=\"text-davinci-003\",\n",
    "  prompt=\"##### Fix bugs in the below function\\n \\n### Buggy Python\\nimport Random\\na = random.randint(1,12)\\nb = random.randint(1,12)\\nfor i in range(10):\\n    question = \\\"What is \\\"+a+\\\" x \\\"+b+\\\"? \\\"\\n    answer = input(question)\\n    if answer = a*b\\n        print (Well done!)\\n    else:\\n        print(\\\"No.\\\")\\n    \\n### Fixed Python\",\n",
    "  temperature=0,\n",
    "  max_tokens=182,\n",
    "  top_p=1,\n",
    "  frequency_penalty=0,\n",
    "  presence_penalty=0,\n",
    "  stop=[\"###\"]\n",
    ")"
   ]
  },
  {
   "cell_type": "code",
   "execution_count": 9,
   "id": "d61eec70",
   "metadata": {},
   "outputs": [
    {
     "data": {
      "text/plain": [
       "<OpenAIObject text_completion id=cmpl-7cE1CJR55VKKalM4fN69SoSDAS3MS at 0x206b0b7bf50> JSON: {\n",
       "  \"id\": \"cmpl-7cE1CJR55VKKalM4fN69SoSDAS3MS\",\n",
       "  \"object\": \"text_completion\",\n",
       "  \"created\": 1689344706,\n",
       "  \"model\": \"text-davinci-003\",\n",
       "  \"choices\": [\n",
       "    {\n",
       "      \"text\": \"\\nimport random\\na = random.randint(1,12)\\nb = random.randint(1,12)\\nfor i in range(10):\\n    question = \\\"What is \\\"+str(a)+\\\" x \\\"+str(b)+\\\"? \\\"\\n    answer = int(input(question))\\n    if answer == a*b:\\n        print (\\\"Well done!\\\")\\n    else:\\n        print(\\\"No.\\\")\",\n",
       "      \"index\": 0,\n",
       "      \"logprobs\": null,\n",
       "      \"finish_reason\": \"stop\"\n",
       "    }\n",
       "  ],\n",
       "  \"usage\": {\n",
       "    \"prompt_tokens\": 106,\n",
       "    \"completion_tokens\": 93,\n",
       "    \"total_tokens\": 199\n",
       "  }\n",
       "}"
      ]
     },
     "execution_count": 9,
     "metadata": {},
     "output_type": "execute_result"
    }
   ],
   "source": [
    "response"
   ]
  },
  {
   "cell_type": "code",
   "execution_count": 10,
   "id": "167a0362",
   "metadata": {},
   "outputs": [],
   "source": [
    "def get_completion(prompt, model=\"text-davinci-003\"):\n",
    "    messages = [{\"role\": \"user\", \"content\": prompt}]\n",
    "    response = openai.Completion.create(\n",
    "        model=model,\n",
    "        temperature=0,\n",
    "        max_tokens=182,\n",
    "        top_p=1,\n",
    "        frequency_penalty=0.0,\n",
    "        presence_penalty=0.0,\n",
    "        stop=[\"###\"]\n",
    "    )\n",
    "    return response\n"
   ]
  },
  {
   "cell_type": "code",
   "execution_count": 11,
   "id": "12fdb552",
   "metadata": {},
   "outputs": [],
   "source": [
    "prompt = \"##### Fix bugs in the below function\\n \\n### Buggy Python\\nimport Random\\na = random.randint(1,12)\\nb = random.randint(1,12)\\nfor i in range(10):\\n    question = \\\"What is \\\"+a+\\\" x \\\"+b+\\\"? \\\"\\n    answer = input(question)\\n    if answer = a*b\\n        print (Well done!)\\n    else:\\n        print(\\\"No.\\\")\\n    \\n### Fixed Python\","
   ]
  },
  {
   "cell_type": "code",
   "execution_count": 12,
   "id": "1fbe3a20",
   "metadata": {},
   "outputs": [],
   "source": [
    "response = get_completion(prompt)"
   ]
  },
  {
   "cell_type": "code",
   "execution_count": 13,
   "id": "b3bf7163",
   "metadata": {},
   "outputs": [
    {
     "data": {
      "text/plain": [
       "<OpenAIObject text_completion id=cmpl-7cE5pdL9M5wASJU2OLSUqrC92ghCT at 0x206b0bd0dd0> JSON: {\n",
       "  \"id\": \"cmpl-7cE5pdL9M5wASJU2OLSUqrC92ghCT\",\n",
       "  \"object\": \"text_completion\",\n",
       "  \"created\": 1689344993,\n",
       "  \"model\": \"text-davinci-003\",\n",
       "  \"choices\": [\n",
       "    {\n",
       "      \"text\": \"package com.example.demo.controller;\\n\\nimport com.example.demo.model.User;\\nimport com.example.demo.service.UserService;\\nimport org.springframework.beans.factory.annotation.Autowired;\\nimport org.springframework.web.bind.annotation.*;\\n\\nimport java.util.List;\\n\\n@RestController\\n@RequestMapping(\\\"/user\\\")\\npublic class UserController {\\n\\n    @Autowired\\n    private UserService userService;\\n\\n    @GetMapping(\\\"/all\\\")\\n    public List<User> getAllUsers(){\\n        return userService.getAllUsers();\\n    }\\n\\n    @PostMapping(\\\"/add\\\")\\n    public void addUser(@RequestBody User user){\\n        userService.addUser(user);\",\n",
       "      \"index\": 0,\n",
       "      \"logprobs\": null,\n",
       "      \"finish_reason\": \"length\"\n",
       "    }\n",
       "  ],\n",
       "  \"usage\": {\n",
       "    \"prompt_tokens\": 1,\n",
       "    \"completion_tokens\": 182,\n",
       "    \"total_tokens\": 183\n",
       "  }\n",
       "}"
      ]
     },
     "execution_count": 13,
     "metadata": {},
     "output_type": "execute_result"
    }
   ],
   "source": [
    "response"
   ]
  },
  {
   "cell_type": "code",
   "execution_count": 7,
   "id": "e7189d38",
   "metadata": {},
   "outputs": [
    {
     "data": {
      "text/plain": [
       "'package com.example.demo.controller;\\n\\nimport com.example.demo.model.User;\\nimport com.example.demo.service.UserService;\\nimport org.springframework.beans.factory.annotation.Autowired;\\nimport org.springframework.web.bind.annotation.*;\\n\\nimport java.util.List;\\n\\n@RestController\\n@RequestMapping(\"/user\")\\npublic class UserController {\\n\\n    @Autowired\\n    private UserService userService;\\n\\n    @GetMapping(\"/all\")\\n    public List<User> getAllUsers(){\\n        return userService.getAllUsers();\\n    }\\n\\n    @PostMapping(\"/add\")\\n    public void addUser(@RequestBody User user){\\n        userService.addUser(user);'"
      ]
     },
     "execution_count": 7,
     "metadata": {},
     "output_type": "execute_result"
    }
   ],
   "source": [
    "response[\"choices\"][0][\"text\"]"
   ]
  },
  {
   "cell_type": "code",
   "execution_count": null,
   "id": "ae791c88",
   "metadata": {},
   "outputs": [],
   "source": []
  }
 ],
 "metadata": {
  "kernelspec": {
   "display_name": "Python 3 (ipykernel)",
   "language": "python",
   "name": "python3"
  },
  "language_info": {
   "codemirror_mode": {
    "name": "ipython",
    "version": 3
   },
   "file_extension": ".py",
   "mimetype": "text/x-python",
   "name": "python",
   "nbconvert_exporter": "python",
   "pygments_lexer": "ipython3",
   "version": "3.11.4"
  }
 },
 "nbformat": 4,
 "nbformat_minor": 5
}
