{
 "cells": [
  {
   "cell_type": "markdown",
   "id": "0b2d1e7f",
   "metadata": {},
   "source": [
    "Notes from the time sires course from Kaggle"
   ]
  },
  {
   "cell_type": "code",
   "execution_count": 2,
   "id": "7123aa53",
   "metadata": {},
   "outputs": [],
   "source": [
    "import pandas as pd"
   ]
  },
  {
   "cell_type": "code",
   "execution_count": 3,
   "id": "8e4c8460",
   "metadata": {},
   "outputs": [
    {
     "data": {
      "text/html": [
       "<div>\n",
       "<style scoped>\n",
       "    .dataframe tbody tr th:only-of-type {\n",
       "        vertical-align: middle;\n",
       "    }\n",
       "\n",
       "    .dataframe tbody tr th {\n",
       "        vertical-align: top;\n",
       "    }\n",
       "\n",
       "    .dataframe thead th {\n",
       "        text-align: right;\n",
       "    }\n",
       "</style>\n",
       "<table border=\"1\" class=\"dataframe\">\n",
       "  <thead>\n",
       "    <tr style=\"text-align: right;\">\n",
       "      <th></th>\n",
       "      <th>Hardcover</th>\n",
       "    </tr>\n",
       "    <tr>\n",
       "      <th>Date</th>\n",
       "      <th></th>\n",
       "    </tr>\n",
       "  </thead>\n",
       "  <tbody>\n",
       "    <tr>\n",
       "      <th>2000-04-01</th>\n",
       "      <td>139</td>\n",
       "    </tr>\n",
       "    <tr>\n",
       "      <th>2000-04-02</th>\n",
       "      <td>128</td>\n",
       "    </tr>\n",
       "    <tr>\n",
       "      <th>2000-04-03</th>\n",
       "      <td>172</td>\n",
       "    </tr>\n",
       "    <tr>\n",
       "      <th>2000-04-04</th>\n",
       "      <td>139</td>\n",
       "    </tr>\n",
       "    <tr>\n",
       "      <th>2000-04-05</th>\n",
       "      <td>191</td>\n",
       "    </tr>\n",
       "  </tbody>\n",
       "</table>\n",
       "</div>"
      ],
      "text/plain": [
       "            Hardcover\n",
       "Date                 \n",
       "2000-04-01        139\n",
       "2000-04-02        128\n",
       "2000-04-03        172\n",
       "2000-04-04        139\n",
       "2000-04-05        191"
      ]
     },
     "execution_count": 3,
     "metadata": {},
     "output_type": "execute_result"
    }
   ],
   "source": [
    "df = pd.read_csv(\n",
    "    \"book_sales.csv\",\n",
    "    index_col='Date',\n",
    "    parse_dates=['Date'], \n",
    ").drop('Paperback', axis=1)\n",
    "\n",
    "df.head()"
   ]
  },
  {
   "cell_type": "code",
   "execution_count": 4,
   "id": "f00bdf29",
   "metadata": {},
   "outputs": [
    {
     "data": {
      "text/plain": [
       "DatetimeIndex(['2000-04-01', '2000-04-02', '2000-04-03', '2000-04-04',\n",
       "               '2000-04-05', '2000-04-06', '2000-04-07', '2000-04-08',\n",
       "               '2000-04-09', '2000-04-10', '2000-04-11', '2000-04-12',\n",
       "               '2000-04-13', '2000-04-14', '2000-04-15', '2000-04-16',\n",
       "               '2000-04-17', '2000-04-18', '2000-04-19', '2000-04-20',\n",
       "               '2000-04-21', '2000-04-22', '2000-04-23', '2000-04-24',\n",
       "               '2000-04-25', '2000-04-26', '2000-04-27', '2000-04-28',\n",
       "               '2000-04-29', '2000-04-30'],\n",
       "              dtype='datetime64[ns]', name='Date', freq=None)"
      ]
     },
     "execution_count": 4,
     "metadata": {},
     "output_type": "execute_result"
    }
   ],
   "source": [
    "df.index"
   ]
  },
  {
   "cell_type": "markdown",
   "id": "b303a917",
   "metadata": {},
   "source": [
    "This series records the number of hardcover book sales at a retail store over 30 days. Notice that we have a single column of observations Hardcover with a time index Date."
   ]
  },
  {
   "cell_type": "markdown",
   "id": "fc32e32c",
   "metadata": {},
   "source": [
    "### Linear regression"
   ]
  },
  {
   "cell_type": "markdown",
   "id": "0df4df99",
   "metadata": {},
   "source": [
    "The linear regression algorithm learns how to make a weighted sum from its input features. For two features, we would have:\n",
    "\n",
    "```\n",
    "target = weight_1 * feature_1 + weight_2 * feature_2 + bias\n",
    "```\n",
    "\n",
    "During training, the regression algorithm learns values for the parameters `weight_1`, `weight_2`, and `bias` that best fit the target. (This algorithm is often called ordinary least squares since it chooses values that **minimize the squared error** between the target and the predictions.) **The weights** are also called *regression coefficients* and the **bias** is also called the *intercept* because it tells you where the graph of this function crosses the y-axis."
   ]
  }
 ],
 "metadata": {
  "kernelspec": {
   "display_name": "Python 3 (ipykernel)",
   "language": "python",
   "name": "python3"
  },
  "language_info": {
   "codemirror_mode": {
    "name": "ipython",
    "version": 3
   },
   "file_extension": ".py",
   "mimetype": "text/x-python",
   "name": "python",
   "nbconvert_exporter": "python",
   "pygments_lexer": "ipython3",
   "version": "3.11.4"
  }
 },
 "nbformat": 4,
 "nbformat_minor": 5
}
