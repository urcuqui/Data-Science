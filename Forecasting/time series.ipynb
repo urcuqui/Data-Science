{
 "cells": [
  {
   "cell_type": "markdown",
   "id": "6ea0e8ed",
   "metadata": {},
   "source": [
    "Notes from the time sires course from Kaggle"
   ]
  },
  {
   "cell_type": "code",
   "execution_count": 2,
   "id": "f0829c33",
   "metadata": {},
   "outputs": [],
   "source": [
    "import pandas as pd"
   ]
  },
  {
   "cell_type": "code",
   "execution_count": 3,
   "id": "a220c870",
   "metadata": {},
   "outputs": [
    {
     "data": {
      "text/html": [
       "<div>\n",
       "<style scoped>\n",
       "    .dataframe tbody tr th:only-of-type {\n",
       "        vertical-align: middle;\n",
       "    }\n",
       "\n",
       "    .dataframe tbody tr th {\n",
       "        vertical-align: top;\n",
       "    }\n",
       "\n",
       "    .dataframe thead th {\n",
       "        text-align: right;\n",
       "    }\n",
       "</style>\n",
       "<table border=\"1\" class=\"dataframe\">\n",
       "  <thead>\n",
       "    <tr style=\"text-align: right;\">\n",
       "      <th></th>\n",
       "      <th>Hardcover</th>\n",
       "    </tr>\n",
       "    <tr>\n",
       "      <th>Date</th>\n",
       "      <th></th>\n",
       "    </tr>\n",
       "  </thead>\n",
       "  <tbody>\n",
       "    <tr>\n",
       "      <th>2000-04-01</th>\n",
       "      <td>139</td>\n",
       "    </tr>\n",
       "    <tr>\n",
       "      <th>2000-04-02</th>\n",
       "      <td>128</td>\n",
       "    </tr>\n",
       "    <tr>\n",
       "      <th>2000-04-03</th>\n",
       "      <td>172</td>\n",
       "    </tr>\n",
       "    <tr>\n",
       "      <th>2000-04-04</th>\n",
       "      <td>139</td>\n",
       "    </tr>\n",
       "    <tr>\n",
       "      <th>2000-04-05</th>\n",
       "      <td>191</td>\n",
       "    </tr>\n",
       "  </tbody>\n",
       "</table>\n",
       "</div>"
      ],
      "text/plain": [
       "            Hardcover\n",
       "Date                 \n",
       "2000-04-01        139\n",
       "2000-04-02        128\n",
       "2000-04-03        172\n",
       "2000-04-04        139\n",
       "2000-04-05        191"
      ]
     },
     "execution_count": 3,
     "metadata": {},
     "output_type": "execute_result"
    }
   ],
   "source": [
    "df = pd.read_csv(\n",
    "    \"book_sales.csv\",\n",
    "    index_col='Date',\n",
    "    parse_dates=['Date'], \n",
    ").drop('Paperback', axis=1)\n",
    "\n",
    "df.head()"
   ]
  },
  {
   "cell_type": "code",
   "execution_count": 4,
   "id": "b64bd781",
   "metadata": {},
   "outputs": [
    {
     "data": {
      "text/plain": [
       "DatetimeIndex(['2000-04-01', '2000-04-02', '2000-04-03', '2000-04-04',\n",
       "               '2000-04-05', '2000-04-06', '2000-04-07', '2000-04-08',\n",
       "               '2000-04-09', '2000-04-10', '2000-04-11', '2000-04-12',\n",
       "               '2000-04-13', '2000-04-14', '2000-04-15', '2000-04-16',\n",
       "               '2000-04-17', '2000-04-18', '2000-04-19', '2000-04-20',\n",
       "               '2000-04-21', '2000-04-22', '2000-04-23', '2000-04-24',\n",
       "               '2000-04-25', '2000-04-26', '2000-04-27', '2000-04-28',\n",
       "               '2000-04-29', '2000-04-30'],\n",
       "              dtype='datetime64[ns]', name='Date', freq=None)"
      ]
     },
     "execution_count": 4,
     "metadata": {},
     "output_type": "execute_result"
    }
   ],
   "source": [
    "df.index"
   ]
  },
  {
   "cell_type": "markdown",
   "id": "a7d09c9f",
   "metadata": {},
   "source": [
    "This series records the number of hardcover book sales at a retail store over 30 days. Notice that we have a single column of observations Hardcover with a time index Date."
   ]
  },
  {
   "cell_type": "markdown",
   "id": "534b6e91",
   "metadata": {},
   "source": [
    "### Linear regression"
   ]
  },
  {
   "cell_type": "markdown",
   "id": "0acefe02",
   "metadata": {},
   "source": [
    "The linear regression algorithm learns how to make a weighted sum from its input features. For two features, we would have:\n",
    "\n",
    "```\n",
    "target = weight_1 * feature_1 + weight_2 * feature_2 + bias\n",
    "```\n",
    "\n",
    "During training, the regression algorithm learns values for the parameters `weight_1`, `weight_2`, and `bias` that best fit the target. (This algorithm is often called ordinary least squares since it chooses values that **minimize the squared error** between the target and the predictions.) **The weights** are also called *regression coefficients* and the **bias** is also called the *intercept* because it tells you where the graph of this function crosses the y-axis."
   ]
  },
  {
   "cell_type": "markdown",
   "id": "36b35036",
   "metadata": {},
   "source": [
    "There are two kinds of features unique to time series: time-step features and lag features. Time-step features are features we can derive directly from the time index. \n",
    "+ The most basic time-step feature is the time dummy, which counts off time steps in the series from beginning to end."
   ]
  },
  {
   "cell_type": "code",
   "execution_count": 5,
   "id": "66bf40dc",
   "metadata": {},
   "outputs": [
    {
     "data": {
      "text/html": [
       "<div>\n",
       "<style scoped>\n",
       "    .dataframe tbody tr th:only-of-type {\n",
       "        vertical-align: middle;\n",
       "    }\n",
       "\n",
       "    .dataframe tbody tr th {\n",
       "        vertical-align: top;\n",
       "    }\n",
       "\n",
       "    .dataframe thead th {\n",
       "        text-align: right;\n",
       "    }\n",
       "</style>\n",
       "<table border=\"1\" class=\"dataframe\">\n",
       "  <thead>\n",
       "    <tr style=\"text-align: right;\">\n",
       "      <th></th>\n",
       "      <th>Hardcover</th>\n",
       "      <th>Time</th>\n",
       "    </tr>\n",
       "    <tr>\n",
       "      <th>Date</th>\n",
       "      <th></th>\n",
       "      <th></th>\n",
       "    </tr>\n",
       "  </thead>\n",
       "  <tbody>\n",
       "    <tr>\n",
       "      <th>2000-04-01</th>\n",
       "      <td>139</td>\n",
       "      <td>0</td>\n",
       "    </tr>\n",
       "    <tr>\n",
       "      <th>2000-04-02</th>\n",
       "      <td>128</td>\n",
       "      <td>1</td>\n",
       "    </tr>\n",
       "    <tr>\n",
       "      <th>2000-04-03</th>\n",
       "      <td>172</td>\n",
       "      <td>2</td>\n",
       "    </tr>\n",
       "    <tr>\n",
       "      <th>2000-04-04</th>\n",
       "      <td>139</td>\n",
       "      <td>3</td>\n",
       "    </tr>\n",
       "    <tr>\n",
       "      <th>2000-04-05</th>\n",
       "      <td>191</td>\n",
       "      <td>4</td>\n",
       "    </tr>\n",
       "  </tbody>\n",
       "</table>\n",
       "</div>"
      ],
      "text/plain": [
       "            Hardcover  Time\n",
       "Date                       \n",
       "2000-04-01        139     0\n",
       "2000-04-02        128     1\n",
       "2000-04-03        172     2\n",
       "2000-04-04        139     3\n",
       "2000-04-05        191     4"
      ]
     },
     "execution_count": 5,
     "metadata": {},
     "output_type": "execute_result"
    }
   ],
   "source": [
    "import numpy as np\n",
    "\n",
    "df['Time'] = np.arange(len(df.index))\n",
    "\n",
    "df.head()"
   ]
  },
  {
   "cell_type": "markdown",
   "id": "69095ec5",
   "metadata": {},
   "source": [
    "Linear regression with the time dummy produces the model:\n",
    "\n"
   ]
  }
 ],
 "metadata": {
  "kernelspec": {
   "display_name": "Python 3 (ipykernel)",
   "language": "python",
   "name": "python3"
  },
  "language_info": {
   "codemirror_mode": {
    "name": "ipython",
    "version": 3
   },
   "file_extension": ".py",
   "mimetype": "text/x-python",
   "name": "python",
   "nbconvert_exporter": "python",
   "pygments_lexer": "ipython3",
   "version": "3.11.4"
  }
 },
 "nbformat": 4,
 "nbformat_minor": 5
}
